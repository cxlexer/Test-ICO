{
 "cells": [
  {
   "cell_type": "code",
   "execution_count": 1,
   "metadata": {},
   "outputs": [],
   "source": [
    "from bs4 import BeautifulSoup as bs"
   ]
  },
  {
   "cell_type": "code",
   "execution_count": 2,
   "metadata": {},
   "outputs": [],
   "source": [
    "import json\n",
    "import numpy as np\n",
    "import requests\n",
    "import pandas as pd\n",
    "from bs4 import BeautifulSoup as bs"
   ]
  },
  {
   "cell_type": "code",
   "execution_count": 3,
   "metadata": {},
   "outputs": [],
   "source": [
    "RAW_DATA_FILEPATH = '/users/eric/PycharmProjects/testico/api_data.json'\n",
    "URL_FILEPATH = '/users/eric/PycharmProjects/testico/ico_urls.txt'\n",
    "TOKEN_FILE = '/users/eric/PycharmProjects/testico/token.csv'\n",
    "FULLDATA_FILE = '/users/eric/PycharmProjects/testico/fulldata.csv'\n",
    "NUMERICAL_DATA_FILE = '/users/eric/PycharmProjects/testico/full_num.csv'\n",
    "TEXT_DATA_FILE = '/users/eric/PycharmProjects/testico/textfeature_dataframe.csv'\n",
    "URL_COPY_FILEPATH = '/users/eric/PycharmProjects/testico/ico_urls copy.txt'"
   ]
  },
  {
   "cell_type": "code",
   "execution_count": null,
   "metadata": {},
   "outputs": [],
   "source": [
    "with open('example.html', encoding='latin-1') as f: \n",
    "    data = f.read() "
   ]
  },
  {
   "cell_type": "code",
   "execution_count": null,
   "metadata": {},
   "outputs": [],
   "source": [
    "get_github_link(data)"
   ]
  },
  {
   "cell_type": "code",
   "execution_count": null,
   "metadata": {},
   "outputs": [],
   "source": []
  },
  {
   "cell_type": "code",
   "execution_count": null,
   "metadata": {},
   "outputs": [],
   "source": [
    "data =  bs(data, 'html.parser')"
   ]
  },
  {
   "cell_type": "code",
   "execution_count": null,
   "metadata": {},
   "outputs": [],
   "source": [
    "data_body = data.body"
   ]
  },
  {
   "cell_type": "code",
   "execution_count": null,
   "metadata": {},
   "outputs": [],
   "source": []
  },
  {
   "cell_type": "code",
   "execution_count": null,
   "metadata": {},
   "outputs": [],
   "source": [
    "html = data_body.find_all(\"div\", class_=\"col-xs-6 col-md-9\")"
   ]
  },
  {
   "cell_type": "code",
   "execution_count": null,
   "metadata": {},
   "outputs": [],
   "source": []
  },
  {
   "cell_type": "code",
   "execution_count": null,
   "metadata": {},
   "outputs": [],
   "source": []
  },
  {
   "cell_type": "code",
   "execution_count": null,
   "metadata": {},
   "outputs": [],
   "source": [
    "icon = html[0]\n"
   ]
  },
  {
   "cell_type": "code",
   "execution_count": null,
   "metadata": {},
   "outputs": [],
   "source": [
    "icon = icon.contents\n",
    "icon"
   ]
  },
  {
   "cell_type": "code",
   "execution_count": null,
   "metadata": {},
   "outputs": [],
   "source": [
    "link = [item for item in icon if not item == '\\n']"
   ]
  },
  {
   "cell_type": "code",
   "execution_count": null,
   "metadata": {},
   "outputs": [],
   "source": [
    "link = []"
   ]
  },
  {
   "cell_type": "code",
   "execution_count": null,
   "metadata": {},
   "outputs": [],
   "source": [
    "for item in icon:\n",
    "    if not item == '\\n':\n",
    "        link.append(item)\n"
   ]
  },
  {
   "cell_type": "code",
   "execution_count": null,
   "metadata": {},
   "outputs": [],
   "source": [
    "hello = link[0]"
   ]
  },
  {
   "cell_type": "code",
   "execution_count": null,
   "metadata": {},
   "outputs": [],
   "source": [
    "hello"
   ]
  },
  {
   "cell_type": "code",
   "execution_count": null,
   "metadata": {},
   "outputs": [],
   "source": []
  },
  {
   "cell_type": "code",
   "execution_count": null,
   "metadata": {},
   "outputs": [],
   "source": [
    "hello.get('href')"
   ]
  },
  {
   "cell_type": "code",
   "execution_count": null,
   "metadata": {},
   "outputs": [],
   "source": [
    "linktxt=[]\n",
    "for xx in link:\n",
    "    bb = xx.get('href')\n",
    "    linktxt.append(bb)\n",
    "linktxt"
   ]
  },
  {
   "cell_type": "code",
   "execution_count": null,
   "metadata": {},
   "outputs": [],
   "source": [
    "for xx in linktxt:\n",
    "    if 'github' in xx:\n",
    "        print('Yes')"
   ]
  },
  {
   "cell_type": "code",
   "execution_count": null,
   "metadata": {},
   "outputs": [],
   "source": [
    "web =  data_body.find_all(\"div\", class_=\"col-xs-6 col-md-6\")[1].contents\n"
   ]
  },
  {
   "cell_type": "code",
   "execution_count": null,
   "metadata": {},
   "outputs": [],
   "source": []
  },
  {
   "cell_type": "code",
   "execution_count": null,
   "metadata": {},
   "outputs": [],
   "source": [
    "web"
   ]
  },
  {
   "cell_type": "code",
   "execution_count": null,
   "metadata": {},
   "outputs": [],
   "source": [
    "website=[ii for ii in web if not ii == '\\n']"
   ]
  },
  {
   "cell_type": "code",
   "execution_count": null,
   "metadata": {},
   "outputs": [],
   "source": [
    "website"
   ]
  },
  {
   "cell_type": "code",
   "execution_count": null,
   "metadata": {},
   "outputs": [],
   "source": [
    "websitelink = []\n",
    "for tag in website:\n",
    "    tagg = tag.get('href')\n",
    "    websitelink.append(tagg)"
   ]
  },
  {
   "cell_type": "code",
   "execution_count": null,
   "metadata": {},
   "outputs": [],
   "source": [
    "websitelink\n"
   ]
  },
  {
   "cell_type": "code",
   "execution_count": null,
   "metadata": {},
   "outputs": [],
   "source": []
  },
  {
   "cell_type": "code",
   "execution_count": null,
   "metadata": {},
   "outputs": [],
   "source": [
    "def get_github_link(html):\n",
    "    html1 = bs(html, 'html.parser')\n",
    "    html_body = html1.body\n",
    "    html2 = html_body.find_all(\"div\", class_=\"col-xs-6 col-md-9\")\n",
    "    icon = html2[0]\n",
    "    icon1 = icon.contents\n",
    "    link = [item for item in icon1 if not item == '\\n']\n",
    "    linktxt= []\n",
    "    for xx in link:\n",
    "        bb = xx.get('href')\n",
    "        linktxt.append(bb)\n",
    "    \n",
    "    for xx in linktxt:\n",
    "        if 'github' in xx:\n",
    "            return xx\n",
    "    \n",
    "    return None\n",
    " "
   ]
  },
  {
   "cell_type": "code",
   "execution_count": null,
   "metadata": {},
   "outputs": [],
   "source": [
    "def get_webpage_link(html):\n",
    "    html1 = bs(html, 'html.parser')\n",
    "    html_body = html1.body\n",
    "    html2 = html_body.find_all(\n",
    "        \"div\", class_=\"col-xs-6 col-md-6\")[1].contents\n",
    "    website = [ii for ii in  if not ii == '\\n'][0]\n",
    "    return website.get('href')\n"
   ]
  },
  {
   "cell_type": "code",
   "execution_count": null,
   "metadata": {},
   "outputs": [],
   "source": [
    "get_webpage_link(data)"
   ]
  },
  {
   "cell_type": "code",
   "execution_count": null,
   "metadata": {},
   "outputs": [],
   "source": [
    "get_github_link(data_body)"
   ]
  },
  {
   "cell_type": "code",
   "execution_count": null,
   "metadata": {},
   "outputs": [],
   "source": [
    "\n",
    "\n",
    "def get_webpage_link(html_body):\n",
    "\n",
    "    html = html_body.find_all(\"div\", class_=\"col-xs-6 col-md-6\")\n",
    "    if len(html) == 0:\n",
    "        return None\n",
    "    html2 = html[1]\n",
    "    html3 = html2.contents\n",
    "    website = [ii for ii in html3 if not ii == '\\n'][0]\n",
    "    weblink = website.get('href')\n",
    "    return weblink\n",
    "\n",
    "\n",
    "def get_github_link(html_body):\n",
    "\n",
    "    html2 = html_body.find_all(\"div\", class_=\"col-xs-6 col-md-9\")\n",
    "    if len(html2) == 0:\n",
    "        return None\n",
    "    icon = html2[0]\n",
    "    icon1 = icon.contents\n",
    "    link = [item for item in icon1 if not item == '\\n']\n",
    "    linktxt = []\n",
    "    for xx in link:\n",
    "        bb = xx.get('href')\n",
    "        linktxt.append(bb)\n",
    "\n",
    "    for xx in linktxt:\n",
    "        if 'github' in xx:\n",
    "            return xx\n",
    "\n",
    "    return None\n",
    "\n",
    "\n",
    "\n",
    "\n",
    "with open(URL_FILEPATH, 'r') as f:\n",
    "    urls = f.readlines()\n",
    "\n",
    "urls = [url.strip('\\n') for url in urls]\n",
    "results = []\n",
    "for url in urls:\n",
    "    html = requests.get(url)\n",
    "    htmltxt = bs(html.text, 'html.parser')\n",
    "    htmlbody = htmltxt.body\n",
    "    heads = htmlbody.find_all(\"div\", class_=\"col-xs-6 col-md-3\")[2:]\n",
    "    heads = [head.text.strip().split('\\n')[0] for head in heads]\n",
    "    datas = htmlbody.find_all(\"div\", class_=\"col-xs-6 col-md-9\")[2:]\n",
    "    datas = [data.text.strip().split('\\n')[0] for data in datas]\n",
    "    ico_results = list(zip(heads, datas))\n",
    "    \n",
    "    \n",
    "    github_link = get_github_link(htmlbody)\n",
    "    website_link = get_webpage_link(htmlbody)\n",
    "     \n",
    "    ico_results.append(('Github URL', github_link))\n",
    "    ico_results.append(('Official Website', website_link))\n",
    "\n",
    "    results.append(ico_results)\n",
    "\n",
    "\n"
   ]
  },
  {
   "cell_type": "code",
   "execution_count": null,
   "metadata": {},
   "outputs": [],
   "source": [
    "results[0]"
   ]
  },
  {
   "cell_type": "code",
   "execution_count": null,
   "metadata": {},
   "outputs": [],
   "source": [
    "results[1]"
   ]
  },
  {
   "cell_type": "code",
   "execution_count": null,
   "metadata": {},
   "outputs": [],
   "source": [
    "final_results = []\n",
    "for result in results:\n",
    "    dict_result = {key: value for (key, value) in result}\n",
    "    final_results.append(dict_result)\n",
    "\n",
    "for idx, url in enumerate(urls):\n",
    "    name = url.split('/')[-1]\n",
    "    final_results[idx]['name'] = name\n",
    "    final_results[idx]['url'] = url\n",
    "\n",
    "df = pd.DataFrame(final_results)\n",
    "# df.to_csv('token.csv', index=False)\n",
    "#df.to_csv('token_new.csv', index=False)\n",
    "#df.to_csv(TOKEN_FILE, index=False)\n",
    "\n",
    "# scraped_data = pd.read_csv(TOKEN_FILE)\n",
    "# with open(RAW_DATA_FILEPATH, 'r') as f:\n",
    "#     api_data = json.load(f)\n",
    "# api_data = api_data['ico']['finished']\n",
    "# api_df = pd.DataFrame(api_data)\n",
    "#\n",
    "# api_df.rename(columns={'all_time_roi': 'ROI', 'coin_symbol': 'Coin Symbol', 'icowatchlist_url': 'url'},\n",
    "#               inplace=True)\n",
    "# cols_to_use = api_df.columns.difference(scraped_data.columns)\n",
    "#\n",
    "# fulldata = pd.merge(scraped_data, api_df[cols_to_use], left_index=True, right_index=True, how='outer')\n",
    "# fulldata.to_csv(FULLDATA_FILE)\n",
    "#\n",
    "\n"
   ]
  },
  {
   "cell_type": "code",
   "execution_count": null,
   "metadata": {},
   "outputs": [],
   "source": []
  },
  {
   "cell_type": "code",
   "execution_count": null,
   "metadata": {},
   "outputs": [],
   "source": [
    "df\n"
   ]
  },
  {
   "cell_type": "code",
   "execution_count": null,
   "metadata": {},
   "outputs": [],
   "source": [
    "df.count()"
   ]
  },
  {
   "cell_type": "code",
   "execution_count": null,
   "metadata": {},
   "outputs": [],
   "source": [
    "full = pd.read_csv(FULLDATA_FILE, index_col=0 )"
   ]
  },
  {
   "cell_type": "code",
   "execution_count": null,
   "metadata": {},
   "outputs": [],
   "source": [
    "full."
   ]
  },
  {
   "cell_type": "code",
   "execution_count": null,
   "metadata": {},
   "outputs": [],
   "source": [
    "full.dropna(subset=['Github URL'], inplace=True)"
   ]
  },
  {
   "cell_type": "code",
   "execution_count": null,
   "metadata": {},
   "outputs": [],
   "source": [
    "full"
   ]
  },
  {
   "cell_type": "code",
   "execution_count": 7,
   "metadata": {},
   "outputs": [],
   "source": [
    "\n",
    "githtml = requests.get('https://github.com/DigixGlobal/solidity-collections-library')"
   ]
  },
  {
   "cell_type": "code",
   "execution_count": 8,
   "metadata": {},
   "outputs": [],
   "source": [
    "githtmltxt = bs(githtml.text, 'html.parser')"
   ]
  },
  {
   "cell_type": "code",
   "execution_count": 34,
   "metadata": {},
   "outputs": [
    {
     "data": {
      "text/plain": [
       "bs4.BeautifulSoup"
      ]
     },
     "execution_count": 34,
     "metadata": {},
     "output_type": "execute_result"
    }
   ],
   "source": [
    "type(githtmltxt)"
   ]
  },
  {
   "cell_type": "code",
   "execution_count": 20,
   "metadata": {},
   "outputs": [],
   "source": [
    "githtmlbody = githtmltxt.body"
   ]
  },
  {
   "cell_type": "code",
   "execution_count": 38,
   "metadata": {
    "scrolled": false
   },
   "outputs": [
    {
     "name": "stdout",
     "output_type": "stream",
     "text": [
      "<body class=\"logged-out env-production min-width-lg\">\n",
      "<div class=\"position-relative js-header-wrapper \">\n",
      "<a class=\"px-2 py-4 bg-blue text-white show-on-focus js-skip-to-content\" href=\"#start-of-content\" tabindex=\"1\">Skip to content</a>\n",
      "<div class=\"pjax-loader-bar\" id=\"js-pjax-loader-bar\"><div class=\"progress\"></div></div>\n",
      "<header class=\"Header-old header-logged-out position-relative f4 py-2\" role=\"banner\">\n",
      "<div class=\"container-lg d-flex px-3\">\n",
      "<div class=\"d-flex flex-justify-between flex-items-center\">\n",
      "<a aria-label=\"Homepage\" class=\"mr-4\" data-ga-click=\"(Logged out) Header, go to homepage, icon:logo-wordmark\" href=\"https://github.com/\">\n",
      "<svg aria-hidden=\"true\" class=\"octicon octicon-mark-github text-white\" height=\"32\" version=\"1.1\" viewbox=\"0 0 16 16\" width=\"32\"><path d=\"M8 0C3.58 0 0 3.58 0 8c0 3.54 2.29 6.53 5.47 7.59.4.07.55-.17.55-.38 0-.19-.01-.82-.01-1.49-2.01.37-2.53-.49-2.69-.94-.09-.23-.48-.94-.82-1.13-.28-.15-.68-.52-.01-.53.63-.01 1.08.58 1.23.82.72 1.21 1.87.87 2.33.66.07-.52.28-.87.51-1.07-1.78-.2-3.64-.89-3.64-3.95 0-.87.31-1.59.82-2.15-.08-.2-.36-1.02.08-2.12 0 0 .67-.21 2.2.82.64-.18 1.32-.27 2-.27.68 0 1.36.09 2 .27 1.53-1.04 2.2-.82 2.2-.82.44 1.1.16 1.92.08 2.12.51.56.82 1.27.82 2.15 0 3.07-1.87 3.75-3.65 3.95.29.25.54.73.54 1.48 0 1.07-.01 1.93-.01 2.2 0 .21.15.46.55.38A8.013 8.013 0 0 0 16 8c0-4.42-3.58-8-8-8z\" fill-rule=\"evenodd\"></path></svg>\n",
      "</a>\n",
      "</div>\n",
      "<div class=\"HeaderMenu HeaderMenu--logged-out d-flex flex-justify-between flex-items-center flex-auto\">\n",
      "<div class=\"d-none\">\n",
      "<button aria-expanded=\"false\" aria-label=\"Toggle navigation\" class=\"btn-link js-details-target\" type=\"button\">\n",
      "<svg aria-hidden=\"true\" class=\"octicon octicon-x text-gray\" height=\"24\" version=\"1.1\" viewbox=\"0 0 12 16\" width=\"18\"><path d=\"M7.48 8l3.75 3.75-1.48 1.48L6 9.48l-3.75 3.75-1.48-1.48L4.52 8 .77 4.25l1.48-1.48L6 6.52l3.75-3.75 1.48 1.48L7.48 8z\" fill-rule=\"evenodd\"></path></svg>\n",
      "</button>\n",
      "</div>\n",
      "<nav aria-label=\"Global\" class=\"mt-0\">\n",
      "<ul class=\"d-flex list-style-none\">\n",
      "<li class=\" mr-3 mr-lg-3 edge-item-fix position-relative flex-wrap flex-justify-between d-flex flex-items-center \">\n",
      "<details class=\"HeaderMenu-details details-overlay details-reset width-full\">\n",
      "<summary class=\"HeaderMenu-summary HeaderMenu-link px-0 py-3 border-0 no-wrap d-inline-block\">\n",
      "                    Why GitHub?\n",
      "                    <svg class=\"icon-chevon-down-mktg position-relative\" fill=\"none\" viewbox=\"0 0 14 8\" x=\"0px\" xml:space=\"preserve\" y=\"0px\">\n",
      "<path d=\"M1,1l6.2,6L13,1\"></path>\n",
      "</svg>\n",
      "</summary>\n",
      "<div class=\"dropdown-menu flex-auto rounded-1 bg-white px-0 mt-0 p-4 left-n4 position-absolute\">\n",
      "<a class=\"py-2 lh-condensed-ultra d-block link-gray-dark no-underline h5 Bump-link--hover\" data-ga-click=\"(Logged out) Header, go to Features\" href=\"/features\">Features <span class=\"Bump-link-symbol float-right text-normal text-gray-light\">→</span></a>\n",
      "<ul class=\"list-style-none f5 pb-3\">\n",
      "<li class=\"edge-item-fix\"><a class=\"py-2 lh-condensed-ultra d-block link-gray no-underline f5\" data-ga-click=\"(Logged out) Header, go to Code review\" href=\"/features/code-review/\">Code review</a></li>\n",
      "<li class=\"edge-item-fix\"><a class=\"py-2 lh-condensed-ultra d-block link-gray no-underline f5\" data-ga-click=\"(Logged out) Header, go to Project management\" href=\"/features/project-management/\">Project management</a></li>\n",
      "<li class=\"edge-item-fix\"><a class=\"py-2 lh-condensed-ultra d-block link-gray no-underline f5\" data-ga-click=\"(Logged out) Header, go to Integrations\" href=\"/features/integrations\">Integrations</a></li>\n",
      "<li class=\"edge-item-fix\"><a class=\"py-2 lh-condensed-ultra d-block link-gray no-underline f5\" data-ga-click=\"(Logged out) Header, go to Actions\" href=\"/features/actions\">Actions</a>\n",
      "<li class=\"edge-item-fix\"><a class=\"py-2 lh-condensed-ultra d-block link-gray no-underline f5\" data-ga-click=\"(Logged out) Header, go to Package Registry\" href=\"/features/package-registry\">Package registry</a>\n",
      "<li class=\"edge-item-fix\"><a class=\"py-2 lh-condensed-ultra d-block link-gray no-underline f5\" data-ga-click=\"(Logged out) Header, go to Team management\" href=\"/features#team-management\">Team management</a></li>\n",
      "<li class=\"edge-item-fix\"><a class=\"py-2 lh-condensed-ultra d-block link-gray no-underline f5\" data-ga-click=\"(Logged out) Header, go to Social coding\" href=\"/features#social-coding\">Social coding</a></li>\n",
      "<li class=\"edge-item-fix\"><a class=\"py-2 lh-condensed-ultra d-block link-gray no-underline f5\" data-ga-click=\"(Logged out) Header, go to Documentation\" href=\"/features#documentation\">Documentation</a></li>\n",
      "<li class=\"edge-item-fix\"><a class=\"py-2 lh-condensed-ultra d-block link-gray no-underline f5\" data-ga-click=\"(Logged out) Header, go to Code hosting\" href=\"/features#code-hosting\">Code hosting</a></li>\n",
      "</li></li></ul>\n",
      "<ul class=\"list-style-none mb-0 border-lg-top pt-lg-3\">\n",
      "<li class=\"edge-item-fix\"><a class=\"py-2 lh-condensed-ultra d-block no-underline link-gray-dark no-underline h5 Bump-link--hover\" data-ga-click=\"(Logged out) Header, go to Customer stories\" href=\"/customer-stories\">Customer stories <span class=\"Bump-link-symbol float-right text-normal text-gray-light\">→</span></a></li>\n",
      "<li class=\"edge-item-fix\"><a class=\"py-2 lh-condensed-ultra d-block no-underline link-gray-dark no-underline h5 Bump-link--hover\" data-ga-click=\"(Logged out) Header, go to Security\" href=\"/security\">Security <span class=\"Bump-link-symbol float-right text-normal text-gray-light\">→</span></a></li>\n",
      "</ul>\n",
      "</div>\n",
      "</details>\n",
      "</li>\n",
      "<li class=\" mr-3 mr-lg-3\">\n",
      "<a class=\"HeaderMenu-link no-underline py-3 d-block d-lg-inline-block\" data-ga-click=\"(Logged out) Header, go to Enterprise\" href=\"/enterprise\">Enterprise</a>\n",
      "</li>\n",
      "<li class=\" mr-3 mr-lg-3 edge-item-fix position-relative flex-wrap flex-justify-between d-flex flex-items-center \">\n",
      "<details class=\"HeaderMenu-details details-overlay details-reset width-full\">\n",
      "<summary class=\"HeaderMenu-summary HeaderMenu-link px-0 py-3 border-0 no-wrap d-inline-block\">\n",
      "                    Explore\n",
      "                    <svg class=\"icon-chevon-down-mktg position-relative\" fill=\"none\" viewbox=\"0 0 14 8\" x=\"0px\" xml:space=\"preserve\" y=\"0px\">\n",
      "<path d=\"M1,1l6.2,6L13,1\"></path>\n",
      "</svg>\n",
      "</summary>\n",
      "<div class=\"dropdown-menu flex-auto rounded-1 bg-white px-0 pt-2 pb-0 mt-0 p-4 left-n4 position-absolute\">\n",
      "<ul class=\"list-style-none mb-3\">\n",
      "<li class=\"edge-item-fix\"><a class=\"py-2 lh-condensed-ultra d-block link-gray-dark no-underline h5 Bump-link--hover\" data-ga-click=\"(Logged out) Header, go to Explore\" href=\"/explore\">Explore GitHub <span class=\"Bump-link-symbol float-right text-normal text-gray-light\">→</span></a></li>\n",
      "</ul>\n",
      "<h4 class=\"text-gray-light text-normal text-mono f5 mb-2 border-top pt-3\">Learn &amp; contribute</h4>\n",
      "<ul class=\"list-style-none mb-3\">\n",
      "<li class=\"edge-item-fix\"><a class=\"py-2 lh-condensed-ultra d-block link-gray no-underline f5\" data-ga-click=\"(Logged out) Header, go to Topics\" href=\"/topics\">Topics</a></li>\n",
      "<li class=\"edge-item-fix\"><a class=\"py-2 lh-condensed-ultra d-block link-gray no-underline f5\" data-ga-click=\"(Logged out) Header, go to Collections\" href=\"/collections\">Collections</a></li>\n",
      "<li class=\"edge-item-fix\"><a class=\"py-2 lh-condensed-ultra d-block link-gray no-underline f5\" data-ga-click=\"(Logged out) Header, go to Trending\" href=\"/trending\">Trending</a></li>\n",
      "<li class=\"edge-item-fix\"><a class=\"py-2 lh-condensed-ultra d-block link-gray no-underline f5\" data-ga-click=\"(Logged out) Header, go to Learning lab\" href=\"https://lab.github.com/\">Learning Lab</a></li>\n",
      "<li class=\"edge-item-fix\"><a class=\"py-2 lh-condensed-ultra d-block link-gray no-underline f5\" data-ga-click=\"(Logged out) Header, go to Open source guides\" href=\"https://opensource.guide\">Open source guides</a></li>\n",
      "</ul>\n",
      "<h4 class=\"text-gray-light text-normal text-mono f5 mb-2 border-top pt-3\">Connect with others</h4>\n",
      "<ul class=\"list-style-none mb-0\">\n",
      "<li class=\"edge-item-fix\"><a class=\"py-2 lh-condensed-ultra d-block link-gray no-underline f5\" data-ga-click=\"(Logged out) Header, go to Events\" href=\"https://github.com/events\">Events</a></li>\n",
      "<li class=\"edge-item-fix\"><a class=\"py-2 lh-condensed-ultra d-block link-gray no-underline f5\" data-ga-click=\"(Logged out) Header, go to Community forum\" href=\"https://github.community\">Community forum</a></li>\n",
      "<li class=\"edge-item-fix\"><a class=\"py-2 pb-0 lh-condensed-ultra d-block link-gray no-underline f5\" data-ga-click=\"(Logged out) Header, go to GitHub Education\" href=\"https://education.github.com\">GitHub Education</a></li>\n",
      "</ul>\n",
      "</div>\n",
      "</details>\n",
      "</li>\n",
      "<li class=\" mr-3 mr-lg-3\">\n",
      "<a class=\"HeaderMenu-link no-underline py-3 d-block d-lg-inline-block\" data-ga-click=\"(Logged out) Header, go to Marketplace\" href=\"/marketplace\">Marketplace</a>\n",
      "</li>\n",
      "<li class=\" mr-3 mr-lg-3 edge-item-fix position-relative flex-wrap flex-justify-between d-flex flex-items-center \">\n",
      "<details class=\"HeaderMenu-details details-overlay details-reset width-full\">\n",
      "<summary class=\"HeaderMenu-summary HeaderMenu-link px-0 py-3 border-0 no-wrap d-inline-block\">\n",
      "                    Pricing\n",
      "                    <svg class=\"icon-chevon-down-mktg position-relative\" fill=\"none\" viewbox=\"0 0 14 8\" x=\"0px\" xml:space=\"preserve\" y=\"0px\">\n",
      "<path d=\"M1,1l6.2,6L13,1\"></path>\n",
      "</svg>\n",
      "</summary>\n",
      "<div class=\"dropdown-menu flex-auto rounded-1 bg-white px-0 pt-2 pb-4 mt-0 p-4 left-n4 position-absolute\">\n",
      "<a class=\"pb-2 lh-condensed-ultra d-block link-gray-dark no-underline h5 Bump-link--hover\" data-ga-click=\"(Logged out) Header, go to Pricing\" href=\"/pricing\">Plans <span class=\"Bump-link-symbol float-right text-normal text-gray-light\">→</span></a>\n",
      "<ul class=\"list-style-none mb-3\">\n",
      "<li class=\"edge-item-fix\"><a class=\"py-2 lh-condensed-ultra d-block link-gray no-underline f5\" data-ga-click=\"(Logged out) Header, go to Compare plans\" href=\"/pricing#feature-comparison\">Compare plans</a></li>\n",
      "<li class=\"edge-item-fix\"><a class=\"py-2 lh-condensed-ultra d-block link-gray no-underline f5\" data-ga-click=\"(Logged out) Header, go to Contact Sales\" href=\"https://enterprise.github.com/contact\">Contact Sales</a></li>\n",
      "</ul>\n",
      "<ul class=\"list-style-none mb-0 border-top pt-3\">\n",
      "<li class=\"edge-item-fix\"><a class=\"py-2 lh-condensed-ultra d-block no-underline link-gray-dark no-underline h5 Bump-link--hover\" data-ga-click=\"(Logged out) Header, go to Nonprofits\" href=\"/nonprofit\">Nonprofit <span class=\"Bump-link-symbol float-right text-normal text-gray-light\">→</span></a></li>\n",
      "<li class=\"edge-item-fix\"><a class=\"py-2 pb-0 lh-condensed-ultra d-block no-underline link-gray-dark no-underline h5 Bump-link--hover\" data-ga-click=\"(Logged out) Header, go to Education\" href=\"https://education.github.com\">Education <span class=\"Bump-link-symbol float-right text-normal text-gray-light\">→</span></a></li>\n",
      "</ul>\n",
      "</div>\n",
      "</details>\n",
      "</li>\n",
      "</ul>\n",
      "</nav>\n",
      "<div class=\"d-flex flex-items-center px-0 text-center text-left\">\n",
      "<div class=\"d-lg-flex \">\n",
      "<div aria-expanded=\"false\" aria-haspopup=\"listbox\" aria-label=\"Search or jump to\" aria-owns=\"jump-to-results\" class=\"header-search mr-3 scoped-search site-scoped-search js-site-search position-relative js-jump-to\" role=\"combobox\">\n",
      "<div class=\"position-relative\">\n",
      "<!-- '\"` --><!-- </textarea></xmp> --></div></div></div></div></div></div></header></div></body>\n"
     ]
    }
   ],
   "source": [
    "print(githtmlbody)"
   ]
  },
  {
   "cell_type": "code",
   "execution_count": 35,
   "metadata": {},
   "outputs": [],
   "source": [
    "watch = githtmltxt.find_all('a', class_=\"social-count js-social-count\")"
   ]
  },
  {
   "cell_type": "code",
   "execution_count": 36,
   "metadata": {},
   "outputs": [],
   "source": [
    "output = watch[0]"
   ]
  },
  {
   "cell_type": "code",
   "execution_count": 37,
   "metadata": {},
   "outputs": [
    {
     "data": {
      "text/plain": [
       "'17'"
      ]
     },
     "execution_count": 37,
     "metadata": {},
     "output_type": "execute_result"
    }
   ],
   "source": [
    "output.text.strip()"
   ]
  },
  {
   "cell_type": "code",
   "execution_count": null,
   "metadata": {},
   "outputs": [],
   "source": []
  }
 ],
 "metadata": {
  "kernelspec": {
   "display_name": "Python 3",
   "language": "python",
   "name": "python3"
  },
  "language_info": {
   "codemirror_mode": {
    "name": "ipython",
    "version": 3
   },
   "file_extension": ".py",
   "mimetype": "text/x-python",
   "name": "python",
   "nbconvert_exporter": "python",
   "pygments_lexer": "ipython3",
   "version": "3.6.8"
  }
 },
 "nbformat": 4,
 "nbformat_minor": 2
}
