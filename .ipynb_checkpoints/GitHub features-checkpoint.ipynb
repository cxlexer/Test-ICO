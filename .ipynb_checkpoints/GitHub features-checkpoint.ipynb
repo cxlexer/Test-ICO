{
 "cells": [
  {
   "cell_type": "code",
   "execution_count": 1,
   "metadata": {},
   "outputs": [],
   "source": [
    "import json\n",
    "import numpy as np\n",
    "import requests\n",
    "import pandas as pd\n",
    "from bs4 import BeautifulSoup as bs\n",
    "from operator import itemgetter "
   ]
  },
  {
   "cell_type": "code",
   "execution_count": 2,
   "metadata": {},
   "outputs": [],
   "source": [
    "RAW_DATA_FILEPATH = '/users/eric/PycharmProjects/testico/api_data.json'\n",
    "URL_FILEPATH = '/users/eric/PycharmProjects/testico/ico_urls.txt'\n",
    "TOKEN_FILE = '/users/eric/PycharmProjects/testico/token.csv'\n",
    "FULLDATA_FILE = '/users/eric/PycharmProjects/testico/fulldata.csv'\n",
    "NUMERICAL_DATA_FILE = '/users/eric/PycharmProjects/testico/full_num.csv'\n",
    "TEXT_DATA_FILE = '/users/eric/PycharmProjects/testico/textfeature_dataframe.csv'\n",
    "URL_COPY_FILEPATH = '/users/eric/PycharmProjects/testico/ico_urls copy.txt'"
   ]
  },
  {
   "cell_type": "code",
   "execution_count": 3,
   "metadata": {},
   "outputs": [],
   "source": [
    "githtml = requests.get('https://github.com/DigixGlobal/solidity-collections-library')"
   ]
  },
  {
   "cell_type": "code",
   "execution_count": 4,
   "metadata": {
    "scrolled": false
   },
   "outputs": [],
   "source": [
    "githtmltxt = bs(githtml.text, 'html.parser')\n"
   ]
  },
  {
   "cell_type": "code",
   "execution_count": 5,
   "metadata": {},
   "outputs": [],
   "source": [
    "githtmlbody = githtmltxt.body\n"
   ]
  },
  {
   "cell_type": "code",
   "execution_count": 8,
   "metadata": {},
   "outputs": [
    {
     "data": {
      "text/plain": [
       "[<a aria-label=\"9 users are watching this repository\" class=\"social-count\" href=\"/DigixGlobal/solidity-collections-library/watchers\">\n",
       "       9\n",
       "     </a>]"
      ]
     },
     "execution_count": 8,
     "metadata": {},
     "output_type": "execute_result"
    }
   ],
   "source": [
    "watch_html = githtmltxt.find_all(\n",
    "    'a', \n",
    "    class_=\"social-count\",\n",
    "   href=\"/DigixGlobal/solidity-collections-library/watchers\")\n",
    "watch_html"
   ]
  },
  {
   "cell_type": "code",
   "execution_count": 9,
   "metadata": {},
   "outputs": [
    {
     "data": {
      "text/plain": [
       "'9'"
      ]
     },
     "execution_count": 9,
     "metadata": {},
     "output_type": "execute_result"
    }
   ],
   "source": [
    "watch = watch_html[0].text.strip()\n",
    "watch"
   ]
  },
  {
   "cell_type": "code",
   "execution_count": 10,
   "metadata": {},
   "outputs": [],
   "source": [
    "stars_html = githtmltxt.find_all(\n",
    "    'a',\n",
    "    class_=\"social-count\",\n",
    "  href=\"/DigixGlobal/solidity-collections-library/stargazers\")"
   ]
  },
  {
   "cell_type": "code",
   "execution_count": 11,
   "metadata": {},
   "outputs": [
    {
     "data": {
      "text/plain": [
       "'17'"
      ]
     },
     "execution_count": 11,
     "metadata": {},
     "output_type": "execute_result"
    }
   ],
   "source": [
    "stars = stars_html[0].text.strip()\n",
    "stars"
   ]
  },
  {
   "cell_type": "code",
   "execution_count": 12,
   "metadata": {},
   "outputs": [
    {
     "ename": "NameError",
     "evalue": "name 'partial_repolink' is not defined",
     "output_type": "error",
     "traceback": [
      "\u001b[0;31m---------------------------------------------------------------------------\u001b[0m",
      "\u001b[0;31mNameError\u001b[0m                                 Traceback (most recent call last)",
      "\u001b[0;32m<ipython-input-12-755ff4ca134b>\u001b[0m in \u001b[0;36m<module>\u001b[0;34m()\u001b[0m\n\u001b[1;32m      1\u001b[0m forks_html = githtmltxt.find_all(\n\u001b[1;32m      2\u001b[0m     \u001b[0;34m'a'\u001b[0m\u001b[0;34m,\u001b[0m\u001b[0;34m\u001b[0m\u001b[0;34m\u001b[0m\u001b[0m\n\u001b[0;32m----> 3\u001b[0;31m     \u001b[0mhref\u001b[0m\u001b[0;34m=\u001b[0m \u001b[0;34m\"{}{}\"\u001b[0m\u001b[0;34m.\u001b[0m\u001b[0mformat\u001b[0m\u001b[0;34m(\u001b[0m\u001b[0mpartial_repolink\u001b[0m\u001b[0;34m,\u001b[0m\u001b[0;34m'/network/members'\u001b[0m\u001b[0;34m)\u001b[0m\u001b[0;34m,\u001b[0m\u001b[0;34m\u001b[0m\u001b[0;34m\u001b[0m\u001b[0m\n\u001b[0m\u001b[1;32m      4\u001b[0m     \u001b[0mclass_\u001b[0m\u001b[0;34m=\u001b[0m\u001b[0;34m\"social-count\"\u001b[0m\u001b[0;34m\u001b[0m\u001b[0;34m\u001b[0m\u001b[0m\n\u001b[1;32m      5\u001b[0m )\n",
      "\u001b[0;31mNameError\u001b[0m: name 'partial_repolink' is not defined"
     ]
    }
   ],
   "source": [
    "forks_html = githtmltxt.find_all(\n",
    "    'a',\n",
    "    href= \"{}{}\".format(partial_repolink,'/network/members'),\n",
    "    class_=\"social-count\"\n",
    ")\n",
    "\n",
    "forks = forks_html[0].text.strip()"
   ]
  },
  {
   "cell_type": "code",
   "execution_count": 13,
   "metadata": {},
   "outputs": [
    {
     "data": {
      "text/plain": [
       "[<a aria-label=\"9 users forked this repository\" class=\"social-count\" href=\"/DigixGlobal/solidity-collections-library/network/members\">\n",
       "       9\n",
       "     </a>]"
      ]
     },
     "execution_count": 13,
     "metadata": {},
     "output_type": "execute_result"
    }
   ],
   "source": [
    "forks_html = githtmltxt.find_all(\n",
    "    'a',\n",
    "    href=\"/DigixGlobal/solidity-collections-library/network/members\",\n",
    "    class_=\"social-count\")\n",
    "forks_html"
   ]
  },
  {
   "cell_type": "code",
   "execution_count": 14,
   "metadata": {},
   "outputs": [
    {
     "data": {
      "text/plain": [
       "'9'"
      ]
     },
     "execution_count": 14,
     "metadata": {},
     "output_type": "execute_result"
    }
   ],
   "source": [
    "forks = forks_html[0].text.strip()\n",
    "forks"
   ]
  },
  {
   "cell_type": "code",
   "execution_count": 16,
   "metadata": {},
   "outputs": [
    {
     "data": {
      "text/plain": [
       "[<span class=\"num text-emphasized\">\n",
       "                 54\n",
       "               </span>, <span class=\"num text-emphasized\">\n",
       "               4\n",
       "             </span>, <span class=\"num text-emphasized\">\n",
       "               0\n",
       "             </span>, <span class=\"num text-emphasized\"></span>]"
      ]
     },
     "execution_count": 16,
     "metadata": {},
     "output_type": "execute_result"
    }
   ],
   "source": [
    "nnn = githtmltxt.find_all(\n",
    "    'span', class_=\"num text-emphasized\")\n",
    "nnn"
   ]
  },
  {
   "cell_type": "code",
   "execution_count": 17,
   "metadata": {},
   "outputs": [
    {
     "data": {
      "text/plain": [
       "<span class=\"num text-emphasized\">\n",
       "                54\n",
       "              </span>"
      ]
     },
     "execution_count": 17,
     "metadata": {},
     "output_type": "execute_result"
    }
   ],
   "source": [
    "nnn[0]"
   ]
  },
  {
   "cell_type": "code",
   "execution_count": 18,
   "metadata": {},
   "outputs": [
    {
     "data": {
      "text/plain": [
       "'54'"
      ]
     },
     "execution_count": 18,
     "metadata": {},
     "output_type": "execute_result"
    }
   ],
   "source": [
    "commits = nnn[0].text.strip()\n",
    "commits"
   ]
  },
  {
   "cell_type": "code",
   "execution_count": 19,
   "metadata": {},
   "outputs": [
    {
     "data": {
      "text/plain": [
       "'4'"
      ]
     },
     "execution_count": 19,
     "metadata": {},
     "output_type": "execute_result"
    }
   ],
   "source": [
    "branches = nnn[1].text.strip()\n",
    "branches"
   ]
  },
  {
   "cell_type": "code",
   "execution_count": 20,
   "metadata": {},
   "outputs": [
    {
     "data": {
      "text/plain": [
       "'0'"
      ]
     },
     "execution_count": 20,
     "metadata": {},
     "output_type": "execute_result"
    }
   ],
   "source": [
    "releases = nnn[2].text.strip()\n",
    "releases"
   ]
  },
  {
   "cell_type": "code",
   "execution_count": 21,
   "metadata": {},
   "outputs": [],
   "source": [
    "gitfeature_name = ['watchers', 'stars', 'forks', 'commits', 'branches']"
   ]
  },
  {
   "cell_type": "code",
   "execution_count": 22,
   "metadata": {},
   "outputs": [],
   "source": [
    "gitfeature_num = [watch, stars, forks, commits, branches]\n"
   ]
  },
  {
   "cell_type": "code",
   "execution_count": 23,
   "metadata": {},
   "outputs": [],
   "source": [
    "pp = list(zip(gitfeature_name, gitfeature_num))"
   ]
  },
  {
   "cell_type": "code",
   "execution_count": 24,
   "metadata": {},
   "outputs": [
    {
     "data": {
      "text/plain": [
       "[('watchers', '9'),\n",
       " ('stars', '17'),\n",
       " ('forks', '9'),\n",
       " ('commits', '54'),\n",
       " ('branches', '4')]"
      ]
     },
     "execution_count": 24,
     "metadata": {},
     "output_type": "execute_result"
    }
   ],
   "source": [
    "pp"
   ]
  },
  {
   "cell_type": "code",
   "execution_count": 25,
   "metadata": {},
   "outputs": [],
   "source": [
    "\n",
    "\n",
    "\n",
    "\n",
    "#get link of all repos within the ICO github account\n",
    "\n",
    "\n",
    "\n",
    "\n",
    "html = requests.get('https://github.com/DigixGlobal')"
   ]
  },
  {
   "cell_type": "code",
   "execution_count": 26,
   "metadata": {},
   "outputs": [],
   "source": [
    "htmltxt = bs(html.text, 'html.parser')\n",
    "repohtml = htmltxt.find_all('a', class_=\"text-bold flex-auto \")\n"
   ]
  },
  {
   "cell_type": "code",
   "execution_count": 27,
   "metadata": {},
   "outputs": [],
   "source": [
    "link = repohtml[0]"
   ]
  },
  {
   "cell_type": "code",
   "execution_count": 28,
   "metadata": {},
   "outputs": [
    {
     "data": {
      "text/plain": [
       "<a class=\"text-bold flex-auto \" href=\"/DigixGlobal/solidity-collections-library\">\n",
       "<span class=\"repo js-pinnable-item\" title=\"solidity-collections-library\">solidity-collections-library</span>\n",
       "</a>"
      ]
     },
     "execution_count": 28,
     "metadata": {},
     "output_type": "execute_result"
    }
   ],
   "source": [
    "link"
   ]
  },
  {
   "cell_type": "code",
   "execution_count": 29,
   "metadata": {},
   "outputs": [
    {
     "data": {
      "text/plain": [
       "'/DigixGlobal/solidity-collections-library'"
      ]
     },
     "execution_count": 29,
     "metadata": {},
     "output_type": "execute_result"
    }
   ],
   "source": [
    "link.attrs['href']"
   ]
  },
  {
   "cell_type": "code",
   "execution_count": 30,
   "metadata": {},
   "outputs": [],
   "source": [
    "repolink = []\n",
    "for item in repohtml:\n",
    "    link = item.attrs['href']\n",
    "    repolink.append(link)"
   ]
  },
  {
   "cell_type": "code",
   "execution_count": 31,
   "metadata": {},
   "outputs": [
    {
     "data": {
      "text/plain": [
       "['/DigixGlobal/solidity-collections-library',\n",
       " '/DigixGlobal/dijix',\n",
       " '/DigixGlobal/doxity',\n",
       " '/DigixGlobal/solidity-statemachine-library',\n",
       " '/DigixGlobal/dao-contracts']"
      ]
     },
     "execution_count": 31,
     "metadata": {},
     "output_type": "execute_result"
    }
   ],
   "source": [
    "repolink"
   ]
  },
  {
   "cell_type": "code",
   "execution_count": 32,
   "metadata": {},
   "outputs": [],
   "source": [
    "a = 'https://github.com'\n",
    "fulllink_list=[]"
   ]
  },
  {
   "cell_type": "code",
   "execution_count": 33,
   "metadata": {},
   "outputs": [],
   "source": [
    "for link in repolink:\n",
    "      fulllink = '{}{}'.format(a,link)\n",
    "      fulllink_list.append(fulllink)\n",
    "      "
   ]
  },
  {
   "cell_type": "code",
   "execution_count": 34,
   "metadata": {},
   "outputs": [
    {
     "data": {
      "text/plain": [
       "['https://github.com/DigixGlobal/solidity-collections-library',\n",
       " 'https://github.com/DigixGlobal/dijix',\n",
       " 'https://github.com/DigixGlobal/doxity',\n",
       " 'https://github.com/DigixGlobal/solidity-statemachine-library',\n",
       " 'https://github.com/DigixGlobal/dao-contracts']"
      ]
     },
     "execution_count": 34,
     "metadata": {},
     "output_type": "execute_result"
    }
   ],
   "source": [
    "fulllink_list"
   ]
  },
  {
   "cell_type": "code",
   "execution_count": null,
   "metadata": {},
   "outputs": [],
   "source": []
  },
  {
   "cell_type": "code",
   "execution_count": null,
   "metadata": {},
   "outputs": [],
   "source": []
  },
  {
   "cell_type": "code",
   "execution_count": null,
   "metadata": {},
   "outputs": [],
   "source": []
  },
  {
   "cell_type": "code",
   "execution_count": null,
   "metadata": {},
   "outputs": [],
   "source": []
  },
  {
   "cell_type": "code",
   "execution_count": 23,
   "metadata": {},
   "outputs": [],
   "source": [
    "def gitfeature_html(github_account_html):\n",
    "    html = requests.get(github_account_html)\n",
    "    htmltxt = bs(html.text, 'html.parser')\n",
    "    repohtml = htmltxt.find_all('a', class_=\"text-bold flex-auto \")\n",
    "    if len(repohtml) == 0:\n",
    "        output = gitfeature_extract(github_account_html.replace('https://github.com', ''))\n",
    "        print(output)\n",
    "        \n",
    "    \n",
    "    else:\n",
    "        \n",
    "        partial_repolink_list = []\n",
    "\n",
    "        for item in repohtml:\n",
    "            link = item.attrs['href']\n",
    "            partial_repolink_list.append(link)\n",
    "        output = full_feature(partial_repolink_list)\n",
    "        print(output)\n",
    "\n",
    "#         a = 'https://github.com'\n",
    "#         fulllink_list=[]\n",
    "#         for link in partial_repolink_list:\n",
    "#             fulllink = '{}{}'.format(a,link)\n",
    "#             fulllink_list.append(fulllink)\n",
    "#         return partial_repolink_list, fulllink_list\n",
    "         \n",
    "\n",
    "\n",
    "\n",
    "# gitfeature = {\n",
    "#         'watchers': 0,\n",
    "#         'stars':0,\n",
    "#         'forks':0,\n",
    "#         'commits':0,\n",
    "#         'braches':0\n",
    "#     }\n",
    "def gitfeature_extract(partial_repolink):\n",
    "    a = 'https://github.com'\n",
    "    full_repolink = '{}{}'.format(a, partial_repolink)\n",
    "    githtml = requests.get(full_repolink)\n",
    "    githtmltxt = bs(githtml.text, 'html.parser')\n",
    "    watch_html = githtmltxt.find_all(\n",
    "        'a', \n",
    "        class_=\"social-count\",\n",
    "        href= '{}{}'.format(partial_repolink,'/watchers')\n",
    "    )\n",
    "    watch = watch_html[0].text.strip()\n",
    "    stars_html = githtmltxt.find_all(\n",
    "        'a',\n",
    "        class_=\"social-count\",\n",
    "        href= '{}{}'.format(partial_repolink,'/stargazers')\n",
    "    )\n",
    "    stars = stars_html[0].text.strip()\n",
    "    forks_html = githtmltxt.find_all(\n",
    "        'a',\n",
    "        href= '{}{}'.format(partial_repolink,'/network/members'),\n",
    "        class_=\"social-count\"\n",
    "    )\n",
    "    \n",
    "    forks = forks_html[0].text.strip()\n",
    "\n",
    "    otherfeature_html = githtmltxt.find_all(\n",
    "       'span', class_=\"num text-emphasized\")\n",
    "    commits = otherfeature_html[0].text.strip()\n",
    "    branches = otherfeature_html[1].text.strip()\n",
    "    releases = otherfeature_html[2].text.strip()\n",
    "    gitfeature = {\n",
    "        'watchers':watch,\n",
    "        'stars': stars,\n",
    "        'forks':forks, \n",
    "        'commits':commits,\n",
    "        'branches':branches}\n",
    "    return gitfeature\n",
    "\n",
    "def full_feature(partial_repolink_list):\n",
    "    d_list = []\n",
    "    feature_sum = {}\n",
    "    \n",
    "    for partial_repolink in partial_repolink_list:\n",
    "        feature_dic = gitfeature_extract(partial_repolink)\n",
    "        d_list.append(feature_dic)\n",
    "    for d in d_list:\n",
    "        for k in d.keys():\n",
    "            feature_sum[k] = feature_sum.get(k, 0) + int(d[k])\n",
    "    return feature_sum\n",
    "            \n",
    "            \n",
    "        \n",
    "    \n",
    "        \n",
    "        \n",
    "    \n",
    "    #creating dictionaries instead\n",
    "    \n",
    "        \n",
    "\n",
    "\n",
    "    \n",
    "        \n",
    "\n",
    "\n",
    "        \n",
    "    \n",
    "    "
   ]
  },
  {
   "cell_type": "code",
   "execution_count": 36,
   "metadata": {},
   "outputs": [],
   "source": [
    "a = [('a', 0), ('b', 1) ]"
   ]
  },
  {
   "cell_type": "code",
   "execution_count": 37,
   "metadata": {},
   "outputs": [
    {
     "data": {
      "text/plain": [
       "['a', 'b']"
      ]
     },
     "execution_count": 37,
     "metadata": {},
     "output_type": "execute_result"
    }
   ],
   "source": [
    "[ item[0] for item in a]"
   ]
  },
  {
   "cell_type": "code",
   "execution_count": 38,
   "metadata": {},
   "outputs": [],
   "source": [
    "b = {'a': 0, 'b': 1}"
   ]
  },
  {
   "cell_type": "code",
   "execution_count": 39,
   "metadata": {},
   "outputs": [],
   "source": [
    "b['b'] += 1"
   ]
  },
  {
   "cell_type": "code",
   "execution_count": 40,
   "metadata": {},
   "outputs": [
    {
     "data": {
      "text/plain": [
       "2"
      ]
     },
     "execution_count": 40,
     "metadata": {},
     "output_type": "execute_result"
    }
   ],
   "source": [
    "b['b']"
   ]
  },
  {
   "cell_type": "code",
   "execution_count": 20,
   "metadata": {},
   "outputs": [],
   "source": [
    "github_account_html = 'https://github.com/DigixGlobal'"
   ]
  },
  {
   "cell_type": "code",
   "execution_count": 21,
   "metadata": {},
   "outputs": [],
   "source": [
    "html = requests.get(github_account_html)\n",
    "htmltxt = bs(html.text, 'html.parser')\n",
    "repohtml = htmltxt.find_all('a', class_=\"text-bold flex-auto \")"
   ]
  },
  {
   "cell_type": "code",
   "execution_count": 24,
   "metadata": {},
   "outputs": [
    {
     "name": "stdout",
     "output_type": "stream",
     "text": [
      "{'watchers': 48, 'stars': 236, 'forks': 66, 'commits': 252, 'branches': 24}\n"
     ]
    }
   ],
   "source": [
    "gitfeature_html(github_account_html)\n"
   ]
  },
  {
   "cell_type": "code",
   "execution_count": 44,
   "metadata": {},
   "outputs": [
    {
     "data": {
      "text/plain": [
       "{'watchers': '9',\n",
       " 'stars': '17',\n",
       " 'forks': '9',\n",
       " 'commits': '54',\n",
       " 'branches': '4'}"
      ]
     },
     "execution_count": 44,
     "metadata": {},
     "output_type": "execute_result"
    }
   ],
   "source": [
    "partial_repolink = '/DigixGlobal/solidity-collections-library'\n",
    "gitfeature_extract(partial_repolink)\n",
    "# href= '{}{}'.format(partial_repolink,'/watchers')\n",
    "# href\n"
   ]
  },
  {
   "cell_type": "code",
   "execution_count": 92,
   "metadata": {},
   "outputs": [],
   "source": [
    "html = requests.get(github_account_html)\n",
    "htmltxt = bs(html.text, 'html.parser')\n",
    "repohtml = htmltxt.find_all('a', class_=\"text-bold flex-auto \")\n",
    "    \n",
    "        \n",
    "partial_repolink_list = []\n",
    "for item in repohtml:\n",
    "    link = item.attrs['href']\n",
    "    partial_repolink_list.append(link)\n",
    "        \n",
    "        "
   ]
  },
  {
   "cell_type": "code",
   "execution_count": 93,
   "metadata": {},
   "outputs": [
    {
     "data": {
      "text/plain": [
       "['/DigixGlobal/solidity-collections-library',\n",
       " '/DigixGlobal/dijix',\n",
       " '/DigixGlobal/doxity',\n",
       " '/DigixGlobal/solidity-statemachine-library',\n",
       " '/DigixGlobal/dao-contracts']"
      ]
     },
     "execution_count": 93,
     "metadata": {},
     "output_type": "execute_result"
    }
   ],
   "source": [
    " partial_repolink_list"
   ]
  },
  {
   "cell_type": "code",
   "execution_count": 47,
   "metadata": {},
   "outputs": [
    {
     "data": {
      "text/plain": [
       "{'watchers': '9',\n",
       " 'stars': '17',\n",
       " 'forks': '9',\n",
       " 'commits': '54',\n",
       " 'branches': '4'}"
      ]
     },
     "execution_count": 47,
     "metadata": {},
     "output_type": "execute_result"
    }
   ],
   "source": [
    "gitfeature_extract('/DigixGlobal/solidity-collections-library')"
   ]
  },
  {
   "cell_type": "code",
   "execution_count": 48,
   "metadata": {},
   "outputs": [
    {
     "data": {
      "text/plain": [
       "{'watchers': '7', 'stars': '8', 'forks': '2', 'commits': '28', 'branches': '2'}"
      ]
     },
     "execution_count": 48,
     "metadata": {},
     "output_type": "execute_result"
    }
   ],
   "source": [
    "gitfeature_extract('/DigixGlobal/dijix')"
   ]
  },
  {
   "cell_type": "code",
   "execution_count": 49,
   "metadata": {},
   "outputs": [],
   "source": [
    "d_list = []\n",
    "feature_sum = {}\n",
    "for partial_repolink in partial_repolink_list:\n",
    "        feature_dic = gitfeature_extract(partial_repolink)\n",
    "        d_list.append(feature_dic)"
   ]
  },
  {
   "cell_type": "code",
   "execution_count": 50,
   "metadata": {},
   "outputs": [
    {
     "data": {
      "text/plain": [
       "[{'watchers': '9',\n",
       "  'stars': '17',\n",
       "  'forks': '9',\n",
       "  'commits': '54',\n",
       "  'branches': '4'},\n",
       " {'watchers': '7',\n",
       "  'stars': '8',\n",
       "  'forks': '2',\n",
       "  'commits': '28',\n",
       "  'branches': '2'},\n",
       " {'watchers': '18',\n",
       "  'stars': '174',\n",
       "  'forks': '49',\n",
       "  'commits': '58',\n",
       "  'branches': '2'},\n",
       " {'watchers': '7',\n",
       "  'stars': '15',\n",
       "  'forks': '4',\n",
       "  'commits': '35',\n",
       "  'branches': '4'},\n",
       " {'watchers': '7',\n",
       "  'stars': '22',\n",
       "  'forks': '2',\n",
       "  'commits': '77',\n",
       "  'branches': '12'}]"
      ]
     },
     "execution_count": 50,
     "metadata": {},
     "output_type": "execute_result"
    }
   ],
   "source": [
    "d_list"
   ]
  },
  {
   "cell_type": "code",
   "execution_count": 51,
   "metadata": {},
   "outputs": [],
   "source": [
    "for d in d_list:\n",
    "    for k in d.keys():\n",
    "        feature_sum[k] = feature_sum.get(k, 0) + int(d[k])\n",
    "        "
   ]
  },
  {
   "cell_type": "code",
   "execution_count": 52,
   "metadata": {},
   "outputs": [
    {
     "data": {
      "text/plain": [
       "{'watchers': 48, 'stars': 236, 'forks': 66, 'commits': 252, 'branches': 24}"
      ]
     },
     "execution_count": 52,
     "metadata": {},
     "output_type": "execute_result"
    }
   ],
   "source": [
    "feature_sum"
   ]
  },
  {
   "cell_type": "code",
   "execution_count": 53,
   "metadata": {},
   "outputs": [
    {
     "ename": "NameError",
     "evalue": "name 'gitfeature' is not defined",
     "output_type": "error",
     "traceback": [
      "\u001b[0;31m---------------------------------------------------------------------------\u001b[0m",
      "\u001b[0;31mNameError\u001b[0m                                 Traceback (most recent call last)",
      "\u001b[0;32m<ipython-input-53-e552402b4fe1>\u001b[0m in \u001b[0;36m<module>\u001b[0;34m()\u001b[0m\n\u001b[0;32m----> 1\u001b[0;31m \u001b[0mgitfeature\u001b[0m\u001b[0;34m[\u001b[0m\u001b[0;34m'watchers'\u001b[0m\u001b[0;34m]\u001b[0m\u001b[0;34m\u001b[0m\u001b[0;34m\u001b[0m\u001b[0m\n\u001b[0m",
      "\u001b[0;31mNameError\u001b[0m: name 'gitfeature' is not defined"
     ]
    }
   ],
   "source": [
    "gitfeature['watchers']"
   ]
  },
  {
   "cell_type": "code",
   "execution_count": 56,
   "metadata": {},
   "outputs": [
    {
     "data": {
      "text/plain": [
       "{'watchers': 48, 'stars': 236, 'forks': 66, 'commits': 252, 'branches': 24}"
      ]
     },
     "execution_count": 56,
     "metadata": {},
     "output_type": "execute_result"
    }
   ],
   "source": [
    "full_feature(partial_repolink_list)"
   ]
  },
  {
   "cell_type": "code",
   "execution_count": 61,
   "metadata": {},
   "outputs": [],
   "source": [
    "ll = feature_sum.items()"
   ]
  },
  {
   "cell_type": "code",
   "execution_count": 66,
   "metadata": {},
   "outputs": [],
   "source": [
    "ll \n",
    "lll = [('watchers', 48), ('stars', 236), ('forks', 66), ('commits', 252), ('branches', 24)]"
   ]
  },
  {
   "cell_type": "code",
   "execution_count": 67,
   "metadata": {},
   "outputs": [],
   "source": [
    "df = pd.DataFrame(lll)"
   ]
  },
  {
   "cell_type": "code",
   "execution_count": 68,
   "metadata": {},
   "outputs": [
    {
     "data": {
      "text/html": [
       "<div>\n",
       "<style scoped>\n",
       "    .dataframe tbody tr th:only-of-type {\n",
       "        vertical-align: middle;\n",
       "    }\n",
       "\n",
       "    .dataframe tbody tr th {\n",
       "        vertical-align: top;\n",
       "    }\n",
       "\n",
       "    .dataframe thead th {\n",
       "        text-align: right;\n",
       "    }\n",
       "</style>\n",
       "<table border=\"1\" class=\"dataframe\">\n",
       "  <thead>\n",
       "    <tr style=\"text-align: right;\">\n",
       "      <th></th>\n",
       "      <th>0</th>\n",
       "      <th>1</th>\n",
       "    </tr>\n",
       "  </thead>\n",
       "  <tbody>\n",
       "    <tr>\n",
       "      <th>0</th>\n",
       "      <td>watchers</td>\n",
       "      <td>48</td>\n",
       "    </tr>\n",
       "    <tr>\n",
       "      <th>1</th>\n",
       "      <td>stars</td>\n",
       "      <td>236</td>\n",
       "    </tr>\n",
       "    <tr>\n",
       "      <th>2</th>\n",
       "      <td>forks</td>\n",
       "      <td>66</td>\n",
       "    </tr>\n",
       "    <tr>\n",
       "      <th>3</th>\n",
       "      <td>commits</td>\n",
       "      <td>252</td>\n",
       "    </tr>\n",
       "    <tr>\n",
       "      <th>4</th>\n",
       "      <td>branches</td>\n",
       "      <td>24</td>\n",
       "    </tr>\n",
       "  </tbody>\n",
       "</table>\n",
       "</div>"
      ],
      "text/plain": [
       "          0    1\n",
       "0  watchers   48\n",
       "1     stars  236\n",
       "2     forks   66\n",
       "3   commits  252\n",
       "4  branches   24"
      ]
     },
     "execution_count": 68,
     "metadata": {},
     "output_type": "execute_result"
    }
   ],
   "source": [
    "df"
   ]
  },
  {
   "cell_type": "code",
   "execution_count": 14,
   "metadata": {},
   "outputs": [],
   "source": [
    "github_account_html2 = 'https://github.com/DigixGlobal'"
   ]
  },
  {
   "cell_type": "code",
   "execution_count": 76,
   "metadata": {},
   "outputs": [
    {
     "name": "stdout",
     "output_type": "stream",
     "text": [
      "None\n"
     ]
    }
   ],
   "source": []
  },
  {
   "cell_type": "code",
   "execution_count": 15,
   "metadata": {},
   "outputs": [],
   "source": [
    "html = requests.get(github_account_html2)\n",
    "htmltxt = bs(html.text, 'html.parser')\n",
    "repohtml = htmltxt.find_all('a', class_=\"text-bold flex-auto \")\n",
    "# if len(repohtml) == 0:\n",
    "#     gitfeature_extract(github_account_html)\n",
    "\n",
    "# else:\n",
    "\n",
    "#     partial_repolink_list = []\n",
    "\n",
    "#     for item in repohtml:\n",
    "#         link = item.attrs['href']\n",
    "#         partial_repolink_list.append(link)\n",
    "#     full_feature(partial_repolink_list)\n",
    "\n"
   ]
  },
  {
   "cell_type": "code",
   "execution_count": 82,
   "metadata": {},
   "outputs": [
    {
     "data": {
      "text/plain": [
       "5"
      ]
     },
     "execution_count": 82,
     "metadata": {},
     "output_type": "execute_result"
    }
   ],
   "source": [
    "len(repohtml)"
   ]
  },
  {
   "cell_type": "code",
   "execution_count": 83,
   "metadata": {},
   "outputs": [
    {
     "data": {
      "text/plain": [
       "{'watchers': 96, 'stars': 472, 'forks': 132, 'commits': 504, 'branches': 48}"
      ]
     },
     "execution_count": 83,
     "metadata": {},
     "output_type": "execute_result"
    }
   ],
   "source": [
    "for item in repohtml:\n",
    "    link = item.attrs['href']\n",
    "    partial_repolink_list.append(link)\n",
    "full_feature(partial_repolink_list)"
   ]
  },
  {
   "cell_type": "code",
   "execution_count": 16,
   "metadata": {},
   "outputs": [],
   "source": [
    "gitfeature_html(github_account_html2)"
   ]
  },
  {
   "cell_type": "code",
   "execution_count": 85,
   "metadata": {},
   "outputs": [
    {
     "ename": "TypeError",
     "evalue": "object of type 'NoneType' has no len()",
     "output_type": "error",
     "traceback": [
      "\u001b[0;31m---------------------------------------------------------------------------\u001b[0m",
      "\u001b[0;31mTypeError\u001b[0m                                 Traceback (most recent call last)",
      "\u001b[0;32m<ipython-input-85-d4a9c5daad2c>\u001b[0m in \u001b[0;36m<module>\u001b[0;34m()\u001b[0m\n\u001b[0;32m----> 1\u001b[0;31m \u001b[0mlen\u001b[0m\u001b[0;34m(\u001b[0m\u001b[0mgitfeature_html\u001b[0m\u001b[0;34m(\u001b[0m\u001b[0mgithub_account_html2\u001b[0m\u001b[0;34m)\u001b[0m\u001b[0;34m)\u001b[0m\u001b[0;34m\u001b[0m\u001b[0;34m\u001b[0m\u001b[0m\n\u001b[0m",
      "\u001b[0;31mTypeError\u001b[0m: object of type 'NoneType' has no len()"
     ]
    }
   ],
   "source": [
    "len(gitfeature_html(github_account_html2))"
   ]
  },
  {
   "cell_type": "code",
   "execution_count": 108,
   "metadata": {},
   "outputs": [
    {
     "name": "stdout",
     "output_type": "stream",
     "text": [
      "HELLO\n",
      "{'watchers': '25', 'stars': '20', 'forks': '13', 'commits': '121', 'branches': '6'}\n"
     ]
    }
   ],
   "source": [
    "html = requests.get(test2)\n",
    "htmltxt = bs(html.text, 'html.parser')\n",
    "repohtml = htmltxt.find_all('a', class_=\"text-bold flex-auto \")\n",
    "if len(repohtml) == 0:\n",
    "    \n",
    "    output = gitfeature_extract(test2.replace('https://github.com', ''))\n",
    "\n",
    "else:\n",
    "        \n",
    "    partial_repolink_list = []\n",
    "\n",
    "    for item in repohtml:\n",
    "        link = item.attrs['href']\n",
    "        partial_repolink_list.append(link)\n",
    "    output = full_feature(partial_repolink_list)\n",
    "    \n",
    "print(output)\n"
   ]
  },
  {
   "cell_type": "code",
   "execution_count": 97,
   "metadata": {},
   "outputs": [
    {
     "data": {
      "text/plain": [
       "5"
      ]
     },
     "execution_count": 97,
     "metadata": {},
     "output_type": "execute_result"
    }
   ],
   "source": [
    "len(repohtml)"
   ]
  },
  {
   "cell_type": "code",
   "execution_count": 18,
   "metadata": {},
   "outputs": [],
   "source": [
    "test2 = 'https://github.com/ConsenSys/singulardtv-contracts'\n",
    "html2 = requests.get(test2)\n",
    "htmltxt2 = bs(html2.text, 'html.parser')\n",
    "repohtml2 = htmltxt2.find_all('a', class_=\"text-bold flex-auto \")"
   ]
  },
  {
   "cell_type": "code",
   "execution_count": 19,
   "metadata": {},
   "outputs": [
    {
     "ename": "IndexError",
     "evalue": "list index out of range",
     "output_type": "error",
     "traceback": [
      "\u001b[0;31m---------------------------------------------------------------------------\u001b[0m",
      "\u001b[0;31mIndexError\u001b[0m                                Traceback (most recent call last)",
      "\u001b[0;32m<ipython-input-19-66bce3ad97c4>\u001b[0m in \u001b[0;36m<module>\u001b[0;34m()\u001b[0m\n\u001b[1;32m      3\u001b[0m \u001b[0mrepohtml\u001b[0m \u001b[0;34m=\u001b[0m \u001b[0mhtmltxt\u001b[0m\u001b[0;34m.\u001b[0m\u001b[0mfind_all\u001b[0m\u001b[0;34m(\u001b[0m\u001b[0;34m'a'\u001b[0m\u001b[0;34m,\u001b[0m \u001b[0mclass_\u001b[0m\u001b[0;34m=\u001b[0m\u001b[0;34m\"text-bold flex-auto \"\u001b[0m\u001b[0;34m)\u001b[0m\u001b[0;34m\u001b[0m\u001b[0;34m\u001b[0m\u001b[0m\n\u001b[1;32m      4\u001b[0m \u001b[0;32mif\u001b[0m \u001b[0mlen\u001b[0m\u001b[0;34m(\u001b[0m\u001b[0mrepohtml\u001b[0m\u001b[0;34m)\u001b[0m \u001b[0;34m==\u001b[0m \u001b[0;36m0\u001b[0m\u001b[0;34m:\u001b[0m\u001b[0;34m\u001b[0m\u001b[0;34m\u001b[0m\u001b[0m\n\u001b[0;32m----> 5\u001b[0;31m     \u001b[0moutput\u001b[0m \u001b[0;34m=\u001b[0m \u001b[0mgitfeature_extract\u001b[0m\u001b[0;34m(\u001b[0m\u001b[0mgithub_account_html\u001b[0m\u001b[0;34m.\u001b[0m\u001b[0mreplace\u001b[0m\u001b[0;34m(\u001b[0m\u001b[0;34m'https://github.com'\u001b[0m\u001b[0;34m,\u001b[0m \u001b[0;34m''\u001b[0m\u001b[0;34m)\u001b[0m\u001b[0;34m)\u001b[0m\u001b[0;34m\u001b[0m\u001b[0;34m\u001b[0m\u001b[0m\n\u001b[0m",
      "\u001b[0;32m<ipython-input-13-033377865245>\u001b[0m in \u001b[0;36mgitfeature_extract\u001b[0;34m(partial_repolink)\u001b[0m\n\u001b[1;32m     43\u001b[0m         \u001b[0mhref\u001b[0m\u001b[0;34m=\u001b[0m \u001b[0;34m'{}{}'\u001b[0m\u001b[0;34m.\u001b[0m\u001b[0mformat\u001b[0m\u001b[0;34m(\u001b[0m\u001b[0mpartial_repolink\u001b[0m\u001b[0;34m,\u001b[0m\u001b[0;34m'/watchers'\u001b[0m\u001b[0;34m)\u001b[0m\u001b[0;34m\u001b[0m\u001b[0;34m\u001b[0m\u001b[0m\n\u001b[1;32m     44\u001b[0m     )\n\u001b[0;32m---> 45\u001b[0;31m     \u001b[0mwatch\u001b[0m \u001b[0;34m=\u001b[0m \u001b[0mwatch_html\u001b[0m\u001b[0;34m[\u001b[0m\u001b[0;36m0\u001b[0m\u001b[0;34m]\u001b[0m\u001b[0;34m.\u001b[0m\u001b[0mtext\u001b[0m\u001b[0;34m.\u001b[0m\u001b[0mstrip\u001b[0m\u001b[0;34m(\u001b[0m\u001b[0;34m)\u001b[0m\u001b[0;34m\u001b[0m\u001b[0;34m\u001b[0m\u001b[0m\n\u001b[0m\u001b[1;32m     46\u001b[0m     stars_html = githtmltxt.find_all(\n\u001b[1;32m     47\u001b[0m         \u001b[0;34m'a'\u001b[0m\u001b[0;34m,\u001b[0m\u001b[0;34m\u001b[0m\u001b[0;34m\u001b[0m\u001b[0m\n",
      "\u001b[0;31mIndexError\u001b[0m: list index out of range"
     ]
    }
   ],
   "source": [
    "html = requests.get(test2)\n",
    "htmltxt = bs(html.text, 'html.parser')\n",
    "repohtml = htmltxt.find_all('a', class_=\"text-bold flex-auto \")\n",
    "if len(repohtml) == 0:\n",
    "    output = gitfeature_extract(github_account_html.replace('https://github.com', ''))"
   ]
  },
  {
   "cell_type": "code",
   "execution_count": 104,
   "metadata": {},
   "outputs": [
    {
     "data": {
      "text/plain": [
       "{'watchers': '25',\n",
       " 'stars': '20',\n",
       " 'forks': '13',\n",
       " 'commits': '121',\n",
       " 'branches': '6'}"
      ]
     },
     "execution_count": 104,
     "metadata": {},
     "output_type": "execute_result"
    }
   ],
   "source": [
    "gitfeature_extract(g.replace('https://github.com', ''))"
   ]
  },
  {
   "cell_type": "code",
   "execution_count": 25,
   "metadata": {},
   "outputs": [
    {
     "name": "stdout",
     "output_type": "stream",
     "text": [
      "{'watchers': '25', 'stars': '20', 'forks': '13', 'commits': '121', 'branches': '6'}\n"
     ]
    }
   ],
   "source": [
    "gitfeature_html(test2)"
   ]
  },
  {
   "cell_type": "code",
   "execution_count": null,
   "metadata": {},
   "outputs": [],
   "source": []
  }
 ],
 "metadata": {
  "kernelspec": {
   "display_name": "Python 3",
   "language": "python",
   "name": "python3"
  },
  "language_info": {
   "codemirror_mode": {
    "name": "ipython",
    "version": 3
   },
   "file_extension": ".py",
   "mimetype": "text/x-python",
   "name": "python",
   "nbconvert_exporter": "python",
   "pygments_lexer": "ipython3",
   "version": "3.6.8"
  }
 },
 "nbformat": 4,
 "nbformat_minor": 2
}
