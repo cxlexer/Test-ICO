{
 "cells": [
  {
   "cell_type": "code",
   "execution_count": null,
   "metadata": {},
   "outputs": [],
   "source": [
    "import numpy as np\n",
    "import requests\n",
    "import pandas as pd\n"
   ]
  },
  {
   "cell_type": "code",
   "execution_count": null,
   "metadata": {},
   "outputs": [],
   "source": [
    "FULLDATA_FILE = '/users/eric/PycharmProjects/testico/fulldata.csv'"
   ]
  },
  {
   "cell_type": "code",
   "execution_count": null,
   "metadata": {},
   "outputs": [],
   "source": [
    "full = pd.read_csv(FULLDATA_FILE,index_col=0)\n",
    "full"
   ]
  },
  {
   "cell_type": "code",
   "execution_count": null,
   "metadata": {},
   "outputs": [],
   "source": [
    "full.dropna(subset=['ROI'], inplace=True)\n",
    "\n",
    "\n"
   ]
  },
  {
   "cell_type": "code",
   "execution_count": null,
   "metadata": {},
   "outputs": [],
   "source": [
    "full_num = full.drop(['Coin Symbol', 'Accepted Currencies', 'Have Prototype?', 'Pre-ICO Dates',\n",
    "                      'name', 'url', 'image', 'timezone', 'description', 'website_link',\n",
    "                      'Funding Goal', 'Total Tokens', 'Price Now', 'Funds in Escrow?',\n",
    "                      'Restricted Countries', 'Total Raised'],\n",
    "                     axis=1)"
   ]
  },
  {
   "cell_type": "code",
   "execution_count": null,
   "metadata": {},
   "outputs": [],
   "source": [
    "full_num.head()"
   ]
  },
  {
   "cell_type": "code",
   "execution_count": null,
   "metadata": {},
   "outputs": [],
   "source": [
    "def binarized_github(git):\n",
    "    if pd.isna(git):\n",
    "        return 0\n",
    "    else:\n",
    "        return 1\n",
    "   \n",
    " "
   ]
  },
  {
   "cell_type": "code",
   "execution_count": null,
   "metadata": {},
   "outputs": [],
   "source": [
    "full_num['binarize_Git'] = full_num['Github URL'].apply(binarized_github)"
   ]
  },
  {
   "cell_type": "code",
   "execution_count": null,
   "metadata": {},
   "outputs": [],
   "source": [
    "full_num\n"
   ]
  },
  {
   "cell_type": "code",
   "execution_count": null,
   "metadata": {},
   "outputs": [],
   "source": [
    "full.head()"
   ]
  },
  {
   "cell_type": "code",
   "execution_count": null,
   "metadata": {},
   "outputs": [],
   "source": [
    "full.dropna(subset=['ROI'], inplace=True)\n",
    "\n",
    "\n",
    "full_num = full.drop(['Coin Symbol', 'Accepted Currencies', 'Have Prototype?', 'Pre-ICO Dates',\n",
    "                      'name', 'url', 'image', 'timezone', 'description', 'website_link',\n",
    "                      'Funding Goal', 'Total Tokens', 'Price Now', 'Funds in Escrow?',\n",
    "                      'Restricted Countries', 'Total Raised'],\n",
    "                     axis=1)\n",
    "full_num['Initial Token Price'] = full_num['Initial Token Price'].replace(['\\$'], '', regex=True)\n",
    "full_num['Initial Token Price'] = full_num['Initial Token Price'].str.strip()\n",
    "full_num['Initial Token Price'] = pd.to_numeric(full_num['Initial Token Price'].str.replace(',', ''), errors='coerce')\n",
    "full_num['price_usd'] = pd.to_numeric(full_num['price_usd'].str.replace(',', ''), errors='coerce')\n",
    "#\n",
    "\n",
    "full_num['ROI'] = full_num['ROI'].str.replace(',', '')\n",
    "full_num['ROI'] = full_num['ROI'].str.rstrip('%').astype('float')/100\n",
    "#\n",
    "full_num['end_time'] = pd.to_datetime(full_num['end_time'])\n",
    "full_num['start_time'] = pd.to_datetime(full_num['start_time'])\n",
    "full_num['Total days'] = (full_num['end_time'] - full_num['start_time']).dt.days\n",
    "full_num = full_num.drop(['end_time', 'start_time'], axis=1)\n",
    "full_num = full_num[['ROI', 'Country', 'Initial Token Price', 'Platform',\n",
    "                     'price_usd', 'Total days', 'Github URL']]\n",
    "\n",
    "full_num = pd.get_dummies(full_num, columns=['Country', 'Platform'], drop_first=True)\n",
    "\n",
    "\n",
    "#"
   ]
  },
  {
   "cell_type": "code",
   "execution_count": null,
   "metadata": {},
   "outputs": [],
   "source": [
    "full_num"
   ]
  },
  {
   "cell_type": "code",
   "execution_count": null,
   "metadata": {},
   "outputs": [],
   "source": [
    "def binarize_roi(roi):\n",
    "    if roi > 0:\n",
    "        return 1\n",
    "    else:\n",
    "        return 0\n",
    "\n",
    "\n",
    "def binarized_github(git):\n",
    "    if pd.isna(git):\n",
    "        return 0\n",
    "    else:\n",
    "        return 1\n",
    "\n",
    "full_num['binary_ROI'] = full_num['ROI'].apply(binarize_roi)\n",
    "full_num['binarize_Git'] = full_num['Github URL'].apply(binarized_github)\n"
   ]
  },
  {
   "cell_type": "code",
   "execution_count": null,
   "metadata": {},
   "outputs": [],
   "source": [
    "full_num"
   ]
  },
  {
   "cell_type": "code",
   "execution_count": null,
   "metadata": {},
   "outputs": [],
   "source": []
  },
  {
   "cell_type": "code",
   "execution_count": null,
   "metadata": {},
   "outputs": [],
   "source": [
    "full_num = full_num.drop('Github URL', axis=1)"
   ]
  },
  {
   "cell_type": "code",
   "execution_count": null,
   "metadata": {},
   "outputs": [],
   "source": [
    "full_num = full_num.drop('ROI', axis=1)"
   ]
  },
  {
   "cell_type": "code",
   "execution_count": 2,
   "metadata": {},
   "outputs": [
    {
     "name": "stderr",
     "output_type": "stream",
     "text": [
      "/Users/eric/miniconda3/envs/py3/lib/python3.6/site-packages/sklearn/ensemble/forest.py:245: FutureWarning: The default value of n_estimators will change from 10 in version 0.20 to 100 in 0.22.\n",
      "  \"10 in version 0.20 to 100 in 0.22.\", FutureWarning)\n",
      "/Users/eric/miniconda3/envs/py3/lib/python3.6/site-packages/sklearn/ensemble/forest.py:245: FutureWarning: The default value of n_estimators will change from 10 in version 0.20 to 100 in 0.22.\n",
      "  \"10 in version 0.20 to 100 in 0.22.\", FutureWarning)\n",
      "/Users/eric/miniconda3/envs/py3/lib/python3.6/site-packages/sklearn/ensemble/forest.py:245: FutureWarning: The default value of n_estimators will change from 10 in version 0.20 to 100 in 0.22.\n",
      "  \"10 in version 0.20 to 100 in 0.22.\", FutureWarning)\n",
      "/Users/eric/miniconda3/envs/py3/lib/python3.6/site-packages/sklearn/ensemble/forest.py:245: FutureWarning: The default value of n_estimators will change from 10 in version 0.20 to 100 in 0.22.\n",
      "  \"10 in version 0.20 to 100 in 0.22.\", FutureWarning)\n",
      "/Users/eric/miniconda3/envs/py3/lib/python3.6/site-packages/sklearn/ensemble/forest.py:245: FutureWarning: The default value of n_estimators will change from 10 in version 0.20 to 100 in 0.22.\n",
      "  \"10 in version 0.20 to 100 in 0.22.\", FutureWarning)\n",
      "/Users/eric/miniconda3/envs/py3/lib/python3.6/site-packages/sklearn/ensemble/forest.py:245: FutureWarning: The default value of n_estimators will change from 10 in version 0.20 to 100 in 0.22.\n",
      "  \"10 in version 0.20 to 100 in 0.22.\", FutureWarning)\n",
      "/Users/eric/miniconda3/envs/py3/lib/python3.6/site-packages/sklearn/ensemble/forest.py:245: FutureWarning: The default value of n_estimators will change from 10 in version 0.20 to 100 in 0.22.\n",
      "  \"10 in version 0.20 to 100 in 0.22.\", FutureWarning)\n",
      "/Users/eric/miniconda3/envs/py3/lib/python3.6/site-packages/sklearn/ensemble/forest.py:245: FutureWarning: The default value of n_estimators will change from 10 in version 0.20 to 100 in 0.22.\n",
      "  \"10 in version 0.20 to 100 in 0.22.\", FutureWarning)\n",
      "/Users/eric/miniconda3/envs/py3/lib/python3.6/site-packages/sklearn/ensemble/forest.py:245: FutureWarning: The default value of n_estimators will change from 10 in version 0.20 to 100 in 0.22.\n",
      "  \"10 in version 0.20 to 100 in 0.22.\", FutureWarning)\n",
      "/Users/eric/miniconda3/envs/py3/lib/python3.6/site-packages/sklearn/ensemble/forest.py:245: FutureWarning: The default value of n_estimators will change from 10 in version 0.20 to 100 in 0.22.\n",
      "  \"10 in version 0.20 to 100 in 0.22.\", FutureWarning)\n",
      "/Users/eric/miniconda3/envs/py3/lib/python3.6/site-packages/sklearn/ensemble/forest.py:245: FutureWarning: The default value of n_estimators will change from 10 in version 0.20 to 100 in 0.22.\n",
      "  \"10 in version 0.20 to 100 in 0.22.\", FutureWarning)\n",
      "/Users/eric/miniconda3/envs/py3/lib/python3.6/site-packages/sklearn/linear_model/logistic.py:432: FutureWarning: Default solver will be changed to 'lbfgs' in 0.22. Specify a solver to silence this warning.\n",
      "  FutureWarning)\n",
      "/Users/eric/miniconda3/envs/py3/lib/python3.6/site-packages/sklearn/linear_model/logistic.py:432: FutureWarning: Default solver will be changed to 'lbfgs' in 0.22. Specify a solver to silence this warning.\n",
      "  FutureWarning)\n",
      "/Users/eric/miniconda3/envs/py3/lib/python3.6/site-packages/sklearn/linear_model/logistic.py:432: FutureWarning: Default solver will be changed to 'lbfgs' in 0.22. Specify a solver to silence this warning.\n",
      "  FutureWarning)\n",
      "/Users/eric/miniconda3/envs/py3/lib/python3.6/site-packages/sklearn/linear_model/logistic.py:432: FutureWarning: Default solver will be changed to 'lbfgs' in 0.22. Specify a solver to silence this warning.\n",
      "  FutureWarning)\n",
      "/Users/eric/miniconda3/envs/py3/lib/python3.6/site-packages/sklearn/linear_model/logistic.py:432: FutureWarning: Default solver will be changed to 'lbfgs' in 0.22. Specify a solver to silence this warning.\n",
      "  FutureWarning)\n",
      "/Users/eric/miniconda3/envs/py3/lib/python3.6/site-packages/sklearn/linear_model/logistic.py:432: FutureWarning: Default solver will be changed to 'lbfgs' in 0.22. Specify a solver to silence this warning.\n",
      "  FutureWarning)\n",
      "/Users/eric/miniconda3/envs/py3/lib/python3.6/site-packages/sklearn/linear_model/logistic.py:432: FutureWarning: Default solver will be changed to 'lbfgs' in 0.22. Specify a solver to silence this warning.\n",
      "  FutureWarning)\n",
      "/Users/eric/miniconda3/envs/py3/lib/python3.6/site-packages/sklearn/linear_model/logistic.py:432: FutureWarning: Default solver will be changed to 'lbfgs' in 0.22. Specify a solver to silence this warning.\n",
      "  FutureWarning)\n",
      "/Users/eric/miniconda3/envs/py3/lib/python3.6/site-packages/sklearn/linear_model/logistic.py:432: FutureWarning: Default solver will be changed to 'lbfgs' in 0.22. Specify a solver to silence this warning.\n",
      "  FutureWarning)\n",
      "/Users/eric/miniconda3/envs/py3/lib/python3.6/site-packages/sklearn/linear_model/logistic.py:432: FutureWarning: Default solver will be changed to 'lbfgs' in 0.22. Specify a solver to silence this warning.\n",
      "  FutureWarning)\n"
     ]
    },
    {
     "name": "stdout",
     "output_type": "stream",
     "text": [
      "0.7692307692307692\n",
      "0.8429487179487178\n",
      "0.8589743589743589\n"
     ]
    }
   ],
   "source": [
    "import numpy as np\n",
    "import pandas as pd\n",
    "from sklearn.model_selection import train_test_split\n",
    "\n",
    "np.random.seed(1)\n",
    "\n",
    "from sklearn.ensemble import RandomForestClassifier\n",
    "from xgboost import XGBClassifier\n",
    "from sklearn.metrics import accuracy_score\n",
    "from sklearn.model_selection import cross_val_score\n",
    "import eli5\n",
    "from eli5.sklearn import PermutationImportance\n",
    "from sklearn.linear_model import LogisticRegression\n",
    "\n",
    "RAW_DATA_FILEPATH = '/users/eric/PycharmProjects/testico/api_data.json'\n",
    "URL_FILEPATH = '/users/eric/PycharmProjects/testico/ico_urls.txt'\n",
    "TOKEN_FILE = '/users/eric/PycharmProjects/testico/token.csv'\n",
    "FULLDATA_FILE = '/users/eric/PycharmProjects/testico/fulldata.csv'\n",
    "NUMERICAL_DATA_FILE = '/users/eric/PycharmProjects/testico/full_num.csv'\n",
    "TEXT_DATA_FILE = '/users/eric/PycharmProjects/testico/textfeature_dataframe.csv'\n",
    "\n",
    "full_num = pd.read_csv(NUMERICAL_DATA_FILE, index_col=0)\n",
    "\n",
    "# Ignore last label: ROI\n",
    "feature_names = full_num.columns.tolist()[:-1]\n",
    "#import ipdb; ipdb.set_trace()\n",
    "y = full_num['binary_ROI']\n",
    "X = full_num[feature_names]\n",
    "train_X, val_X, train_y, val_y = train_test_split(X, y, random_state=1)\n",
    "my_model = RandomForestClassifier(random_state=0).fit(train_X, train_y)\n",
    "\n",
    "perm = PermutationImportance(my_model, random_state=1).fit(val_X, val_y)\n",
    "eli5.show_weights(perm, feature_names=val_X.columns.tolist())\n",
    "\n",
    "\n",
    "# y_pred = my_model.predict(val_X)\n",
    "# accuracy = accuracy_score(val_y, y_pred)\n",
    "# print(accuracy)\n",
    "\n",
    "scores2 = cross_val_score(RandomForestClassifier(random_state=0), X, y, cv=10)\n",
    "print(np.mean(scores2))\n",
    "\n",
    "\n",
    "\n",
    "train, test = train_test_split(full_num, test_size=0.33)\n",
    "array_train = train.values\n",
    "array_test = test.values\n",
    "\n",
    "x_train = array_train[:, 0:-1]\n",
    "y_train = array_train[:, -1]\n",
    "\n",
    "x_test = array_test[:, 0:-1]\n",
    "y_test = array_test[:, -1]\n",
    "\n",
    "\n",
    "\n",
    "\n",
    "\n",
    "\n",
    "#log model\n",
    "logmodel = LogisticRegression()\n",
    "#logmodel.fit(train_X,train_y )\n",
    "scores3 = cross_val_score(logmodel, X, y, cv=10)\n",
    "print(np.mean(scores3))\n",
    "\n",
    "#XGBC\n",
    "model = XGBClassifier()\n",
    "#model.fit(x_train, y_train)\n",
    "\n",
    "# y_pred = model.predict(x_test)\n",
    "# accuracy = accuracy_score(y_test, y_pred)\n",
    "# print(accuracy)\n",
    "\n",
    "\n",
    "# cross-validation with 10folds\n",
    "\n",
    "fullvalue = full_num .values\n",
    "traindata = fullvalue[:, 0:-1]\n",
    "testdata = fullvalue[:, -1]\n",
    "#xgbc = model.fit(x_train, y_train)\n",
    "scores = cross_val_score(model, X, y, cv=10)\n",
    "print(np.mean(scores))\n",
    "\n",
    "\n",
    "\n"
   ]
  },
  {
   "cell_type": "code",
   "execution_count": null,
   "metadata": {},
   "outputs": [],
   "source": [
    "scores3"
   ]
  },
  {
   "cell_type": "code",
   "execution_count": null,
   "metadata": {},
   "outputs": [],
   "source": [
    "scores\n"
   ]
  },
  {
   "cell_type": "code",
   "execution_count": null,
   "metadata": {},
   "outputs": [],
   "source": []
  },
  {
   "cell_type": "code",
   "execution_count": null,
   "metadata": {},
   "outputs": [],
   "source": []
  },
  {
   "cell_type": "code",
   "execution_count": null,
   "metadata": {},
   "outputs": [],
   "source": [
    "X"
   ]
  },
  {
   "cell_type": "code",
   "execution_count": null,
   "metadata": {},
   "outputs": [],
   "source": [
    "full_num = pd.read_csv(NUMERICAL_DATA_FILE, index_col=0)\n",
    "\n",
    "# Ignore last label: ROI\n",
    "feature_names = full_num.columns.tolist()[:-2]\n",
    "#import ipdb; ipdb.set_trace()\n",
    "y = full_num['binary_ROI']\n",
    "X = full_num[feature_names]\n",
    "train_X, val_X, train_y, val_y = train_test_split(X, y, random_state=1)"
   ]
  },
  {
   "cell_type": "code",
   "execution_count": null,
   "metadata": {},
   "outputs": [],
   "source": [
    "my_model = RandomForestClassifier(random_state=0).fit(train_X, train_y)\n",
    "\n",
    "perm = PermutationImportance(my_model, random_state=1).fit(val_X, val_y)\n",
    "eli5.show_weights(perm, feature_names=val_X.columns.tolist())\n",
    "\n",
    "\n",
    "y_pred = my_model.predict(val_X)\n",
    "accuracy = accuracy_score(val_y, y_pred)\n",
    "print(accuracy)\n",
    "\n",
    "scores2 = cross_val_score(my_model, X, y, cv=10)\n",
    "print(np.mean(scores2))\n",
    "\n",
    "\n",
    "\n",
    "train, test = train_test_split(full_num, test_size=0.33)\n",
    "array_train = train.values\n",
    "array_test = test.values\n",
    "\n",
    "x_train = array_train[:, 0:-1]\n",
    "y_train = array_train[:, -1]\n",
    "\n",
    "x_test = array_test[:, 0:-1]\n",
    "y_test = array_test[:, -1]\n",
    "\n",
    "\n",
    "\n",
    "\n",
    "\n",
    "\n",
    "#log model\n",
    "logmodel = LogisticRegression()\n",
    "logmodel.fit(train_X,train_y )\n",
    "scores3 = cross_val_score(logmodel, X, y, cv=10)\n",
    "print(np.mean(scores3))\n",
    "\n",
    "#XGBC\n",
    "model = XGBClassifier()\n",
    "model.fit(x_train, y_train)\n",
    "\n",
    "y_pred = model.predict(x_test)\n",
    "accuracy = accuracy_score(y_test, y_pred)\n",
    "print(accuracy)\n",
    "\n",
    "\n",
    "# cross-validation with 10folds\n",
    "\n",
    "fullvalue = full_num .values\n",
    "traindata = fullvalue[:, 0:-1]\n",
    "testdata = fullvalue[:, -1]\n",
    "xgbc = model.fit(x_train, y_train)\n",
    "scores = cross_val_score(xgbc, X, y, cv=10)\n",
    "print(np.mean(scores))\n",
    "print(np.var(scores))\n",
    "\n",
    "\n"
   ]
  },
  {
   "cell_type": "code",
   "execution_count": null,
   "metadata": {},
   "outputs": [],
   "source": []
  },
  {
   "cell_type": "code",
   "execution_count": null,
   "metadata": {},
   "outputs": [],
   "source": []
  }
 ],
 "metadata": {
  "kernelspec": {
   "display_name": "Python 3",
   "language": "python",
   "name": "python3"
  },
  "language_info": {
   "codemirror_mode": {
    "name": "ipython",
    "version": 3
   },
   "file_extension": ".py",
   "mimetype": "text/x-python",
   "name": "python",
   "nbconvert_exporter": "python",
   "pygments_lexer": "ipython3",
   "version": "3.6.8"
  }
 },
 "nbformat": 4,
 "nbformat_minor": 2
}
