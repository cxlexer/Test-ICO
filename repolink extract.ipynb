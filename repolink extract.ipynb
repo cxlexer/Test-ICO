{
 "cells": [
  {
   "cell_type": "code",
   "execution_count": 31,
   "metadata": {},
   "outputs": [],
   "source": [
    "import json\n",
    "import numpy as np\n",
    "import requests\n",
    "import pandas as pd\n",
    "from bs4 import BeautifulSoup as bs\n",
    "from operator import itemgetter \n",
    "import time\n"
   ]
  },
  {
   "cell_type": "code",
   "execution_count": 32,
   "metadata": {},
   "outputs": [],
   "source": [
    "url = 'https://github.com/DigixGlobal'\n",
    "\n"
   ]
  },
  {
   "cell_type": "code",
   "execution_count": 33,
   "metadata": {},
   "outputs": [],
   "source": [
    "\n",
    "            \n",
    "def repolink_extract(url):\n",
    "    \n",
    "    html = requests.get(url)\n",
    "    htmltxt = bs(html.text, 'html.parser')\n",
    "    \n",
    "    \n",
    "    repohtml = htmltxt.find_all('a', class_=\"d-inline-block\", \n",
    "                                itemprop=\"name codeRepository\")\n",
    "\n",
    "    partial_repolink_list = []\n",
    "    for item in repohtml:\n",
    "        link = item.attrs['href']\n",
    "        partial_repolink_list.append(link)\n",
    "    return partial_repolink_list\n",
    "    \n",
    "\n",
    "    \n",
    "\n",
    "def nextpage_extract(url):\n",
    "    html = requests.get(url)\n",
    "    htmltxt = bs(html.text, 'html.parser')\n",
    "\n",
    "    nextpage = htmltxt.find_all('a', \n",
    "                    class_=\"next_page\",\n",
    "                    rel=\"next\")\n",
    "    if len(nextpage) != 0:\n",
    "        a = 'https://github.com'\n",
    "        next_ = nextpage[0].attrs['href']\n",
    "        nextlink = '{}{}'.format(a, next_)\n",
    "        return nextlink\n",
    "    else:\n",
    "        return None\n",
    "\n",
    "\n",
    "def repolink_extract_paginator(current_url):\n",
    "    output = repolink_extract(current_url)\n",
    "    next_url = nextpage_extract(current_url)\n",
    "    while next_url is not None:\n",
    "        current_url = next_url\n",
    "        output_temp = repolink_extract(current_url)\n",
    "        output.append(output_temp)\n",
    "        next_url = nextpage_extract(current_url)\n",
    "        time.sleep(1)\n",
    "    repolink_list = []\n",
    "    def reemoveNestings(l):\n",
    "        for i in l:\n",
    "            if type(i) == list:\n",
    "                reemoveNestings(i)\n",
    "            else:\n",
    "                repolink_list.append(i)\n",
    "    reemoveNestings(output)\n",
    "    \n",
    "    return repolink_list\n",
    "    "
   ]
  },
  {
   "cell_type": "code",
   "execution_count": 37,
   "metadata": {},
   "outputs": [],
   "source": [
    "def gitfeature_html(github_account_html):\n",
    "    html = requests.get(github_account_html)\n",
    "    htmltxt = bs(html.text, 'html.parser')\n",
    "    repohtml = htmltxt.find_all('a',class_=\"d-inline-block\", \n",
    "                                itemprop=\"name codeRepository\")\n",
    "    if len(repohtml) == 0:\n",
    "        output = gitfeature_extract(github_account_html.replace('https://github.com', ''))\n",
    "        return output\n",
    "        \n",
    "    \n",
    "    else:\n",
    "        output = repofeature_extract_paginator(github_account_html)\n",
    "        return output\n",
    "        \n",
    "        \n",
    "\n",
    "def gitfeature_extract(partial_repolink):\n",
    "    a = 'https://github.com'\n",
    "    full_repolink = '{}{}'.format(a, partial_repolink)\n",
    "    githtml = requests.get(full_repolink)\n",
    "    githtmltxt = bs(githtml.text, 'html.parser')\n",
    "    watch_html = githtmltxt.find_all(\n",
    "        'a', \n",
    "        class_=\"social-count\",\n",
    "        href= '{}{}'.format(partial_repolink,'/watchers')\n",
    "    )\n",
    "    watch = watch_html[0].text.strip().replace(',', '')\n",
    "    stars_html = githtmltxt.find_all(\n",
    "        'a',\n",
    "        class_=\"social-count\",\n",
    "        href= '{}{}'.format(partial_repolink,'/stargazers')\n",
    "    )\n",
    "    stars = stars_html[0].text.strip().replace(',', '')\n",
    "    forks_html = githtmltxt.find_all(\n",
    "        'a',\n",
    "        href= '{}{}'.format(partial_repolink,'/network/members'),\n",
    "        class_=\"social-count\"\n",
    "    )\n",
    "    \n",
    "    forks = forks_html[0].text.strip().replace(',', '')\n",
    "\n",
    "    otherfeature_html = githtmltxt.find_all(\n",
    "       'span', class_=\"num text-emphasized\")\n",
    "    commits = otherfeature_html[0].text.strip().replace(',', '')\n",
    "    branches = otherfeature_html[1].text.strip().replace(',', '')\n",
    "    releases = otherfeature_html[2].text.strip().replace(',', '')\n",
    "    gitfeature = {\n",
    "        'watchers':watch,\n",
    "        'stars': stars,\n",
    "        'forks':forks, \n",
    "        'commits':commits,\n",
    "        'branches':branches}\n",
    "    return gitfeature\n",
    "\n",
    "\n",
    "\n"
   ]
  },
  {
   "cell_type": "code",
   "execution_count": 38,
   "metadata": {},
   "outputs": [],
   "source": [
    "def repofeature_extract_paginator(current_url):\n",
    "    output = repolink_extract(current_url)\n",
    "    next_url = nextpage_extract(current_url)\n",
    "    while next_url is not None:\n",
    "        current_url = next_url\n",
    "        output_temp = repolink_extract(current_url)\n",
    "        output.append(output_temp)\n",
    "        next_url = nextpage_extract(current_url)\n",
    "        time.sleep(1)\n",
    "    repolink_list = []\n",
    "    def reemoveNestings(l):\n",
    "        for i in l:\n",
    "            if type(i) == list:\n",
    "                reemoveNestings(i)\n",
    "            else:\n",
    "                repolink_list.append(i)\n",
    "    reemoveNestings(output)\n",
    "    d_list = []\n",
    "    feature_sum = {}\n",
    "    for partial_repolink in repolink_list:\n",
    "        feature_dic = gitfeature_extract(partial_repolink)\n",
    "        d_list.append(feature_dic)\n",
    "    for d in d_list:\n",
    "        for k in d.keys():\n",
    "            feature_sum[k] = feature_sum.get(k, 0) + int((d[k]))\n",
    "    return feature_sum"
   ]
  },
  {
   "cell_type": "code",
   "execution_count": 39,
   "metadata": {},
   "outputs": [
    {
     "data": {
      "text/plain": [
       "{'watchers': 587,\n",
       " 'stars': 1617,\n",
       " 'forks': 32265,\n",
       " 'commits': 84915,\n",
       " 'branches': 646}"
      ]
     },
     "execution_count": 39,
     "metadata": {},
     "output_type": "execute_result"
    }
   ],
   "source": [
    "gitfeature_html(url2)"
   ]
  },
  {
   "cell_type": "code",
   "execution_count": 29,
   "metadata": {},
   "outputs": [],
   "source": [
    "url2 = 'https://github.com/AugurProject'"
   ]
  },
  {
   "cell_type": "code",
   "execution_count": 6,
   "metadata": {
    "scrolled": false
   },
   "outputs": [
    {
     "data": {
      "text/plain": [
       "['/AugurProject/augur',\n",
       " '/AugurProject/augur-ui',\n",
       " '/AugurProject/augur-node',\n",
       " '/AugurProject/landing-page',\n",
       " '/AugurProject/docs',\n",
       " '/AugurProject/augur-app',\n",
       " '/AugurProject/solidity-docgen',\n",
       " '/AugurProject/augur.js',\n",
       " '/AugurProject/solidity-typescript-generator',\n",
       " '/AugurProject/ethereum-nodes',\n",
       " '/AugurProject/augur-core',\n",
       " '/AugurProject/Augur-Node-Experiment',\n",
       " '/AugurProject/knex',\n",
       " '/AugurProject/whitepaper',\n",
       " '/AugurProject/ethereumjs-blockstream',\n",
       " '/AugurProject/speedomatic',\n",
       " '/AugurProject/augur-ui-extractor',\n",
       " '/AugurProject/augur-walkthrough',\n",
       " '/AugurProject/rep-migration',\n",
       " '/AugurProject/MyCrypto',\n",
       " '/AugurProject/etherwallet',\n",
       " '/AugurProject/eth-contract-metadata',\n",
       " '/AugurProject/augur-bounties',\n",
       " '/AugurProject/solidity-flattener',\n",
       " '/AugurProject/go-ethereum',\n",
       " '/AugurProject/branding',\n",
       " '/AugurProject/electron-metamask-boilerplate',\n",
       " '/AugurProject/bignumber.js',\n",
       " '/AugurProject/EIPs',\n",
       " '/AugurProject/react-blockies',\n",
       " '/AugurProject/pyethereum',\n",
       " '/AugurProject/Solium',\n",
       " '/AugurProject/redux-thunk-subscribe',\n",
       " '/AugurProject/augur-ui-sandbox',\n",
       " '/AugurProject/py_ecc']"
      ]
     },
     "execution_count": 6,
     "metadata": {},
     "output_type": "execute_result"
    }
   ],
   "source": [
    "repolink_extract_paginator(url2)"
   ]
  },
  {
   "cell_type": "code",
   "execution_count": 35,
   "metadata": {},
   "outputs": [],
   "source": [
    "current_url = 'https://github.com/DigixGlobal'\n",
    "output = repolink_extract(current_url)\n",
    "next_url = nextpage_extract(current_url)\n",
    "while next_url is not None:\n",
    "    current_url = next_url\n",
    "    output_temp = repolink_extract(current_url)\n",
    "    output.append(output_temp)\n",
    "    next_url = nextpage_extract(current_url)\n",
    "    time.sleep(1)\n",
    "repolink_list = []\n",
    "def reemoveNestings(l):\n",
    "    for i in l:\n",
    "        if type(i) == list:\n",
    "            reemoveNestings(i)\n",
    "        else:\n",
    "            repolink_list.append(i)\n",
    "reemoveNestings(output)\n",
    "d_list = []\n",
    "feature_sum = {}\n",
    "for partial_repolink in repolink_list:\n",
    "    feature_dic = gitfeature_extract(partial_repolink)\n",
    "    d_list.append(feature_dic)"
   ]
  },
  {
   "cell_type": "code",
   "execution_count": 36,
   "metadata": {
    "scrolled": true
   },
   "outputs": [
    {
     "data": {
      "text/plain": [
       "[{'watchers': '5',\n",
       "  'stars': '0',\n",
       "  'forks': '0',\n",
       "  'commits': '35',\n",
       "  'branches': '41'},\n",
       " {'watchers': '0',\n",
       "  'stars': '0',\n",
       "  'forks': '0',\n",
       "  'commits': '8',\n",
       "  'branches': '7'},\n",
       " {'watchers': '6',\n",
       "  'stars': '0',\n",
       "  'forks': '0',\n",
       "  'commits': '2',\n",
       "  'branches': '23'},\n",
       " {'watchers': '6',\n",
       "  'stars': '0',\n",
       "  'forks': '0',\n",
       "  'commits': '619',\n",
       "  'branches': '50'},\n",
       " {'watchers': '5',\n",
       "  'stars': '0',\n",
       "  'forks': '0',\n",
       "  'commits': '5',\n",
       "  'branches': '32'},\n",
       " {'watchers': '5',\n",
       "  'stars': '2',\n",
       "  'forks': '1',\n",
       "  'commits': '14',\n",
       "  'branches': '4'},\n",
       " {'watchers': '8',\n",
       "  'stars': '6',\n",
       "  'forks': '3',\n",
       "  'commits': '23',\n",
       "  'branches': '2'},\n",
       " {'watchers': '7',\n",
       "  'stars': '22',\n",
       "  'forks': '2',\n",
       "  'commits': '77',\n",
       "  'branches': '12'},\n",
       " {'watchers': '5',\n",
       "  'stars': '0',\n",
       "  'forks': '0',\n",
       "  'commits': '13',\n",
       "  'branches': '2'},\n",
       " {'watchers': '0',\n",
       "  'stars': '0',\n",
       "  'forks': '1',\n",
       "  'commits': '8',\n",
       "  'branches': '1'},\n",
       " {'watchers': '1',\n",
       "  'stars': '0',\n",
       "  'forks': '6',\n",
       "  'commits': '11',\n",
       "  'branches': '2'},\n",
       " {'watchers': '1',\n",
       "  'stars': '0',\n",
       "  'forks': '566',\n",
       "  'commits': '186',\n",
       "  'branches': '2'},\n",
       " {'watchers': '3',\n",
       "  'stars': '15',\n",
       "  'forks': '9',\n",
       "  'commits': '13',\n",
       "  'branches': '1'},\n",
       " {'watchers': '21',\n",
       "  'stars': '193',\n",
       "  'forks': '43',\n",
       "  'commits': '108',\n",
       "  'branches': '1'},\n",
       " {'watchers': '18',\n",
       "  'stars': '174',\n",
       "  'forks': '49',\n",
       "  'commits': '58',\n",
       "  'branches': '2'},\n",
       " {'watchers': '7',\n",
       "  'stars': '8',\n",
       "  'forks': '2',\n",
       "  'commits': '28',\n",
       "  'branches': '2'},\n",
       " {'watchers': '4',\n",
       "  'stars': '13',\n",
       "  'forks': '8',\n",
       "  'commits': '21',\n",
       "  'branches': '4'},\n",
       " {'watchers': '5',\n",
       "  'stars': '0',\n",
       "  'forks': '0',\n",
       "  'commits': '3',\n",
       "  'branches': '2'},\n",
       " {'watchers': '5',\n",
       "  'stars': '39',\n",
       "  'forks': '15',\n",
       "  'commits': '81',\n",
       "  'branches': '2'},\n",
       " {'watchers': '6',\n",
       "  'stars': '1',\n",
       "  'forks': '0',\n",
       "  'commits': '77',\n",
       "  'branches': '6'},\n",
       " {'watchers': '0',\n",
       "  'stars': '0',\n",
       "  'forks': '0',\n",
       "  'commits': '132',\n",
       "  'branches': '1'},\n",
       " {'watchers': '1',\n",
       "  'stars': '0',\n",
       "  'forks': '400',\n",
       "  'commits': '249',\n",
       "  'branches': '21'},\n",
       " {'watchers': '5',\n",
       "  'stars': '0',\n",
       "  'forks': '0',\n",
       "  'commits': '10',\n",
       "  'branches': '1'},\n",
       " {'watchers': '9',\n",
       "  'stars': '17',\n",
       "  'forks': '9',\n",
       "  'commits': '54',\n",
       "  'branches': '4'},\n",
       " {'watchers': '2',\n",
       "  'stars': '5',\n",
       "  'forks': '1',\n",
       "  'commits': '7',\n",
       "  'branches': '1'},\n",
       " {'watchers': '7',\n",
       "  'stars': '1',\n",
       "  'forks': '1,194',\n",
       "  'commits': '725',\n",
       "  'branches': '25'},\n",
       " {'watchers': '1',\n",
       "  'stars': '1',\n",
       "  'forks': '2',\n",
       "  'commits': '8',\n",
       "  'branches': '3'},\n",
       " {'watchers': '2',\n",
       "  'stars': '4',\n",
       "  'forks': '50',\n",
       "  'commits': '105',\n",
       "  'branches': '3'},\n",
       " {'watchers': '6',\n",
       "  'stars': '0',\n",
       "  'forks': '171',\n",
       "  'commits': '100',\n",
       "  'branches': '3'},\n",
       " {'watchers': '7',\n",
       "  'stars': '15',\n",
       "  'forks': '4',\n",
       "  'commits': '35',\n",
       "  'branches': '4'},\n",
       " {'watchers': '1',\n",
       "  'stars': '0',\n",
       "  'forks': '1',\n",
       "  'commits': '36',\n",
       "  'branches': '1'},\n",
       " {'watchers': '9',\n",
       "  'stars': '19',\n",
       "  'forks': '10',\n",
       "  'commits': '26',\n",
       "  'branches': '1'},\n",
       " {'watchers': '1',\n",
       "  'stars': '2',\n",
       "  'forks': '166',\n",
       "  'commits': '619',\n",
       "  'branches': '18'},\n",
       " {'watchers': '6',\n",
       "  'stars': '1',\n",
       "  'forks': '3',\n",
       "  'commits': '7',\n",
       "  'branches': '1'},\n",
       " {'watchers': '6',\n",
       "  'stars': '0',\n",
       "  'forks': '2',\n",
       "  'commits': '6',\n",
       "  'branches': '1'},\n",
       " {'watchers': '1',\n",
       "  'stars': '2',\n",
       "  'forks': '3',\n",
       "  'commits': '3',\n",
       "  'branches': '1'},\n",
       " {'watchers': '1',\n",
       "  'stars': '0',\n",
       "  'forks': '1',\n",
       "  'commits': '5',\n",
       "  'branches': '1'},\n",
       " {'watchers': '1',\n",
       "  'stars': '0',\n",
       "  'forks': '2',\n",
       "  'commits': '4',\n",
       "  'branches': '1'},\n",
       " {'watchers': '2',\n",
       "  'stars': '0',\n",
       "  'forks': '1',\n",
       "  'commits': '2',\n",
       "  'branches': '1'},\n",
       " {'watchers': '1',\n",
       "  'stars': '3',\n",
       "  'forks': '4',\n",
       "  'commits': '13',\n",
       "  'branches': '1'},\n",
       " {'watchers': '1',\n",
       "  'stars': '0',\n",
       "  'forks': '1',\n",
       "  'commits': '9',\n",
       "  'branches': '1'},\n",
       " {'watchers': '1',\n",
       "  'stars': '0',\n",
       "  'forks': '1',\n",
       "  'commits': '9',\n",
       "  'branches': '1'},\n",
       " {'watchers': '2',\n",
       "  'stars': '14',\n",
       "  'forks': '17',\n",
       "  'commits': '4',\n",
       "  'branches': '1'},\n",
       " {'watchers': '1',\n",
       "  'stars': '0',\n",
       "  'forks': '3',\n",
       "  'commits': '16',\n",
       "  'branches': '110'},\n",
       " {'watchers': '2',\n",
       "  'stars': '0',\n",
       "  'forks': '45',\n",
       "  'commits': '16',\n",
       "  'branches': '6'},\n",
       " {'watchers': '1',\n",
       "  'stars': '0',\n",
       "  'forks': '47',\n",
       "  'commits': '32',\n",
       "  'branches': '2'},\n",
       " {'watchers': '2',\n",
       "  'stars': '2',\n",
       "  'forks': '46',\n",
       "  'commits': '72',\n",
       "  'branches': '4'},\n",
       " {'watchers': '3',\n",
       "  'stars': '8',\n",
       "  'forks': '5',\n",
       "  'commits': '50',\n",
       "  'branches': '2'},\n",
       " {'watchers': '1',\n",
       "  'stars': '0',\n",
       "  'forks': '45',\n",
       "  'commits': '13',\n",
       "  'branches': '2'},\n",
       " {'watchers': '1',\n",
       "  'stars': '0',\n",
       "  'forks': '2',\n",
       "  'commits': '1',\n",
       "  'branches': '1'},\n",
       " {'watchers': '1',\n",
       "  'stars': '1',\n",
       "  'forks': '2',\n",
       "  'commits': '17',\n",
       "  'branches': '1'},\n",
       " {'watchers': '1',\n",
       "  'stars': '1',\n",
       "  'forks': '3',\n",
       "  'commits': '1',\n",
       "  'branches': '1'},\n",
       " {'watchers': '1',\n",
       "  'stars': '1',\n",
       "  'forks': '2',\n",
       "  'commits': '4',\n",
       "  'branches': '1'},\n",
       " {'watchers': '1',\n",
       "  'stars': '9',\n",
       "  'forks': '7',\n",
       "  'commits': '2',\n",
       "  'branches': '1'},\n",
       " {'watchers': '3',\n",
       "  'stars': '0',\n",
       "  'forks': '53',\n",
       "  'commits': '115',\n",
       "  'branches': '6'},\n",
       " {'watchers': '1',\n",
       "  'stars': '1',\n",
       "  'forks': '4',\n",
       "  'commits': '1',\n",
       "  'branches': '1'},\n",
       " {'watchers': '1',\n",
       "  'stars': '3',\n",
       "  'forks': '4',\n",
       "  'commits': '6',\n",
       "  'branches': '1'},\n",
       " {'watchers': '1',\n",
       "  'stars': '1',\n",
       "  'forks': '5',\n",
       "  'commits': '3',\n",
       "  'branches': '1'},\n",
       " {'watchers': '3',\n",
       "  'stars': '0',\n",
       "  'forks': '3',\n",
       "  'commits': '7',\n",
       "  'branches': '1'},\n",
       " {'watchers': '2',\n",
       "  'stars': '0',\n",
       "  'forks': '546',\n",
       "  'commits': '402',\n",
       "  'branches': '30'},\n",
       " {'watchers': '3',\n",
       "  'stars': '8',\n",
       "  'forks': '8',\n",
       "  'commits': '26',\n",
       "  'branches': '3'},\n",
       " {'watchers': '2',\n",
       "  'stars': '2',\n",
       "  'forks': '5',\n",
       "  'commits': '2',\n",
       "  'branches': '1'},\n",
       " {'watchers': '2',\n",
       "  'stars': '0',\n",
       "  'forks': '3',\n",
       "  'commits': '5',\n",
       "  'branches': '1'},\n",
       " {'watchers': '3',\n",
       "  'stars': '0',\n",
       "  'forks': '5',\n",
       "  'commits': '18',\n",
       "  'branches': '3'},\n",
       " {'watchers': '2',\n",
       "  'stars': '0',\n",
       "  'forks': '137',\n",
       "  'commits': '41',\n",
       "  'branches': '4'},\n",
       " {'watchers': '3',\n",
       "  'stars': '0',\n",
       "  'forks': '9',\n",
       "  'commits': '78',\n",
       "  'branches': '12'},\n",
       " {'watchers': '3',\n",
       "  'stars': '0',\n",
       "  'forks': '48',\n",
       "  'commits': '519',\n",
       "  'branches': '9'},\n",
       " {'watchers': '3',\n",
       "  'stars': '0',\n",
       "  'forks': '106',\n",
       "  'commits': '255',\n",
       "  'branches': '13'},\n",
       " {'watchers': '3',\n",
       "  'stars': '0',\n",
       "  'forks': '123',\n",
       "  'commits': '139',\n",
       "  'branches': '9'},\n",
       " {'watchers': '3',\n",
       "  'stars': '0',\n",
       "  'forks': '52',\n",
       "  'commits': '104',\n",
       "  'branches': '5'},\n",
       " {'watchers': '3',\n",
       "  'stars': '0',\n",
       "  'forks': '371',\n",
       "  'commits': '438',\n",
       "  'branches': '6'},\n",
       " {'watchers': '3',\n",
       "  'stars': '0',\n",
       "  'forks': '1,276',\n",
       "  'commits': '5,637',\n",
       "  'branches': '91'},\n",
       " {'watchers': '3',\n",
       "  'stars': '0',\n",
       "  'forks': '7',\n",
       "  'commits': '14',\n",
       "  'branches': '2'},\n",
       " {'watchers': '3',\n",
       "  'stars': '0',\n",
       "  'forks': '102',\n",
       "  'commits': '216',\n",
       "  'branches': '2'},\n",
       " {'watchers': '12',\n",
       "  'stars': '42',\n",
       "  'forks': '18',\n",
       "  'commits': '78',\n",
       "  'branches': '2'},\n",
       " {'watchers': '6',\n",
       "  'stars': '2',\n",
       "  'forks': '3',\n",
       "  'commits': '2',\n",
       "  'branches': '1'},\n",
       " {'watchers': '4',\n",
       "  'stars': '0',\n",
       "  'forks': '8',\n",
       "  'commits': '31',\n",
       "  'branches': '1'},\n",
       " {'watchers': '5',\n",
       "  'stars': '4',\n",
       "  'forks': '6',\n",
       "  'commits': '3',\n",
       "  'branches': '1'},\n",
       " {'watchers': '4',\n",
       "  'stars': '3',\n",
       "  'forks': '674',\n",
       "  'commits': '59',\n",
       "  'branches': '3'},\n",
       " {'watchers': '4',\n",
       "  'stars': '0',\n",
       "  'forks': '33',\n",
       "  'commits': '402',\n",
       "  'branches': '10'},\n",
       " {'watchers': '3',\n",
       "  'stars': '0',\n",
       "  'forks': '8,429',\n",
       "  'commits': '6,111',\n",
       "  'branches': '20'},\n",
       " {'watchers': '5',\n",
       "  'stars': '3',\n",
       "  'forks': '7',\n",
       "  'commits': '41',\n",
       "  'branches': '1'},\n",
       " {'watchers': '4',\n",
       "  'stars': '3',\n",
       "  'forks': '3',\n",
       "  'commits': '3',\n",
       "  'branches': '1'},\n",
       " {'watchers': '3',\n",
       "  'stars': '0',\n",
       "  'forks': '2,511',\n",
       "  'commits': '853',\n",
       "  'branches': '11'},\n",
       " {'watchers': '3',\n",
       "  'stars': '2',\n",
       "  'forks': '287',\n",
       "  'commits': '508',\n",
       "  'branches': '3'},\n",
       " {'watchers': '3',\n",
       "  'stars': '0',\n",
       "  'forks': '169',\n",
       "  'commits': '476',\n",
       "  'branches': '11'},\n",
       " {'watchers': '3',\n",
       "  'stars': '0',\n",
       "  'forks': '25',\n",
       "  'commits': '17',\n",
       "  'branches': '1'},\n",
       " {'watchers': '3',\n",
       "  'stars': '1',\n",
       "  'forks': '2,168',\n",
       "  'commits': '8,810',\n",
       "  'branches': '15'}]"
      ]
     },
     "execution_count": 36,
     "metadata": {},
     "output_type": "execute_result"
    }
   ],
   "source": [
    "d_list"
   ]
  },
  {
   "cell_type": "code",
   "execution_count": 32,
   "metadata": {},
   "outputs": [],
   "source": [
    "hrff = gitfeature_extract('/AugurProject/augur')"
   ]
  },
  {
   "cell_type": "code",
   "execution_count": 33,
   "metadata": {},
   "outputs": [
    {
     "data": {
      "text/plain": [
       "dict_items([('watchers', '13'), ('stars', '85'), ('forks', '25'), ('commits', '30,974'), ('branches', '66')])"
      ]
     },
     "execution_count": 33,
     "metadata": {},
     "output_type": "execute_result"
    }
   ],
   "source": [
    "hrff"
   ]
  },
  {
   "cell_type": "code",
   "execution_count": 43,
   "metadata": {},
   "outputs": [
    {
     "ename": "TypeError",
     "evalue": "float() takes at most 1 argument (2 given)",
     "output_type": "error",
     "traceback": [
      "\u001b[0;31m---------------------------------------------------------------------------\u001b[0m",
      "\u001b[0;31mTypeError\u001b[0m                                 Traceback (most recent call last)",
      "\u001b[0;32m<ipython-input-43-e2b208a0da1e>\u001b[0m in \u001b[0;36m<module>\u001b[0;34m()\u001b[0m\n\u001b[0;32m----> 1\u001b[0;31m \u001b[0mint\u001b[0m\u001b[0;34m(\u001b[0m\u001b[0mfloat\u001b[0m\u001b[0;34m(\u001b[0m\u001b[0;36m1\u001b[0m\u001b[0;34m,\u001b[0m\u001b[0;36m194\u001b[0m\u001b[0;34m)\u001b[0m\u001b[0;34m)\u001b[0m\u001b[0;34m\u001b[0m\u001b[0;34m\u001b[0m\u001b[0m\n\u001b[0m",
      "\u001b[0;31mTypeError\u001b[0m: float() takes at most 1 argument (2 given)"
     ]
    }
   ],
   "source": [
    "int(float(1,194))"
   ]
  },
  {
   "cell_type": "code",
   "execution_count": 10,
   "metadata": {},
   "outputs": [],
   "source": [
    "url3 = 'https://github.com/ConsenSys/singulardtv-contracts'"
   ]
  },
  {
   "cell_type": "code",
   "execution_count": 11,
   "metadata": {},
   "outputs": [
    {
     "data": {
      "text/plain": [
       "{'watchers': '25',\n",
       " 'stars': '20',\n",
       " 'forks': '13',\n",
       " 'commits': '121',\n",
       " 'branches': '6'}"
      ]
     },
     "execution_count": 11,
     "metadata": {},
     "output_type": "execute_result"
    }
   ],
   "source": [
    "gitfeature_html(url3)"
   ]
  },
  {
   "cell_type": "code",
   "execution_count": 1,
   "metadata": {},
   "outputs": [],
   "source": [
    "ddd = {'watchers': 318,\n",
    " 'stars': 654,\n",
    " 'forks': 20167,\n",
    " 'commits': 29202,\n",
    " 'branches': 707}"
   ]
  },
  {
   "cell_type": "code",
   "execution_count": 3,
   "metadata": {},
   "outputs": [],
   "source": [
    "ll = ddd.items()"
   ]
  },
  {
   "cell_type": "code",
   "execution_count": 8,
   "metadata": {},
   "outputs": [
    {
     "ename": "NameError",
     "evalue": "name 'a' is not defined",
     "output_type": "error",
     "traceback": [
      "\u001b[0;31m---------------------------------------------------------------------------\u001b[0m",
      "\u001b[0;31mNameError\u001b[0m                                 Traceback (most recent call last)",
      "\u001b[0;32m<ipython-input-8-e6f1faff08ad>\u001b[0m in \u001b[0;36m<module>\u001b[0;34m()\u001b[0m\n\u001b[0;32m----> 1\u001b[0;31m \u001b[0mlll\u001b[0m \u001b[0;34m=\u001b[0m \u001b[0;34m[\u001b[0m\u001b[0;34m(\u001b[0m\u001b[0ma\u001b[0m\u001b[0;34m,\u001b[0m \u001b[0mj\u001b[0m\u001b[0;34m)\u001b[0m\u001b[0;34m,\u001b[0m \u001b[0;34m(\u001b[0m\u001b[0mi\u001b[0m\u001b[0;34m,\u001b[0m \u001b[0mo\u001b[0m\u001b[0;34m)\u001b[0m\u001b[0;34m]\u001b[0m\u001b[0;34m\u001b[0m\u001b[0;34m\u001b[0m\u001b[0m\n\u001b[0m",
      "\u001b[0;31mNameError\u001b[0m: name 'a' is not defined"
     ]
    }
   ],
   "source": [
    "lll = [(a, j), (i, o)]"
   ]
  },
  {
   "cell_type": "code",
   "execution_count": 15,
   "metadata": {},
   "outputs": [],
   "source": [
    "llll = []"
   ]
  },
  {
   "cell_type": "code",
   "execution_count": 11,
   "metadata": {},
   "outputs": [],
   "source": [
    "lll.append(ll)"
   ]
  },
  {
   "cell_type": "code",
   "execution_count": 12,
   "metadata": {},
   "outputs": [
    {
     "data": {
      "text/plain": [
       "[dict_items([('watchers', 318), ('stars', 654), ('forks', 20167), ('commits', 29202), ('branches', 707)])]"
      ]
     },
     "execution_count": 12,
     "metadata": {},
     "output_type": "execute_result"
    }
   ],
   "source": [
    "lll"
   ]
  },
  {
   "cell_type": "code",
   "execution_count": 22,
   "metadata": {},
   "outputs": [],
   "source": [
    "for key, value in ddd.items():\n",
    "    temp = (key, value)\n",
    "    llll.append(temp)"
   ]
  },
  {
   "cell_type": "code",
   "execution_count": 23,
   "metadata": {},
   "outputs": [
    {
     "data": {
      "text/plain": [
       "[['watchers', 318],\n",
       " ['stars', 654],\n",
       " ['forks', 20167],\n",
       " ['commits', 29202],\n",
       " ['branches', 707],\n",
       " ('watchers', 318),\n",
       " ('stars', 654),\n",
       " ('forks', 20167),\n",
       " ('commits', 29202),\n",
       " ('branches', 707)]"
      ]
     },
     "execution_count": 23,
     "metadata": {},
     "output_type": "execute_result"
    }
   ],
   "source": [
    "llll\n"
   ]
  },
  {
   "cell_type": "code",
   "execution_count": 24,
   "metadata": {},
   "outputs": [],
   "source": [
    "ll5 = []\n",
    "for item in llll:\n",
    "    ll5.append(item)\n",
    "    "
   ]
  },
  {
   "cell_type": "code",
   "execution_count": 25,
   "metadata": {},
   "outputs": [
    {
     "data": {
      "text/plain": [
       "[['watchers', 318],\n",
       " ['stars', 654],\n",
       " ['forks', 20167],\n",
       " ['commits', 29202],\n",
       " ['branches', 707],\n",
       " ('watchers', 318),\n",
       " ('stars', 654),\n",
       " ('forks', 20167),\n",
       " ('commits', 29202),\n",
       " ('branches', 707)]"
      ]
     },
     "execution_count": 25,
     "metadata": {},
     "output_type": "execute_result"
    }
   ],
   "source": [
    "ll5"
   ]
  },
  {
   "cell_type": "code",
   "execution_count": 27,
   "metadata": {},
   "outputs": [],
   "source": [
    "\n",
    "ll4 = [('a', 9), ('b, 3')]\n",
    "joinedlist = ll4 + ll5\n",
    "\n"
   ]
  },
  {
   "cell_type": "code",
   "execution_count": 28,
   "metadata": {},
   "outputs": [
    {
     "data": {
      "text/plain": [
       "[('a', 9),\n",
       " 'b, 3',\n",
       " ['watchers', 318],\n",
       " ['stars', 654],\n",
       " ['forks', 20167],\n",
       " ['commits', 29202],\n",
       " ['branches', 707],\n",
       " ('watchers', 318),\n",
       " ('stars', 654),\n",
       " ('forks', 20167),\n",
       " ('commits', 29202),\n",
       " ('branches', 707)]"
      ]
     },
     "execution_count": 28,
     "metadata": {},
     "output_type": "execute_result"
    }
   ],
   "source": [
    "joinedlist"
   ]
  },
  {
   "cell_type": "code",
   "execution_count": 44,
   "metadata": {},
   "outputs": [],
   "source": [
    "def gitfeature_extract2(partial_repolink):\n",
    "    a = 'https://github.com'\n",
    "    full_repolink = '{}{}'.format(a, partial_repolink)\n",
    "    githtml = requests.get(full_repolink)\n",
    "    githtmltxt = bs(githtml.text, 'html.parser')\n",
    "    otherfeature_html = githtmltxt.find_all(\n",
    "       'span', class_=\"num text-emphasized\")\n",
    "    if len(otherfeature_html) == 0:\n",
    "        gitfeature = {\n",
    "            'watchers':0,\n",
    "            'stars': 0,\n",
    "            'forks':0, \n",
    "            'commits':0,\n",
    "            'branches':0}\n",
    "        return gitfeature\n",
    "    else:\n",
    "        watch_html = githtmltxt.find_all(\n",
    "            'a', \n",
    "            class_=\"social-count\",\n",
    "            href= '{}{}'.format(partial_repolink,'/watchers')\n",
    "        )\n",
    "        watch = watch_html[0].text.strip().replace(',', '')\n",
    "        stars_html = githtmltxt.find_all(\n",
    "            'a',\n",
    "            class_=\"social-count\",\n",
    "            href= '{}{}'.format(partial_repolink,'/stargazers')\n",
    "        )\n",
    "        stars = stars_html[0].text.strip().replace(',', '')\n",
    "        forks_html = githtmltxt.find_all(\n",
    "            'a',\n",
    "            href= '{}{}'.format(partial_repolink,'/network/members'),\n",
    "            class_=\"social-count\"\n",
    "        )\n",
    "\n",
    "        forks = forks_html[0].text.strip().replace(',', '')\n",
    "\n",
    "        otherfeature_html = githtmltxt.find_all(\n",
    "           'span', class_=\"num text-emphasized\")\n",
    "        commits = otherfeature_html[0].text.strip().replace(',', '')\n",
    "        branches = otherfeature_html[1].text.strip().replace(',', '')\n",
    "        releases = otherfeature_html[2].text.strip().replace(',', '')\n",
    "        gitfeature = {\n",
    "            'watchers':watch,\n",
    "            'stars': stars,\n",
    "            'forks':forks, \n",
    "            'commits':commits,\n",
    "            'branches':branches}\n",
    "        return gitfeature"
   ]
  },
  {
   "cell_type": "code",
   "execution_count": 41,
   "metadata": {},
   "outputs": [],
   "source": [
    " a = 'https://github.com'\n",
    "full_repolink = '{}{}'.format(a, '/cxlexer/tesrepo2')\n",
    "githtml = requests.get(full_repolink)\n",
    "githtmltxt = bs(githtml.text, 'html.parser')\n",
    "otherfeature_html = githtmltxt.find_all(\n",
    "   'span', class_=\"num text-emphasized\")"
   ]
  },
  {
   "cell_type": "code",
   "execution_count": 42,
   "metadata": {},
   "outputs": [
    {
     "data": {
      "text/plain": [
       "[]"
      ]
     },
     "execution_count": 42,
     "metadata": {},
     "output_type": "execute_result"
    }
   ],
   "source": [
    "otherfeature_html"
   ]
  },
  {
   "cell_type": "code",
   "execution_count": 45,
   "metadata": {},
   "outputs": [
    {
     "data": {
      "text/plain": [
       "{'watchers': 0, 'stars': 0, 'forks': 0, 'commits': 0, 'branches': 0}"
      ]
     },
     "execution_count": 45,
     "metadata": {},
     "output_type": "execute_result"
    }
   ],
   "source": [
    "gitfeature_extract2('/cxlexer/tesrepo2')"
   ]
  },
  {
   "cell_type": "code",
   "execution_count": 46,
   "metadata": {},
   "outputs": [],
   "source": [
    "def gitfeature_html(github_account_html):\n",
    "    if github_account_html is None:\n",
    "        gitfeature = {\n",
    "            'watchers':0,\n",
    "            'stars': 0,\n",
    "            'forks':0, \n",
    "            'commits':0,\n",
    "            'branches':0}\n",
    "        return gitfeature\n",
    "    else:\n",
    "        \n",
    "        html = requests.get(github_account_html)\n",
    "        htmltxt = bs(html.text, 'html.parser')\n",
    "        repohtml = htmltxt.find_all('a',class_=\"d-inline-block\", \n",
    "                                    itemprop=\"name codeRepository\")\n",
    "        if len(repohtml) == 0:\n",
    "            output = gitfeature_extract(github_account_html.replace('https://github.com', ''))\n",
    "            return output"
   ]
  },
  {
   "cell_type": "code",
   "execution_count": 47,
   "metadata": {},
   "outputs": [
    {
     "data": {
      "text/plain": [
       "{'watchers': 0, 'stars': 0, 'forks': 0, 'commits': 0, 'branches': 0}"
      ]
     },
     "execution_count": 47,
     "metadata": {},
     "output_type": "execute_result"
    }
   ],
   "source": [
    "urlll = None\n",
    "gitfeature_html(urlll)"
   ]
  },
  {
   "cell_type": "code",
   "execution_count": null,
   "metadata": {},
   "outputs": [],
   "source": []
  }
 ],
 "metadata": {
  "kernelspec": {
   "display_name": "Python 3",
   "language": "python",
   "name": "python3"
  },
  "language_info": {
   "codemirror_mode": {
    "name": "ipython",
    "version": 3
   },
   "file_extension": ".py",
   "mimetype": "text/x-python",
   "name": "python",
   "nbconvert_exporter": "python",
   "pygments_lexer": "ipython3",
   "version": "3.6.8"
  }
 },
 "nbformat": 4,
 "nbformat_minor": 2
}
