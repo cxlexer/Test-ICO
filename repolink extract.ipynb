{
 "cells": [
  {
   "cell_type": "code",
   "execution_count": 20,
   "metadata": {},
   "outputs": [],
   "source": [
    "import json\n",
    "import numpy as np\n",
    "import requests\n",
    "import pandas as pd\n",
    "from bs4 import BeautifulSoup as bs\n",
    "from operator import itemgetter \n",
    "import time\n",
    "from itertools import chain"
   ]
  },
  {
   "cell_type": "code",
   "execution_count": 1,
   "metadata": {},
   "outputs": [],
   "source": [
    "url = 'https://github.com/DigixGlobal'\n",
    "\n"
   ]
  },
  {
   "cell_type": "code",
   "execution_count": 46,
   "metadata": {},
   "outputs": [],
   "source": [
    "\n",
    "            \n",
    "def repolink_extract(url):\n",
    "    \n",
    "    html = requests.get(url)\n",
    "    htmltxt = bs(html.text, 'html.parser')\n",
    "    \n",
    "    \n",
    "    repohtml = htmltxt.find_all('a', class_=\"d-inline-block\", \n",
    "                                itemprop=\"name codeRepository\")\n",
    "\n",
    "    partial_repolink_list = []\n",
    "    for item in repohtml:\n",
    "        link = item.attrs['href']\n",
    "        partial_repolink_list.append(link)\n",
    "    return partial_repolink_list\n",
    "    \n",
    "\n",
    "    \n",
    "\n",
    "def nextpage_extract(url):\n",
    "    html = requests.get(url)\n",
    "    htmltxt = bs(html.text, 'html.parser')\n",
    "\n",
    "    nextpage = htmltxt.find_all('a', \n",
    "                    class_=\"next_page\",\n",
    "                    rel=\"next\")\n",
    "    if len(nextpage) != 0:\n",
    "        a = 'https://github.com'\n",
    "        next_ = nextpage[0].attrs['href']\n",
    "        nextlink = '{}{}'.format(a, next_)\n",
    "        return nextlink\n",
    "    else:\n",
    "        return None\n",
    "\n",
    "\n",
    "def repolink_extract_paginator(current_url):\n",
    "    output = repolink_extract(current_url)\n",
    "    next_url = nextpage_extract(current_url)\n",
    "    while next_url is not None:\n",
    "        current_url = next_url\n",
    "        output_temp = repolink_extract(current_url)\n",
    "        output.append(output_temp)\n",
    "        next_url = nextpage_extract(current_url)\n",
    "        time.sleep(1)\n",
    "    repolink_list = []\n",
    "    def reemoveNestings(l):\n",
    "        for i in l:\n",
    "            if type(i) == list:\n",
    "                reemoveNestings(i)\n",
    "            else:\n",
    "                repolink_list.append(i)\n",
    "    reemoveNestings(output)\n",
    "    return repolink_list\n",
    "    "
   ]
  },
  {
   "cell_type": "code",
   "execution_count": 47,
   "metadata": {},
   "outputs": [
    {
     "data": {
      "text/plain": [
       "['/DigixGlobal/dao-server',\n",
       " '/DigixGlobal/electron-core',\n",
       " '/DigixGlobal/governance-ui',\n",
       " '/DigixGlobal/governance-ui-components',\n",
       " '/DigixGlobal/info-server',\n",
       " '/DigixGlobal/lite-dgx-contract',\n",
       " '/DigixGlobal/react-ledger-container',\n",
       " '/DigixGlobal/dao-contracts',\n",
       " '/DigixGlobal/react-trezor-container',\n",
       " '/DigixGlobal/hex_formatter',\n",
       " '/DigixGlobal/Bank-profile',\n",
       " '/DigixGlobal/api-connectors',\n",
       " '/DigixGlobal/tempo',\n",
       " '/DigixGlobal/ethereum-ruby',\n",
       " '/DigixGlobal/doxity',\n",
       " '/DigixGlobal/dijix',\n",
       " '/DigixGlobal/sigmate',\n",
       " '/DigixGlobal/documentations',\n",
       " '/DigixGlobal/web3-redux',\n",
       " '/DigixGlobal/cacp-contracts',\n",
       " '/DigixGlobal/etc-redemption',\n",
       " '/DigixGlobal/eth-lightwallet',\n",
       " '/DigixGlobal/digix-press-kit',\n",
       " '/DigixGlobal/solidity-collections-library',\n",
       " '/DigixGlobal/solidity-demonstrations',\n",
       " '/DigixGlobal/truffle',\n",
       " '/DigixGlobal/contract-tools',\n",
       " '/DigixGlobal/ruby-eth',\n",
       " '/DigixGlobal/react-webcam',\n",
       " '/DigixGlobal/solidity-statemachine-library',\n",
       " '/DigixGlobal/sui-react-ezmodal',\n",
       " '/DigixGlobal/truffle-lightwallet-provider',\n",
       " '/DigixGlobal/ganache-core',\n",
       " '/DigixGlobal/multi-hash',\n",
       " '/DigixGlobal/sui-react-dijix',\n",
       " '/DigixGlobal/node-ipfs-pinning-server-lite',\n",
       " '/DigixGlobal/dijix-attestation',\n",
       " '/DigixGlobal/dijix-plugin-pinning',\n",
       " '/DigixGlobal/gfx',\n",
       " '/DigixGlobal/gnosis-multisig-dapplet',\n",
       " '/DigixGlobal/dijix-pdf',\n",
       " '/DigixGlobal/dijix-image',\n",
       " '/DigixGlobal/multiplexer',\n",
       " '/DigixGlobal/isomorphic-canvas',\n",
       " '/DigixGlobal/truffle-compile',\n",
       " '/DigixGlobal/webpack-pwa-manifest',\n",
       " '/DigixGlobal/eth-block-tracker',\n",
       " '/DigixGlobal/contest',\n",
       " '/DigixGlobal/optimize-css-assets-webpack-plugin',\n",
       " '/DigixGlobal/dice-to-entropy',\n",
       " '/DigixGlobal/whitelist-faucet',\n",
       " '/DigixGlobal/etc-refund',\n",
       " '/DigixGlobal/DGXi',\n",
       " '/DigixGlobal/truffle-starter-erc20',\n",
       " '/DigixGlobal/doxity-gatsby-starter-project',\n",
       " '/DigixGlobal/redux-crypto-prices',\n",
       " '/DigixGlobal/node-ipfs-pinner',\n",
       " '/DigixGlobal/ipfs-pinning-registry',\n",
       " '/DigixGlobal/ucb-seminar-boilerplate',\n",
       " '/DigixGlobal/testrpc',\n",
       " '/DigixGlobal/solidity-boilerplate',\n",
       " '/DigixGlobal/web3-console',\n",
       " '/DigixGlobal/simple-faucet',\n",
       " '/DigixGlobal/wallet-migration',\n",
       " '/DigixGlobal/truffle-contract',\n",
       " '/DigixGlobal/json-ipc-server',\n",
       " '/DigixGlobal/nanomsg.rs',\n",
       " '/DigixGlobal/rustls',\n",
       " '/DigixGlobal/ws-rs',\n",
       " '/DigixGlobal/webpki',\n",
       " '/DigixGlobal/mio',\n",
       " '/DigixGlobal/parity',\n",
       " '/DigixGlobal/json-tcp-server',\n",
       " '/DigixGlobal/droplet_kit',\n",
       " '/DigixGlobal/digixdao-contracts',\n",
       " '/DigixGlobal/managed-tokens',\n",
       " '/DigixGlobal/sha3-pure-ruby',\n",
       " '/DigixGlobal/gold-tokens-interface',\n",
       " '/DigixGlobal/Tokens',\n",
       " '/DigixGlobal/webthree-helpers',\n",
       " '/DigixGlobal/go-ethereum',\n",
       " '/DigixGlobal/digixbot-contracts',\n",
       " '/DigixGlobal/aurum',\n",
       " '/DigixGlobal/web3.js',\n",
       " '/DigixGlobal/eth-net-intelligence-api',\n",
       " '/DigixGlobal/ethash',\n",
       " '/DigixGlobal/meteor-dapp-cosmo',\n",
       " '/DigixGlobal/cpp-ethereum']"
      ]
     },
     "execution_count": 47,
     "metadata": {},
     "output_type": "execute_result"
    }
   ],
   "source": [
    "repolink_extract_paginator(url)"
   ]
  },
  {
   "cell_type": "code",
   "execution_count": 17,
   "metadata": {},
   "outputs": [
    {
     "ename": "NameError",
     "evalue": "name 'output' is not defined",
     "output_type": "error",
     "traceback": [
      "\u001b[0;31m---------------------------------------------------------------------------\u001b[0m",
      "\u001b[0;31mNameError\u001b[0m                                 Traceback (most recent call last)",
      "\u001b[0;32m<ipython-input-17-61353e8b2d5a>\u001b[0m in \u001b[0;36m<module>\u001b[0;34m()\u001b[0m\n\u001b[0;32m----> 1\u001b[0;31m \u001b[0moutput\u001b[0m\u001b[0;34m\u001b[0m\u001b[0;34m\u001b[0m\u001b[0m\n\u001b[0m",
      "\u001b[0;31mNameError\u001b[0m: name 'output' is not defined"
     ]
    }
   ],
   "source": [
    "output"
   ]
  },
  {
   "cell_type": "code",
   "execution_count": 30,
   "metadata": {},
   "outputs": [
    {
     "ename": "SyntaxError",
     "evalue": "invalid syntax (<ipython-input-30-a7ed07da8aee>, line 1)",
     "output_type": "error",
     "traceback": [
      "\u001b[0;36m  File \u001b[0;32m\"<ipython-input-30-a7ed07da8aee>\"\u001b[0;36m, line \u001b[0;32m1\u001b[0m\n\u001b[0;31m    nextpage_extract(url):\u001b[0m\n\u001b[0m                          ^\u001b[0m\n\u001b[0;31mSyntaxError\u001b[0m\u001b[0;31m:\u001b[0m invalid syntax\n"
     ]
    }
   ],
   "source": [
    "nextpage_extract(url):\n",
    "    html = requests.get(url)\n",
    "    htmltxt = bs(html.text, 'html.parser')\n",
    "\n",
    "    nextpage = htmltxt.find_all('a', \n",
    "                    class_=\"next_page\",\n",
    "                    rel=\"next\")\n",
    "    if len(nextpage) != 0:\n",
    "        a = 'https://github.com'\n",
    "        next_ = nextpage[0].attrs['href']\n",
    "        nextlink = '{}{}'.format(a, next_)\n",
    "        return nextlink\n",
    "    else:\n",
    "        return None\n",
    "\n"
   ]
  },
  {
   "cell_type": "code",
   "execution_count": 33,
   "metadata": {},
   "outputs": [],
   "source": [
    "url2 = 'https://github.com/DigixGlobal?page=2'"
   ]
  },
  {
   "cell_type": "code",
   "execution_count": 36,
   "metadata": {},
   "outputs": [
    {
     "name": "stdout",
     "output_type": "stream",
     "text": [
      "https://github.com/DigixGlobal?page=3\n"
     ]
    }
   ],
   "source": [
    "\n",
    "html = requests.get(url2)\n",
    "htmltxt = bs(html.text, 'html.parser')\n",
    "\n",
    "nextpage = htmltxt.find_all('a', \n",
    "                class_=\"next_page\",\n",
    "                rel=\"next\")\n",
    "if len(nextpage) != 0:\n",
    "    a = 'https://github.com'\n",
    "    next_ = nextpage[0].attrs['href']\n",
    "    nextlink = '{}{}'.format(a, next_)\n",
    "    print(nextlink)\n",
    "else:\n",
    "    print('None')"
   ]
  },
  {
   "cell_type": "code",
   "execution_count": 45,
   "metadata": {},
   "outputs": [
    {
     "name": "stdout",
     "output_type": "stream",
     "text": [
      "['a', 'b', 'c', 'd', 'e', 'f', 'g']\n"
     ]
    }
   ],
   "source": []
  },
  {
   "cell_type": "code",
   "execution_count": null,
   "metadata": {},
   "outputs": [],
   "source": []
  }
 ],
 "metadata": {
  "kernelspec": {
   "display_name": "Python 3",
   "language": "python",
   "name": "python3"
  },
  "language_info": {
   "codemirror_mode": {
    "name": "ipython",
    "version": 3
   },
   "file_extension": ".py",
   "mimetype": "text/x-python",
   "name": "python",
   "nbconvert_exporter": "python",
   "pygments_lexer": "ipython3",
   "version": "3.6.8"
  }
 },
 "nbformat": 4,
 "nbformat_minor": 2
}
