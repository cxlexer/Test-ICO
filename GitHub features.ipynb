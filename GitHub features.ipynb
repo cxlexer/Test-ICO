{
 "cells": [
  {
   "cell_type": "code",
   "execution_count": 1,
   "metadata": {},
   "outputs": [],
   "source": [
    "import json\n",
    "import numpy as np\n",
    "import requests\n",
    "import pandas as pd\n",
    "from bs4 import BeautifulSoup as bs"
   ]
  },
  {
   "cell_type": "code",
   "execution_count": 2,
   "metadata": {},
   "outputs": [],
   "source": [
    "RAW_DATA_FILEPATH = '/users/eric/PycharmProjects/testico/api_data.json'\n",
    "URL_FILEPATH = '/users/eric/PycharmProjects/testico/ico_urls.txt'\n",
    "TOKEN_FILE = '/users/eric/PycharmProjects/testico/token.csv'\n",
    "FULLDATA_FILE = '/users/eric/PycharmProjects/testico/fulldata.csv'\n",
    "NUMERICAL_DATA_FILE = '/users/eric/PycharmProjects/testico/full_num.csv'\n",
    "TEXT_DATA_FILE = '/users/eric/PycharmProjects/testico/textfeature_dataframe.csv'\n",
    "URL_COPY_FILEPATH = '/users/eric/PycharmProjects/testico/ico_urls copy.txt'"
   ]
  },
  {
   "cell_type": "code",
   "execution_count": 3,
   "metadata": {},
   "outputs": [],
   "source": []
  },
  {
   "cell_type": "code",
   "execution_count": 66,
   "metadata": {
    "scrolled": false
   },
   "outputs": [],
   "source": [
    "githtmltxt = bs(githtml.text, 'html.parser')\n"
   ]
  },
  {
   "cell_type": "code",
   "execution_count": 5,
   "metadata": {},
   "outputs": [],
   "source": [
    "githtmlbody = githtmltxt.body\n"
   ]
  },
  {
   "cell_type": "code",
   "execution_count": 20,
   "metadata": {},
   "outputs": [
    {
     "data": {
      "text/plain": [
       "[<a aria-label=\"9 users are watching this repository\" class=\"social-count\" href=\"/DigixGlobal/solidity-collections-library/watchers\">\n",
       "       9\n",
       "     </a>]"
      ]
     },
     "execution_count": 20,
     "metadata": {},
     "output_type": "execute_result"
    }
   ],
   "source": [
    "watch_html = githtmltxt.find_all(\n",
    "    'a', \n",
    "    class_=\"social-count\",\n",
    "   href=\"/DigixGlobal/solidity-collections-library/watchers\")\n",
    "watch_html"
   ]
  },
  {
   "cell_type": "code",
   "execution_count": 21,
   "metadata": {},
   "outputs": [
    {
     "data": {
      "text/plain": [
       "'9'"
      ]
     },
     "execution_count": 21,
     "metadata": {},
     "output_type": "execute_result"
    }
   ],
   "source": [
    "watch = watch_html[0].text.strip()\n",
    "watch"
   ]
  },
  {
   "cell_type": "code",
   "execution_count": 22,
   "metadata": {},
   "outputs": [],
   "source": [
    "stars_html = githtmltxt.find_all(\n",
    "    'a',\n",
    "    class_=\"social-count\",\n",
    "  href=\"/DigixGlobal/solidity-collections-library/stargazers\")"
   ]
  },
  {
   "cell_type": "code",
   "execution_count": 25,
   "metadata": {},
   "outputs": [
    {
     "data": {
      "text/plain": [
       "'17'"
      ]
     },
     "execution_count": 25,
     "metadata": {},
     "output_type": "execute_result"
    }
   ],
   "source": [
    "stars = stars_html[0].text.strip()\n",
    "stars"
   ]
  },
  {
   "cell_type": "code",
   "execution_count": 28,
   "metadata": {},
   "outputs": [
    {
     "data": {
      "text/plain": [
       "[<a aria-label=\"9 users forked this repository\" class=\"social-count\" href=\"/DigixGlobal/solidity-collections-library/network/members\">\n",
       "       9\n",
       "     </a>]"
      ]
     },
     "execution_count": 28,
     "metadata": {},
     "output_type": "execute_result"
    }
   ],
   "source": [
    "forks_html = githtmltxt.find_all(\n",
    "    'a',\n",
    "    href=\"/DigixGlobal/solidity-collections-library/network/members\",\n",
    "    class_=\"social-count\")\n",
    "forks_html"
   ]
  },
  {
   "cell_type": "code",
   "execution_count": 30,
   "metadata": {},
   "outputs": [
    {
     "data": {
      "text/plain": [
       "'9'"
      ]
     },
     "execution_count": 30,
     "metadata": {},
     "output_type": "execute_result"
    }
   ],
   "source": [
    "forks = forks_html[0].text.strip()\n",
    "forks"
   ]
  },
  {
   "cell_type": "code",
   "execution_count": null,
   "metadata": {},
   "outputs": [],
   "source": [
    "<svg class=\"octicon octicon-history\" viewBox=\"0 0 14 16\" version=\"1.1\" width=\"14\" height=\"16\" aria-hidden=\"true\"><path fill-rule=\"evenodd\" d=\"M8 13H6V6h5v2H8v5zM7 1C4.81 1 2.87 2.02 1.59 3.59L0 2v4h4L2.5 4.5C3.55 3.17 5.17 2.3 7 2.3c3.14 0 5.7 2.56 5.7 5.7s-2.56 5.7-5.7 5.7A5.71 5.71 0 0 1 1.3 8c0-.34.03-.67.09-1H.08C.03 7.33 0 7.66 0 8c0 3.86 3.14 7 7 7s7-3.14 7-7-3.14-7-7-7z\"></path></svg>\n",
    "<span class=\"num text-emphasized\">\n",
    "              4\n",
    "            </span>"
   ]
  },
  {
   "cell_type": "code",
   "execution_count": 49,
   "metadata": {},
   "outputs": [
    {
     "data": {
      "text/plain": [
       "[<span class=\"num text-emphasized\">\n",
       "                 54\n",
       "               </span>, <span class=\"num text-emphasized\">\n",
       "               4\n",
       "             </span>, <span class=\"num text-emphasized\">\n",
       "               0\n",
       "             </span>, <span class=\"num text-emphasized\"></span>]"
      ]
     },
     "execution_count": 49,
     "metadata": {},
     "output_type": "execute_result"
    }
   ],
   "source": [
    "nnn = githtmltxt.find_all(\n",
    "    'span', class_=\"num text-emphasized\")\n",
    "nnn"
   ]
  },
  {
   "cell_type": "code",
   "execution_count": 38,
   "metadata": {},
   "outputs": [
    {
     "data": {
      "text/plain": [
       "<span class=\"num text-emphasized\">\n",
       "                54\n",
       "              </span>"
      ]
     },
     "execution_count": 38,
     "metadata": {},
     "output_type": "execute_result"
    }
   ],
   "source": [
    "nnn[0]"
   ]
  },
  {
   "cell_type": "code",
   "execution_count": 43,
   "metadata": {},
   "outputs": [
    {
     "data": {
      "text/plain": [
       "'54'"
      ]
     },
     "execution_count": 43,
     "metadata": {},
     "output_type": "execute_result"
    }
   ],
   "source": [
    "commits = nnn[0].text.strip()\n",
    "commits"
   ]
  },
  {
   "cell_type": "code",
   "execution_count": 45,
   "metadata": {},
   "outputs": [
    {
     "data": {
      "text/plain": [
       "'4'"
      ]
     },
     "execution_count": 45,
     "metadata": {},
     "output_type": "execute_result"
    }
   ],
   "source": [
    "branches = nnn[1].text.strip()\n",
    "branches"
   ]
  },
  {
   "cell_type": "code",
   "execution_count": 56,
   "metadata": {},
   "outputs": [
    {
     "data": {
      "text/plain": [
       "'0'"
      ]
     },
     "execution_count": 56,
     "metadata": {},
     "output_type": "execute_result"
    }
   ],
   "source": [
    "releases = nnn[2].text.strip()\n",
    "releases"
   ]
  },
  {
   "cell_type": "code",
   "execution_count": 57,
   "metadata": {},
   "outputs": [],
   "source": [
    "gitfeature_name = ['watchers', 'stars', 'forks', 'commits', 'branches']"
   ]
  },
  {
   "cell_type": "code",
   "execution_count": 60,
   "metadata": {},
   "outputs": [],
   "source": [
    "gitfeature_num = [watch, stars, forks, commits, branches]\n"
   ]
  },
  {
   "cell_type": "code",
   "execution_count": 64,
   "metadata": {},
   "outputs": [],
   "source": [
    "pp = list(zip(gitfeature_name, gitfeature_num))"
   ]
  },
  {
   "cell_type": "code",
   "execution_count": 65,
   "metadata": {},
   "outputs": [
    {
     "data": {
      "text/plain": [
       "[('watchers', '9'),\n",
       " ('stars', '17'),\n",
       " ('forks', '9'),\n",
       " ('commits', '54'),\n",
       " ('braches', '4')]"
      ]
     },
     "execution_count": 65,
     "metadata": {},
     "output_type": "execute_result"
    }
   ],
   "source": [
    "pp"
   ]
  },
  {
   "cell_type": "code",
   "execution_count": 69,
   "metadata": {},
   "outputs": [],
   "source": [
    "html = requests.get('https://github.com/DigixGlobal')"
   ]
  },
  {
   "cell_type": "code",
   "execution_count": 82,
   "metadata": {},
   "outputs": [],
   "source": [
    "htmltxt = bs(html.text, 'html.parser')\n",
    "repohtml = htmltxt.find_all('a', class_=\"text-bold flex-auto \")\n"
   ]
  },
  {
   "cell_type": "code",
   "execution_count": 86,
   "metadata": {},
   "outputs": [],
   "source": [
    "link = repohtml[0]"
   ]
  },
  {
   "cell_type": "code",
   "execution_count": 90,
   "metadata": {},
   "outputs": [
    {
     "data": {
      "text/plain": [
       "<a class=\"text-bold flex-auto \" href=\"/DigixGlobal/solidity-collections-library\">\n",
       "<span class=\"repo js-pinnable-item\" title=\"solidity-collections-library\">solidity-collections-library</span>\n",
       "</a>"
      ]
     },
     "execution_count": 90,
     "metadata": {},
     "output_type": "execute_result"
    }
   ],
   "source": [
    "link"
   ]
  },
  {
   "cell_type": "code",
   "execution_count": 94,
   "metadata": {},
   "outputs": [
    {
     "data": {
      "text/plain": [
       "'/DigixGlobal/solidity-collections-library'"
      ]
     },
     "execution_count": 94,
     "metadata": {},
     "output_type": "execute_result"
    }
   ],
   "source": [
    "link.attrs['href']"
   ]
  },
  {
   "cell_type": "code",
   "execution_count": 97,
   "metadata": {},
   "outputs": [],
   "source": [
    "repolink = []\n",
    "for item in repohtml:\n",
    "    link = item.attrs['href']\n",
    "    repolink.append(link)"
   ]
  },
  {
   "cell_type": "code",
   "execution_count": 98,
   "metadata": {},
   "outputs": [
    {
     "data": {
      "text/plain": [
       "['/DigixGlobal/solidity-collections-library',\n",
       " '/DigixGlobal/dijix',\n",
       " '/DigixGlobal/doxity',\n",
       " '/DigixGlobal/solidity-statemachine-library',\n",
       " '/DigixGlobal/dao-contracts']"
      ]
     },
     "execution_count": 98,
     "metadata": {},
     "output_type": "execute_result"
    }
   ],
   "source": [
    "repolink"
   ]
  },
  {
   "cell_type": "code",
   "execution_count": null,
   "metadata": {},
   "outputs": [],
   "source": []
  },
  {
   "cell_type": "code",
   "execution_count": 101,
   "metadata": {},
   "outputs": [],
   "source": [
    "def gitfeature_html(github_account_html):\n",
    "    html = requests.get(github_account_html)\n",
    "    html.txt = bs(html.text, 'html.parser')\n",
    "    repohtml = htmltxt.find_all('a', class_=\"text-bold flex-auto \")\n",
    "    repolink = []\n",
    "    \n",
    "    for item in repohtml:\n",
    "        link = item.attrs['href']\n",
    "        repolink.append(link)\n",
    "\n",
    "\n",
    "gitfeature = {'watchers':0, 'stars':0, 'forks':0, 'commits':0, 'braches':0}\n",
    "\n",
    "def gitfeature_extract(link):\n",
    "    \n",
    "    githtml = requests.get(link)\n",
    "    githtmltxt = bs(githtml.text, 'html.parser')\n",
    "    watch_html = githtmltxt.find_all(\n",
    "    'a', \n",
    "    class_=\"social-count\",\n",
    "    href=\"/DigixGlobal/solidity-collections-library/watchers\")\n",
    "    watch = watch_html[0].text.strip()\n",
    "    stars_html = githtmltxt.find_all(\n",
    "    'a',\n",
    "    class_=\"social-count\",\n",
    "    href=\"/DigixGlobal/solidity-collections-library/stargazers\")\n",
    "    stars = stars_html[0].text.strip()\n",
    "    forks_html = githtmltxt.find_all(\n",
    "    'a',\n",
    "    href=\"/DigixGlobal/solidity-collections-library/network/members\",\n",
    "    class_=\"social-count\")\n",
    "    forks = forks_html[0].text.strip()\n",
    "\n",
    "    otherfeature_html = githtmltxt.find_all(\n",
    "   'span', class_=\"num text-emphasized\")\n",
    "    commits = otherfeature_html[0].text.strip()\n",
    "    branches = otherfeature_html[1].text.strip()\n",
    "    releases = otherfeature_html[2].text.strip()\n",
    "    gitfeature_sub = ['watchers':watch, 'stars':stars, 'forks':forks, \n",
    "                      'commits':commits, 'branches':branches]\n",
    "    return gitfeature_sub\n",
    "\n",
    "def fullfeatyure(repolink):\n",
    "    d_list = []\n",
    "    feature_sum = {}\n",
    "    \n",
    "    for link in repolink:\n",
    "        feature_dic = gitfeature_extract(link)\n",
    "        d_list.append(feature_dic)\n",
    "        for k in feature_dic:\n",
    "            feature_sum[k] = tuple(feature_sum[k] for feature_sum in d_list)\n",
    "            \n",
    "            \n",
    "        \n",
    "    \n",
    "        \n",
    "        \n",
    "    \n",
    "    #creating dictionaries instead\n",
    "    \n",
    "        sum(x, y)\n",
    "\n",
    "\n",
    "    \n",
    "        \n",
    "\n",
    "\n",
    "        \n",
    "    \n",
    "    "
   ]
  },
  {
   "cell_type": "code",
   "execution_count": 102,
   "metadata": {},
   "outputs": [],
   "source": [
    "a = [('a', 0), ('b', 1) ]"
   ]
  },
  {
   "cell_type": "code",
   "execution_count": 104,
   "metadata": {},
   "outputs": [
    {
     "data": {
      "text/plain": [
       "['a', 'b']"
      ]
     },
     "execution_count": 104,
     "metadata": {},
     "output_type": "execute_result"
    }
   ],
   "source": [
    "[ item[0] for item in a]"
   ]
  },
  {
   "cell_type": "code",
   "execution_count": 105,
   "metadata": {},
   "outputs": [],
   "source": [
    "b = {'a': 0, 'b': 1}"
   ]
  },
  {
   "cell_type": "code",
   "execution_count": 109,
   "metadata": {},
   "outputs": [],
   "source": [
    "b['b'] += 1"
   ]
  },
  {
   "cell_type": "code",
   "execution_count": 110,
   "metadata": {},
   "outputs": [
    {
     "data": {
      "text/plain": [
       "2"
      ]
     },
     "execution_count": 110,
     "metadata": {},
     "output_type": "execute_result"
    }
   ],
   "source": [
    "b['b']"
   ]
  },
  {
   "cell_type": "code",
   "execution_count": null,
   "metadata": {},
   "outputs": [],
   "source": []
  }
 ],
 "metadata": {
  "kernelspec": {
   "display_name": "Python 3",
   "language": "python",
   "name": "python3"
  },
  "language_info": {
   "codemirror_mode": {
    "name": "ipython",
    "version": 3
   },
   "file_extension": ".py",
   "mimetype": "text/x-python",
   "name": "python",
   "nbconvert_exporter": "python",
   "pygments_lexer": "ipython3",
   "version": "3.6.8"
  }
 },
 "nbformat": 4,
 "nbformat_minor": 2
}
