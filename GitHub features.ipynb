{
 "cells": [
  {
   "cell_type": "code",
   "execution_count": 83,
   "metadata": {},
   "outputs": [],
   "source": [
    "import json\n",
    "import numpy as np\n",
    "import requests\n",
    "import pandas as pd\n",
    "from bs4 import BeautifulSoup as bs\n",
    "from operator import itemgetter "
   ]
  },
  {
   "cell_type": "code",
   "execution_count": 3,
   "metadata": {},
   "outputs": [],
   "source": [
    "RAW_DATA_FILEPATH = '/users/eric/PycharmProjects/testico/api_data.json'\n",
    "URL_FILEPATH = '/users/eric/PycharmProjects/testico/ico_urls.txt'\n",
    "TOKEN_FILE = '/users/eric/PycharmProjects/testico/token.csv'\n",
    "FULLDATA_FILE = '/users/eric/PycharmProjects/testico/fulldata.csv'\n",
    "NUMERICAL_DATA_FILE = '/users/eric/PycharmProjects/testico/full_num.csv'\n",
    "TEXT_DATA_FILE = '/users/eric/PycharmProjects/testico/textfeature_dataframe.csv'\n",
    "URL_COPY_FILEPATH = '/users/eric/PycharmProjects/testico/ico_urls copy.txt'"
   ]
  },
  {
   "cell_type": "code",
   "execution_count": 4,
   "metadata": {},
   "outputs": [],
   "source": [
    "githtml = requests.get('https://github.com/DigixGlobal/solidity-collections-library')"
   ]
  },
  {
   "cell_type": "code",
   "execution_count": 5,
   "metadata": {
    "scrolled": false
   },
   "outputs": [],
   "source": [
    "githtmltxt = bs(githtml.text, 'html.parser')\n"
   ]
  },
  {
   "cell_type": "code",
   "execution_count": 6,
   "metadata": {},
   "outputs": [],
   "source": [
    "githtmlbody = githtmltxt.body\n"
   ]
  },
  {
   "cell_type": "code",
   "execution_count": 7,
   "metadata": {},
   "outputs": [
    {
     "data": {
      "text/plain": [
       "[<a aria-label=\"9 users are watching this repository\" class=\"social-count\" href=\"/DigixGlobal/solidity-collections-library/watchers\">\n",
       "       9\n",
       "     </a>]"
      ]
     },
     "execution_count": 7,
     "metadata": {},
     "output_type": "execute_result"
    }
   ],
   "source": [
    "watch_html = githtmltxt.find_all(\n",
    "    'a', \n",
    "    class_=\"social-count\",\n",
    "   href=\"/DigixGlobal/solidity-collections-library/watchers\")\n",
    "watch_html"
   ]
  },
  {
   "cell_type": "code",
   "execution_count": 8,
   "metadata": {},
   "outputs": [
    {
     "data": {
      "text/plain": [
       "'9'"
      ]
     },
     "execution_count": 8,
     "metadata": {},
     "output_type": "execute_result"
    }
   ],
   "source": [
    "watch = watch_html[0].text.strip()\n",
    "watch"
   ]
  },
  {
   "cell_type": "code",
   "execution_count": 9,
   "metadata": {},
   "outputs": [],
   "source": [
    "stars_html = githtmltxt.find_all(\n",
    "    'a',\n",
    "    class_=\"social-count\",\n",
    "  href=\"/DigixGlobal/solidity-collections-library/stargazers\")"
   ]
  },
  {
   "cell_type": "code",
   "execution_count": 52,
   "metadata": {},
   "outputs": [
    {
     "data": {
      "text/plain": [
       "'17'"
      ]
     },
     "execution_count": 52,
     "metadata": {},
     "output_type": "execute_result"
    }
   ],
   "source": [
    "stars = stars_html[0].text.strip()\n",
    "stars"
   ]
  },
  {
   "cell_type": "code",
   "execution_count": 58,
   "metadata": {},
   "outputs": [],
   "source": [
    "forks_html = githtmltxt.find_all(\n",
    "    'a',\n",
    "    href= \"{}{}\".format(partial_repolink,'/network/members'),\n",
    "    class_=\"social-count\"\n",
    ")\n",
    "\n",
    "forks = forks_html[0].text.strip()"
   ]
  },
  {
   "cell_type": "code",
   "execution_count": 54,
   "metadata": {},
   "outputs": [
    {
     "data": {
      "text/plain": [
       "[<a aria-label=\"9 users forked this repository\" class=\"social-count\" href=\"/DigixGlobal/solidity-collections-library/network/members\">\n",
       "       9\n",
       "     </a>]"
      ]
     },
     "execution_count": 54,
     "metadata": {},
     "output_type": "execute_result"
    }
   ],
   "source": [
    "forks_html = githtmltxt.find_all(\n",
    "    'a',\n",
    "    href=\"/DigixGlobal/solidity-collections-library/network/members\",\n",
    "    class_=\"social-count\")\n",
    "forks_html"
   ]
  },
  {
   "cell_type": "code",
   "execution_count": 12,
   "metadata": {},
   "outputs": [
    {
     "data": {
      "text/plain": [
       "'9'"
      ]
     },
     "execution_count": 12,
     "metadata": {},
     "output_type": "execute_result"
    }
   ],
   "source": [
    "forks = forks_html[0].text.strip()\n",
    "forks"
   ]
  },
  {
   "cell_type": "code",
   "execution_count": 13,
   "metadata": {},
   "outputs": [
    {
     "ename": "SyntaxError",
     "evalue": "invalid syntax (<ipython-input-13-73b62ba4f29c>, line 1)",
     "output_type": "error",
     "traceback": [
      "\u001b[0;36m  File \u001b[0;32m\"<ipython-input-13-73b62ba4f29c>\"\u001b[0;36m, line \u001b[0;32m1\u001b[0m\n\u001b[0;31m    <svg class=\"octicon octicon-history\" viewBox=\"0 0 14 16\" version=\"1.1\" width=\"14\" height=\"16\" aria-hidden=\"true\"><path fill-rule=\"evenodd\" d=\"M8 13H6V6h5v2H8v5zM7 1C4.81 1 2.87 2.02 1.59 3.59L0 2v4h4L2.5 4.5C3.55 3.17 5.17 2.3 7 2.3c3.14 0 5.7 2.56 5.7 5.7s-2.56 5.7-5.7 5.7A5.71 5.71 0 0 1 1.3 8c0-.34.03-.67.09-1H.08C.03 7.33 0 7.66 0 8c0 3.86 3.14 7 7 7s7-3.14 7-7-3.14-7-7-7z\"></path></svg>\u001b[0m\n\u001b[0m    ^\u001b[0m\n\u001b[0;31mSyntaxError\u001b[0m\u001b[0;31m:\u001b[0m invalid syntax\n"
     ]
    }
   ],
   "source": [
    "<svg class=\"octicon octicon-history\" viewBox=\"0 0 14 16\" version=\"1.1\" width=\"14\" height=\"16\" aria-hidden=\"true\"><path fill-rule=\"evenodd\" d=\"M8 13H6V6h5v2H8v5zM7 1C4.81 1 2.87 2.02 1.59 3.59L0 2v4h4L2.5 4.5C3.55 3.17 5.17 2.3 7 2.3c3.14 0 5.7 2.56 5.7 5.7s-2.56 5.7-5.7 5.7A5.71 5.71 0 0 1 1.3 8c0-.34.03-.67.09-1H.08C.03 7.33 0 7.66 0 8c0 3.86 3.14 7 7 7s7-3.14 7-7-3.14-7-7-7z\"></path></svg>\n",
    "<span class=\"num text-emphasized\">\n",
    "              4\n",
    "            </span>"
   ]
  },
  {
   "cell_type": "code",
   "execution_count": 14,
   "metadata": {},
   "outputs": [
    {
     "data": {
      "text/plain": [
       "[<span class=\"num text-emphasized\">\n",
       "                 54\n",
       "               </span>, <span class=\"num text-emphasized\">\n",
       "               4\n",
       "             </span>, <span class=\"num text-emphasized\">\n",
       "               0\n",
       "             </span>, <span class=\"num text-emphasized\"></span>]"
      ]
     },
     "execution_count": 14,
     "metadata": {},
     "output_type": "execute_result"
    }
   ],
   "source": [
    "nnn = githtmltxt.find_all(\n",
    "    'span', class_=\"num text-emphasized\")\n",
    "nnn"
   ]
  },
  {
   "cell_type": "code",
   "execution_count": 26,
   "metadata": {},
   "outputs": [
    {
     "data": {
      "text/plain": [
       "<span class=\"num text-emphasized\">\n",
       "                54\n",
       "              </span>"
      ]
     },
     "execution_count": 26,
     "metadata": {},
     "output_type": "execute_result"
    }
   ],
   "source": [
    "nnn[0]"
   ]
  },
  {
   "cell_type": "code",
   "execution_count": 27,
   "metadata": {},
   "outputs": [
    {
     "data": {
      "text/plain": [
       "'54'"
      ]
     },
     "execution_count": 27,
     "metadata": {},
     "output_type": "execute_result"
    }
   ],
   "source": [
    "commits = nnn[0].text.strip()\n",
    "commits"
   ]
  },
  {
   "cell_type": "code",
   "execution_count": 28,
   "metadata": {},
   "outputs": [
    {
     "data": {
      "text/plain": [
       "'4'"
      ]
     },
     "execution_count": 28,
     "metadata": {},
     "output_type": "execute_result"
    }
   ],
   "source": [
    "branches = nnn[1].text.strip()\n",
    "branches"
   ]
  },
  {
   "cell_type": "code",
   "execution_count": 29,
   "metadata": {},
   "outputs": [
    {
     "data": {
      "text/plain": [
       "'0'"
      ]
     },
     "execution_count": 29,
     "metadata": {},
     "output_type": "execute_result"
    }
   ],
   "source": [
    "releases = nnn[2].text.strip()\n",
    "releases"
   ]
  },
  {
   "cell_type": "code",
   "execution_count": 30,
   "metadata": {},
   "outputs": [],
   "source": [
    "gitfeature_name = ['watchers', 'stars', 'forks', 'commits', 'branches']"
   ]
  },
  {
   "cell_type": "code",
   "execution_count": 31,
   "metadata": {},
   "outputs": [],
   "source": [
    "gitfeature_num = [watch, stars, forks, commits, branches]\n"
   ]
  },
  {
   "cell_type": "code",
   "execution_count": 32,
   "metadata": {},
   "outputs": [],
   "source": [
    "pp = list(zip(gitfeature_name, gitfeature_num))"
   ]
  },
  {
   "cell_type": "code",
   "execution_count": 33,
   "metadata": {},
   "outputs": [
    {
     "data": {
      "text/plain": [
       "[('watchers', '9'),\n",
       " ('stars', '17'),\n",
       " ('forks', '9'),\n",
       " ('commits', '54'),\n",
       " ('branches', '4')]"
      ]
     },
     "execution_count": 33,
     "metadata": {},
     "output_type": "execute_result"
    }
   ],
   "source": [
    "pp"
   ]
  },
  {
   "cell_type": "code",
   "execution_count": 34,
   "metadata": {},
   "outputs": [],
   "source": [
    "\n",
    "\n",
    "\n",
    "\n",
    "#get link of all repos within the ICO github account\n",
    "\n",
    "\n",
    "\n",
    "\n",
    "html = requests.get('https://github.com/DigixGlobal')"
   ]
  },
  {
   "cell_type": "code",
   "execution_count": 35,
   "metadata": {},
   "outputs": [],
   "source": [
    "htmltxt = bs(html.text, 'html.parser')\n",
    "repohtml = htmltxt.find_all('a', class_=\"text-bold flex-auto \")\n"
   ]
  },
  {
   "cell_type": "code",
   "execution_count": 36,
   "metadata": {},
   "outputs": [],
   "source": [
    "link = repohtml[0]"
   ]
  },
  {
   "cell_type": "code",
   "execution_count": 37,
   "metadata": {},
   "outputs": [
    {
     "data": {
      "text/plain": [
       "<a class=\"text-bold flex-auto \" href=\"/DigixGlobal/solidity-collections-library\">\n",
       "<span class=\"repo js-pinnable-item\" title=\"solidity-collections-library\">solidity-collections-library</span>\n",
       "</a>"
      ]
     },
     "execution_count": 37,
     "metadata": {},
     "output_type": "execute_result"
    }
   ],
   "source": [
    "link"
   ]
  },
  {
   "cell_type": "code",
   "execution_count": 38,
   "metadata": {},
   "outputs": [
    {
     "data": {
      "text/plain": [
       "'/DigixGlobal/solidity-collections-library'"
      ]
     },
     "execution_count": 38,
     "metadata": {},
     "output_type": "execute_result"
    }
   ],
   "source": [
    "link.attrs['href']"
   ]
  },
  {
   "cell_type": "code",
   "execution_count": 39,
   "metadata": {},
   "outputs": [],
   "source": [
    "repolink = []\n",
    "for item in repohtml:\n",
    "    link = item.attrs['href']\n",
    "    repolink.append(link)"
   ]
  },
  {
   "cell_type": "code",
   "execution_count": 43,
   "metadata": {},
   "outputs": [
    {
     "data": {
      "text/plain": [
       "['/DigixGlobal/solidity-collections-library',\n",
       " '/DigixGlobal/dijix',\n",
       " '/DigixGlobal/doxity',\n",
       " '/DigixGlobal/solidity-statemachine-library',\n",
       " '/DigixGlobal/dao-contracts']"
      ]
     },
     "execution_count": 43,
     "metadata": {},
     "output_type": "execute_result"
    }
   ],
   "source": [
    "repolink"
   ]
  },
  {
   "cell_type": "code",
   "execution_count": 51,
   "metadata": {},
   "outputs": [],
   "source": [
    "a = 'https://github.com'\n",
    "fulllink_list=[]"
   ]
  },
  {
   "cell_type": "code",
   "execution_count": 52,
   "metadata": {},
   "outputs": [],
   "source": [
    "for link in repolink:\n",
    "      fulllink = '{}{}'.format(a,link)\n",
    "      fulllink_list.append(fulllink)\n",
    "      "
   ]
  },
  {
   "cell_type": "code",
   "execution_count": 53,
   "metadata": {},
   "outputs": [
    {
     "data": {
      "text/plain": [
       "['https://github.com/DigixGlobal/solidity-collections-library',\n",
       " 'https://github.com/DigixGlobal/dijix',\n",
       " 'https://github.com/DigixGlobal/doxity',\n",
       " 'https://github.com/DigixGlobal/solidity-statemachine-library',\n",
       " 'https://github.com/DigixGlobal/dao-contracts']"
      ]
     },
     "execution_count": 53,
     "metadata": {},
     "output_type": "execute_result"
    }
   ],
   "source": [
    "fulllink_list"
   ]
  },
  {
   "cell_type": "code",
   "execution_count": null,
   "metadata": {},
   "outputs": [],
   "source": []
  },
  {
   "cell_type": "code",
   "execution_count": null,
   "metadata": {},
   "outputs": [],
   "source": []
  },
  {
   "cell_type": "code",
   "execution_count": null,
   "metadata": {},
   "outputs": [],
   "source": []
  },
  {
   "cell_type": "code",
   "execution_count": null,
   "metadata": {},
   "outputs": [],
   "source": []
  },
  {
   "cell_type": "code",
   "execution_count": 100,
   "metadata": {},
   "outputs": [],
   "source": [
    "def gitfeature_html(github_account_html):\n",
    "    html = requests.get(github_account_html)\n",
    "    htmltxt = bs(html.text, 'html.parser')\n",
    "    repohtml = htmltxt.find_all('a', class_=\"text-bold flex-auto \")\n",
    "    if len(repohtml) == 0:\n",
    "        gitfeature_extract(github_account_html)\n",
    "    \n",
    "    else:\n",
    "        \n",
    "        partial_repolink_list = []\n",
    "\n",
    "        for item in repohtml:\n",
    "            link = item.attrs['href']\n",
    "            partial_repolink_list.append(link)\n",
    "        full_feature(partial_repolink_list)\n",
    "\n",
    "#         a = 'https://github.com'\n",
    "#         fulllink_list=[]\n",
    "#         for link in partial_repolink_list:\n",
    "#             fulllink = '{}{}'.format(a,link)\n",
    "#             fulllink_list.append(fulllink)\n",
    "#         return partial_repolink_list, fulllink_list\n",
    "         \n",
    "\n",
    "\n",
    "\n",
    "# gitfeature = {\n",
    "#         'watchers': 0,\n",
    "#         'stars':0,\n",
    "#         'forks':0,\n",
    "#         'commits':0,\n",
    "#         'braches':0\n",
    "#     }\n",
    "def gitfeature_extract(partial_repolink):\n",
    "    a = 'https://github.com'\n",
    "    full_repolink = '{}{}'.format(a, partial_repolink)\n",
    "    githtml = requests.get(full_repolink)\n",
    "    githtmltxt = bs(githtml.text, 'html.parser')\n",
    "    watch_html = githtmltxt.find_all(\n",
    "        'a', \n",
    "        class_=\"social-count\",\n",
    "        href= '{}{}'.format(partial_repolink,'/watchers')\n",
    "    )\n",
    "    watch = watch_html[0].text.strip()\n",
    "    stars_html = githtmltxt.find_all(\n",
    "        'a',\n",
    "        class_=\"social-count\",\n",
    "        href= '{}{}'.format(partial_repolink,'/stargazers')\n",
    "    )\n",
    "    stars = stars_html[0].text.strip()\n",
    "    forks_html = githtmltxt.find_all(\n",
    "        'a',\n",
    "        href= '{}{}'.format(partial_repolink,'/network/members'),\n",
    "        class_=\"social-count\"\n",
    "    )\n",
    "    \n",
    "    forks = forks_html[0].text.strip()\n",
    "\n",
    "    otherfeature_html = githtmltxt.find_all(\n",
    "       'span', class_=\"num text-emphasized\")\n",
    "    commits = otherfeature_html[0].text.strip()\n",
    "    branches = otherfeature_html[1].text.strip()\n",
    "    releases = otherfeature_html[2].text.strip()\n",
    "    gitfeature = {\n",
    "        'watchers':watch,\n",
    "        'stars': stars,\n",
    "        'forks':forks, \n",
    "        'commits':commits,\n",
    "        'branches':branches}\n",
    "    return gitfeature\n",
    "\n",
    "def full_feature(partial_repolink_list):\n",
    "    d_list = []\n",
    "    feature_sum = {}\n",
    "    \n",
    "    for partial_repolink in partial_repolink_list:\n",
    "        feature_dic = gitfeature_extract(partial_repolink)\n",
    "        d_list.append(feature_dic)\n",
    "    for d in d_list:\n",
    "        for k in d.keys():\n",
    "            feature_sum[k] = feature_sum.get(k, 0) + int(d[k])\n",
    "    return (\"feature_sum_dic : \", str(feature_sum))\n",
    "\n",
    "            \n",
    "            \n",
    "        \n",
    "    \n",
    "        \n",
    "        \n",
    "    \n",
    "    #creating dictionaries instead\n",
    "    \n",
    "        \n",
    "\n",
    "\n",
    "    \n",
    "        \n",
    "\n",
    "\n",
    "        \n",
    "    \n",
    "    "
   ]
  },
  {
   "cell_type": "code",
   "execution_count": 102,
   "metadata": {},
   "outputs": [],
   "source": [
    "a = [('a', 0), ('b', 1) ]"
   ]
  },
  {
   "cell_type": "code",
   "execution_count": 104,
   "metadata": {},
   "outputs": [
    {
     "data": {
      "text/plain": [
       "['a', 'b']"
      ]
     },
     "execution_count": 104,
     "metadata": {},
     "output_type": "execute_result"
    }
   ],
   "source": [
    "[ item[0] for item in a]"
   ]
  },
  {
   "cell_type": "code",
   "execution_count": 105,
   "metadata": {},
   "outputs": [],
   "source": [
    "b = {'a': 0, 'b': 1}"
   ]
  },
  {
   "cell_type": "code",
   "execution_count": 109,
   "metadata": {},
   "outputs": [],
   "source": [
    "b['b'] += 1"
   ]
  },
  {
   "cell_type": "code",
   "execution_count": 110,
   "metadata": {},
   "outputs": [
    {
     "data": {
      "text/plain": [
       "2"
      ]
     },
     "execution_count": 110,
     "metadata": {},
     "output_type": "execute_result"
    }
   ],
   "source": [
    "b['b']"
   ]
  },
  {
   "cell_type": "code",
   "execution_count": 66,
   "metadata": {},
   "outputs": [],
   "source": [
    "github_account_html = 'https://github.com/DigixGlobal'"
   ]
  },
  {
   "cell_type": "code",
   "execution_count": 28,
   "metadata": {},
   "outputs": [],
   "source": [
    "html = requests.get(github_account_html)\n",
    "htmltxt = bs(html.text, 'html.parser')\n",
    "repohtml = htmltxt.find_all('a', class_=\"text-bold flex-auto \")"
   ]
  },
  {
   "cell_type": "code",
   "execution_count": 64,
   "metadata": {},
   "outputs": [
    {
     "ename": "TypeError",
     "evalue": "unsupported operand type(s) for +: 'int' and 'str'",
     "output_type": "error",
     "traceback": [
      "\u001b[0;31m---------------------------------------------------------------------------\u001b[0m",
      "\u001b[0;31mTypeError\u001b[0m                                 Traceback (most recent call last)",
      "\u001b[0;32m<ipython-input-64-0fadfb3df782>\u001b[0m in \u001b[0;36m<module>\u001b[0;34m()\u001b[0m\n\u001b[0;32m----> 1\u001b[0;31m \u001b[0mgitfeature_html\u001b[0m\u001b[0;34m(\u001b[0m\u001b[0mgithub_account_html\u001b[0m\u001b[0;34m)\u001b[0m\u001b[0;34m\u001b[0m\u001b[0;34m\u001b[0m\u001b[0m\n\u001b[0m",
      "\u001b[0;32m<ipython-input-63-63ff10c82e61>\u001b[0m in \u001b[0;36mgitfeature_html\u001b[0;34m(github_account_html)\u001b[0m\n\u001b[1;32m     13\u001b[0m             \u001b[0mlink\u001b[0m \u001b[0;34m=\u001b[0m \u001b[0mitem\u001b[0m\u001b[0;34m.\u001b[0m\u001b[0mattrs\u001b[0m\u001b[0;34m[\u001b[0m\u001b[0;34m'href'\u001b[0m\u001b[0;34m]\u001b[0m\u001b[0;34m\u001b[0m\u001b[0;34m\u001b[0m\u001b[0m\n\u001b[1;32m     14\u001b[0m             \u001b[0mpartial_repolink_list\u001b[0m\u001b[0;34m.\u001b[0m\u001b[0mappend\u001b[0m\u001b[0;34m(\u001b[0m\u001b[0mlink\u001b[0m\u001b[0;34m)\u001b[0m\u001b[0;34m\u001b[0m\u001b[0;34m\u001b[0m\u001b[0m\n\u001b[0;32m---> 15\u001b[0;31m         \u001b[0mfull_feature\u001b[0m\u001b[0;34m(\u001b[0m\u001b[0mpartial_repolink_list\u001b[0m\u001b[0;34m)\u001b[0m\u001b[0;34m\u001b[0m\u001b[0;34m\u001b[0m\u001b[0m\n\u001b[0m\u001b[1;32m     16\u001b[0m \u001b[0;34m\u001b[0m\u001b[0m\n\u001b[1;32m     17\u001b[0m \u001b[0;31m#         a = 'https://github.com'\u001b[0m\u001b[0;34m\u001b[0m\u001b[0;34m\u001b[0m\u001b[0;34m\u001b[0m\u001b[0m\n",
      "\u001b[0;32m<ipython-input-63-63ff10c82e61>\u001b[0m in \u001b[0;36mfull_feature\u001b[0;34m(partial_repolink_list)\u001b[0m\n\u001b[1;32m     79\u001b[0m     \u001b[0;32mfor\u001b[0m \u001b[0md\u001b[0m \u001b[0;32min\u001b[0m \u001b[0md_list\u001b[0m\u001b[0;34m:\u001b[0m\u001b[0;34m\u001b[0m\u001b[0;34m\u001b[0m\u001b[0m\n\u001b[1;32m     80\u001b[0m         \u001b[0;32mfor\u001b[0m \u001b[0mk\u001b[0m \u001b[0;32min\u001b[0m \u001b[0md\u001b[0m\u001b[0;34m.\u001b[0m\u001b[0mkeys\u001b[0m\u001b[0;34m(\u001b[0m\u001b[0;34m)\u001b[0m\u001b[0;34m:\u001b[0m\u001b[0;34m\u001b[0m\u001b[0;34m\u001b[0m\u001b[0m\n\u001b[0;32m---> 81\u001b[0;31m             \u001b[0mfeature_sum\u001b[0m\u001b[0;34m[\u001b[0m\u001b[0mk\u001b[0m\u001b[0;34m]\u001b[0m \u001b[0;34m=\u001b[0m \u001b[0mfeature_sum\u001b[0m\u001b[0;34m.\u001b[0m\u001b[0mget\u001b[0m\u001b[0;34m(\u001b[0m\u001b[0mk\u001b[0m\u001b[0;34m,\u001b[0m \u001b[0;36m0\u001b[0m\u001b[0;34m)\u001b[0m \u001b[0;34m+\u001b[0m \u001b[0md\u001b[0m\u001b[0;34m[\u001b[0m\u001b[0mk\u001b[0m\u001b[0;34m]\u001b[0m\u001b[0;34m\u001b[0m\u001b[0;34m\u001b[0m\u001b[0m\n\u001b[0m\u001b[1;32m     82\u001b[0m     \u001b[0;32mreturn\u001b[0m \u001b[0;34m(\u001b[0m\u001b[0;34m\"feature_sum_dic : \"\u001b[0m\u001b[0;34m,\u001b[0m \u001b[0mstr\u001b[0m\u001b[0;34m(\u001b[0m\u001b[0mfeature_sum\u001b[0m\u001b[0;34m)\u001b[0m\u001b[0;34m)\u001b[0m\u001b[0;34m\u001b[0m\u001b[0;34m\u001b[0m\u001b[0m\n\u001b[1;32m     83\u001b[0m \u001b[0;34m\u001b[0m\u001b[0m\n",
      "\u001b[0;31mTypeError\u001b[0m: unsupported operand type(s) for +: 'int' and 'str'"
     ]
    }
   ],
   "source": [
    "gitfeature_html(github_account_html)\n"
   ]
  },
  {
   "cell_type": "code",
   "execution_count": 60,
   "metadata": {},
   "outputs": [
    {
     "data": {
      "text/plain": [
       "{'watchers': '9',\n",
       " 'stars': '17',\n",
       " 'forks': '9',\n",
       " 'commits': '54',\n",
       " 'branches': '4'}"
      ]
     },
     "execution_count": 60,
     "metadata": {},
     "output_type": "execute_result"
    }
   ],
   "source": [
    "partial_repolink = '/DigixGlobal/solidity-collections-library'\n",
    "gitfeature_extract(partial_repolink)\n",
    "# href= '{}{}'.format(partial_repolink,'/watchers')\n",
    "# href\n"
   ]
  },
  {
   "cell_type": "code",
   "execution_count": 84,
   "metadata": {},
   "outputs": [],
   "source": [
    "html = requests.get(github_account_html)\n",
    "htmltxt = bs(html.text, 'html.parser')\n",
    "repohtml = htmltxt.find_all('a', class_=\"text-bold flex-auto \")\n",
    "    \n",
    "        \n",
    "partial_repolink_list = []\n",
    "for item in repohtml:\n",
    "    link = item.attrs['href']\n",
    "    partial_repolink_list.append(link)\n",
    "        \n",
    "        "
   ]
  },
  {
   "cell_type": "code",
   "execution_count": 85,
   "metadata": {},
   "outputs": [
    {
     "data": {
      "text/plain": [
       "['/DigixGlobal/solidity-collections-library',\n",
       " '/DigixGlobal/dijix',\n",
       " '/DigixGlobal/doxity',\n",
       " '/DigixGlobal/solidity-statemachine-library',\n",
       " '/DigixGlobal/dao-contracts']"
      ]
     },
     "execution_count": 85,
     "metadata": {},
     "output_type": "execute_result"
    }
   ],
   "source": [
    " partial_repolink_list"
   ]
  },
  {
   "cell_type": "code",
   "execution_count": 86,
   "metadata": {},
   "outputs": [
    {
     "data": {
      "text/plain": [
       "{'watchers': '9',\n",
       " 'stars': '17',\n",
       " 'forks': '9',\n",
       " 'commits': '54',\n",
       " 'branches': '4'}"
      ]
     },
     "execution_count": 86,
     "metadata": {},
     "output_type": "execute_result"
    }
   ],
   "source": [
    "gitfeature_extract('/DigixGlobal/solidity-collections-library')"
   ]
  },
  {
   "cell_type": "code",
   "execution_count": 87,
   "metadata": {},
   "outputs": [
    {
     "data": {
      "text/plain": [
       "{'watchers': '7', 'stars': '8', 'forks': '2', 'commits': '28', 'branches': '2'}"
      ]
     },
     "execution_count": 87,
     "metadata": {},
     "output_type": "execute_result"
    }
   ],
   "source": [
    "gitfeature_extract('/DigixGlobal/dijix')"
   ]
  },
  {
   "cell_type": "code",
   "execution_count": 88,
   "metadata": {},
   "outputs": [],
   "source": [
    "d_list = []\n",
    "feature_sum = {}\n",
    "for partial_repolink in partial_repolink_list:\n",
    "        feature_dic = gitfeature_extract(partial_repolink)\n",
    "        d_list.append(feature_dic)"
   ]
  },
  {
   "cell_type": "code",
   "execution_count": 89,
   "metadata": {},
   "outputs": [
    {
     "data": {
      "text/plain": [
       "[{'watchers': '9',\n",
       "  'stars': '17',\n",
       "  'forks': '9',\n",
       "  'commits': '54',\n",
       "  'branches': '4'},\n",
       " {'watchers': '7',\n",
       "  'stars': '8',\n",
       "  'forks': '2',\n",
       "  'commits': '28',\n",
       "  'branches': '2'},\n",
       " {'watchers': '18',\n",
       "  'stars': '174',\n",
       "  'forks': '49',\n",
       "  'commits': '58',\n",
       "  'branches': '2'},\n",
       " {'watchers': '7',\n",
       "  'stars': '15',\n",
       "  'forks': '4',\n",
       "  'commits': '35',\n",
       "  'branches': '4'},\n",
       " {'watchers': '7',\n",
       "  'stars': '22',\n",
       "  'forks': '2',\n",
       "  'commits': '77',\n",
       "  'branches': '12'}]"
      ]
     },
     "execution_count": 89,
     "metadata": {},
     "output_type": "execute_result"
    }
   ],
   "source": [
    "d_list"
   ]
  },
  {
   "cell_type": "code",
   "execution_count": 98,
   "metadata": {},
   "outputs": [],
   "source": [
    "for d in d_list:\n",
    "    for k in d.keys():\n",
    "        feature_sum[k] = feature_sum.get(k, 0) + int(d[k])\n",
    "        "
   ]
  },
  {
   "cell_type": "code",
   "execution_count": 99,
   "metadata": {},
   "outputs": [
    {
     "data": {
      "text/plain": [
       "{'watchers': 48, 'stars': 236, 'forks': 66, 'commits': 252, 'branches': 24}"
      ]
     },
     "execution_count": 99,
     "metadata": {},
     "output_type": "execute_result"
    }
   ],
   "source": [
    "feature_sum"
   ]
  },
  {
   "cell_type": "code",
   "execution_count": 97,
   "metadata": {},
   "outputs": [
    {
     "ename": "NameError",
     "evalue": "name 'gitfeature' is not defined",
     "output_type": "error",
     "traceback": [
      "\u001b[0;31m---------------------------------------------------------------------------\u001b[0m",
      "\u001b[0;31mNameError\u001b[0m                                 Traceback (most recent call last)",
      "\u001b[0;32m<ipython-input-97-e552402b4fe1>\u001b[0m in \u001b[0;36m<module>\u001b[0;34m()\u001b[0m\n\u001b[0;32m----> 1\u001b[0;31m \u001b[0mgitfeature\u001b[0m\u001b[0;34m[\u001b[0m\u001b[0;34m'watchers'\u001b[0m\u001b[0;34m]\u001b[0m\u001b[0;34m\u001b[0m\u001b[0;34m\u001b[0m\u001b[0m\n\u001b[0m",
      "\u001b[0;31mNameError\u001b[0m: name 'gitfeature' is not defined"
     ]
    }
   ],
   "source": [
    "gitfeature['watchers']"
   ]
  },
  {
   "cell_type": "code",
   "execution_count": 101,
   "metadata": {},
   "outputs": [
    {
     "data": {
      "text/plain": [
       "('feature_sum_dic : ',\n",
       " \"{'watchers': 48, 'stars': 236, 'forks': 66, 'commits': 252, 'branches': 24}\")"
      ]
     },
     "execution_count": 101,
     "metadata": {},
     "output_type": "execute_result"
    }
   ],
   "source": [
    "full_feature(partial_repolink_list)"
   ]
  },
  {
   "cell_type": "code",
   "execution_count": null,
   "metadata": {},
   "outputs": [],
   "source": []
  }
 ],
 "metadata": {
  "kernelspec": {
   "display_name": "Python 3",
   "language": "python",
   "name": "python3"
  },
  "language_info": {
   "codemirror_mode": {
    "name": "ipython",
    "version": 3
   },
   "file_extension": ".py",
   "mimetype": "text/x-python",
   "name": "python",
   "nbconvert_exporter": "python",
   "pygments_lexer": "ipython3",
   "version": "3.6.8"
  }
 },
 "nbformat": 4,
 "nbformat_minor": 2
}
