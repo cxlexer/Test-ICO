{
 "cells": [
  {
   "cell_type": "code",
   "execution_count": 6,
   "metadata": {},
   "outputs": [],
   "source": [
    "import json\n",
    "import numpy as np\n",
    "import requests\n",
    "import pandas as pd\n",
    "from bs4 import BeautifulSoup as bs"
   ]
  },
  {
   "cell_type": "code",
   "execution_count": 7,
   "metadata": {},
   "outputs": [],
   "source": [
    "RAW_DATA_FILEPATH = '/users/eric/PycharmProjects/testico/api_data.json'\n",
    "URL_FILEPATH = '/users/eric/PycharmProjects/testico/ico_urls.txt'\n",
    "TOKEN_FILE = '/users/eric/PycharmProjects/testico/token.csv'\n",
    "FULLDATA_FILE = '/users/eric/PycharmProjects/testico/fulldata.csv'\n",
    "NUMERICAL_DATA_FILE = '/users/eric/PycharmProjects/testico/full_num.csv'\n",
    "TEXT_DATA_FILE = '/users/eric/PycharmProjects/testico/textfeature_dataframe.csv'\n",
    "URL_COPY_FILEPATH = '/users/eric/PycharmProjects/testico/ico_urls copy.txt'"
   ]
  },
  {
   "cell_type": "code",
   "execution_count": 15,
   "metadata": {},
   "outputs": [],
   "source": [
    "githtml = requests.get('https://github.com/DigixGlobal/solidity-collections-library')"
   ]
  },
  {
   "cell_type": "code",
   "execution_count": 16,
   "metadata": {
    "scrolled": false
   },
   "outputs": [],
   "source": [
    "githtmltxt = bs(githtml.text, 'html.parser')\n"
   ]
  },
  {
   "cell_type": "code",
   "execution_count": 17,
   "metadata": {},
   "outputs": [],
   "source": [
    "githtmlbody = githtmltxt.body\n"
   ]
  },
  {
   "cell_type": "code",
   "execution_count": 18,
   "metadata": {},
   "outputs": [
    {
     "data": {
      "text/plain": [
       "[<a aria-label=\"9 users are watching this repository\" class=\"social-count\" href=\"/DigixGlobal/solidity-collections-library/watchers\">\n",
       "       9\n",
       "     </a>]"
      ]
     },
     "execution_count": 18,
     "metadata": {},
     "output_type": "execute_result"
    }
   ],
   "source": [
    "watch_html = githtmltxt.find_all(\n",
    "    'a', \n",
    "    class_=\"social-count\",\n",
    "   href=\"/DigixGlobal/solidity-collections-library/watchers\")\n",
    "watch_html"
   ]
  },
  {
   "cell_type": "code",
   "execution_count": 19,
   "metadata": {},
   "outputs": [
    {
     "data": {
      "text/plain": [
       "'9'"
      ]
     },
     "execution_count": 19,
     "metadata": {},
     "output_type": "execute_result"
    }
   ],
   "source": [
    "watch = watch_html[0].text.strip()\n",
    "watch"
   ]
  },
  {
   "cell_type": "code",
   "execution_count": 20,
   "metadata": {},
   "outputs": [],
   "source": [
    "stars_html = githtmltxt.find_all(\n",
    "    'a',\n",
    "    class_=\"social-count\",\n",
    "  href=\"/DigixGlobal/solidity-collections-library/stargazers\")"
   ]
  },
  {
   "cell_type": "code",
   "execution_count": 21,
   "metadata": {},
   "outputs": [
    {
     "data": {
      "text/plain": [
       "'17'"
      ]
     },
     "execution_count": 21,
     "metadata": {},
     "output_type": "execute_result"
    }
   ],
   "source": [
    "stars = stars_html[0].text.strip()\n",
    "stars"
   ]
  },
  {
   "cell_type": "code",
   "execution_count": 22,
   "metadata": {},
   "outputs": [
    {
     "data": {
      "text/plain": [
       "[<a aria-label=\"9 users forked this repository\" class=\"social-count\" href=\"/DigixGlobal/solidity-collections-library/network/members\">\n",
       "       9\n",
       "     </a>]"
      ]
     },
     "execution_count": 22,
     "metadata": {},
     "output_type": "execute_result"
    }
   ],
   "source": [
    "forks_html = githtmltxt.find_all(\n",
    "    'a',\n",
    "    href=\"/DigixGlobal/solidity-collections-library/network/members\",\n",
    "    class_=\"social-count\")\n",
    "forks_html"
   ]
  },
  {
   "cell_type": "code",
   "execution_count": 23,
   "metadata": {},
   "outputs": [
    {
     "data": {
      "text/plain": [
       "'9'"
      ]
     },
     "execution_count": 23,
     "metadata": {},
     "output_type": "execute_result"
    }
   ],
   "source": [
    "forks = forks_html[0].text.strip()\n",
    "forks"
   ]
  },
  {
   "cell_type": "code",
   "execution_count": 24,
   "metadata": {},
   "outputs": [
    {
     "ename": "SyntaxError",
     "evalue": "invalid syntax (<ipython-input-24-73b62ba4f29c>, line 1)",
     "output_type": "error",
     "traceback": [
      "\u001b[0;36m  File \u001b[0;32m\"<ipython-input-24-73b62ba4f29c>\"\u001b[0;36m, line \u001b[0;32m1\u001b[0m\n\u001b[0;31m    <svg class=\"octicon octicon-history\" viewBox=\"0 0 14 16\" version=\"1.1\" width=\"14\" height=\"16\" aria-hidden=\"true\"><path fill-rule=\"evenodd\" d=\"M8 13H6V6h5v2H8v5zM7 1C4.81 1 2.87 2.02 1.59 3.59L0 2v4h4L2.5 4.5C3.55 3.17 5.17 2.3 7 2.3c3.14 0 5.7 2.56 5.7 5.7s-2.56 5.7-5.7 5.7A5.71 5.71 0 0 1 1.3 8c0-.34.03-.67.09-1H.08C.03 7.33 0 7.66 0 8c0 3.86 3.14 7 7 7s7-3.14 7-7-3.14-7-7-7z\"></path></svg>\u001b[0m\n\u001b[0m    ^\u001b[0m\n\u001b[0;31mSyntaxError\u001b[0m\u001b[0;31m:\u001b[0m invalid syntax\n"
     ]
    }
   ],
   "source": [
    "<svg class=\"octicon octicon-history\" viewBox=\"0 0 14 16\" version=\"1.1\" width=\"14\" height=\"16\" aria-hidden=\"true\"><path fill-rule=\"evenodd\" d=\"M8 13H6V6h5v2H8v5zM7 1C4.81 1 2.87 2.02 1.59 3.59L0 2v4h4L2.5 4.5C3.55 3.17 5.17 2.3 7 2.3c3.14 0 5.7 2.56 5.7 5.7s-2.56 5.7-5.7 5.7A5.71 5.71 0 0 1 1.3 8c0-.34.03-.67.09-1H.08C.03 7.33 0 7.66 0 8c0 3.86 3.14 7 7 7s7-3.14 7-7-3.14-7-7-7z\"></path></svg>\n",
    "<span class=\"num text-emphasized\">\n",
    "              4\n",
    "            </span>"
   ]
  },
  {
   "cell_type": "code",
   "execution_count": 25,
   "metadata": {},
   "outputs": [
    {
     "data": {
      "text/plain": [
       "[<span class=\"num text-emphasized\">\n",
       "                 54\n",
       "               </span>, <span class=\"num text-emphasized\">\n",
       "               4\n",
       "             </span>, <span class=\"num text-emphasized\">\n",
       "               0\n",
       "             </span>, <span class=\"num text-emphasized\"></span>]"
      ]
     },
     "execution_count": 25,
     "metadata": {},
     "output_type": "execute_result"
    }
   ],
   "source": [
    "nnn = githtmltxt.find_all(\n",
    "    'span', class_=\"num text-emphasized\")\n",
    "nnn"
   ]
  },
  {
   "cell_type": "code",
   "execution_count": 26,
   "metadata": {},
   "outputs": [
    {
     "data": {
      "text/plain": [
       "<span class=\"num text-emphasized\">\n",
       "                54\n",
       "              </span>"
      ]
     },
     "execution_count": 26,
     "metadata": {},
     "output_type": "execute_result"
    }
   ],
   "source": [
    "nnn[0]"
   ]
  },
  {
   "cell_type": "code",
   "execution_count": 27,
   "metadata": {},
   "outputs": [
    {
     "data": {
      "text/plain": [
       "'54'"
      ]
     },
     "execution_count": 27,
     "metadata": {},
     "output_type": "execute_result"
    }
   ],
   "source": [
    "commits = nnn[0].text.strip()\n",
    "commits"
   ]
  },
  {
   "cell_type": "code",
   "execution_count": 28,
   "metadata": {},
   "outputs": [
    {
     "data": {
      "text/plain": [
       "'4'"
      ]
     },
     "execution_count": 28,
     "metadata": {},
     "output_type": "execute_result"
    }
   ],
   "source": [
    "branches = nnn[1].text.strip()\n",
    "branches"
   ]
  },
  {
   "cell_type": "code",
   "execution_count": 29,
   "metadata": {},
   "outputs": [
    {
     "data": {
      "text/plain": [
       "'0'"
      ]
     },
     "execution_count": 29,
     "metadata": {},
     "output_type": "execute_result"
    }
   ],
   "source": [
    "releases = nnn[2].text.strip()\n",
    "releases"
   ]
  },
  {
   "cell_type": "code",
   "execution_count": 30,
   "metadata": {},
   "outputs": [],
   "source": [
    "gitfeature_name = ['watchers', 'stars', 'forks', 'commits', 'branches']"
   ]
  },
  {
   "cell_type": "code",
   "execution_count": 31,
   "metadata": {},
   "outputs": [],
   "source": [
    "gitfeature_num = [watch, stars, forks, commits, branches]\n"
   ]
  },
  {
   "cell_type": "code",
   "execution_count": 32,
   "metadata": {},
   "outputs": [],
   "source": [
    "pp = list(zip(gitfeature_name, gitfeature_num))"
   ]
  },
  {
   "cell_type": "code",
   "execution_count": 33,
   "metadata": {},
   "outputs": [
    {
     "data": {
      "text/plain": [
       "[('watchers', '9'),\n",
       " ('stars', '17'),\n",
       " ('forks', '9'),\n",
       " ('commits', '54'),\n",
       " ('branches', '4')]"
      ]
     },
     "execution_count": 33,
     "metadata": {},
     "output_type": "execute_result"
    }
   ],
   "source": [
    "pp"
   ]
  },
  {
   "cell_type": "code",
   "execution_count": 34,
   "metadata": {},
   "outputs": [],
   "source": [
    "\n",
    "\n",
    "\n",
    "\n",
    "#get link of all repos within the ICO github account\n",
    "\n",
    "\n",
    "\n",
    "\n",
    "html = requests.get('https://github.com/DigixGlobal')"
   ]
  },
  {
   "cell_type": "code",
   "execution_count": 35,
   "metadata": {},
   "outputs": [],
   "source": [
    "htmltxt = bs(html.text, 'html.parser')\n",
    "repohtml = htmltxt.find_all('a', class_=\"text-bold flex-auto \")\n"
   ]
  },
  {
   "cell_type": "code",
   "execution_count": 36,
   "metadata": {},
   "outputs": [],
   "source": [
    "link = repohtml[0]"
   ]
  },
  {
   "cell_type": "code",
   "execution_count": 37,
   "metadata": {},
   "outputs": [
    {
     "data": {
      "text/plain": [
       "<a class=\"text-bold flex-auto \" href=\"/DigixGlobal/solidity-collections-library\">\n",
       "<span class=\"repo js-pinnable-item\" title=\"solidity-collections-library\">solidity-collections-library</span>\n",
       "</a>"
      ]
     },
     "execution_count": 37,
     "metadata": {},
     "output_type": "execute_result"
    }
   ],
   "source": [
    "link"
   ]
  },
  {
   "cell_type": "code",
   "execution_count": 38,
   "metadata": {},
   "outputs": [
    {
     "data": {
      "text/plain": [
       "'/DigixGlobal/solidity-collections-library'"
      ]
     },
     "execution_count": 38,
     "metadata": {},
     "output_type": "execute_result"
    }
   ],
   "source": [
    "link.attrs['href']"
   ]
  },
  {
   "cell_type": "code",
   "execution_count": 39,
   "metadata": {},
   "outputs": [],
   "source": [
    "repolink = []\n",
    "for item in repohtml:\n",
    "    link = item.attrs['href']\n",
    "    repolink.append(link)"
   ]
  },
  {
   "cell_type": "code",
   "execution_count": 43,
   "metadata": {},
   "outputs": [
    {
     "data": {
      "text/plain": [
       "['/DigixGlobal/solidity-collections-library',\n",
       " '/DigixGlobal/dijix',\n",
       " '/DigixGlobal/doxity',\n",
       " '/DigixGlobal/solidity-statemachine-library',\n",
       " '/DigixGlobal/dao-contracts']"
      ]
     },
     "execution_count": 43,
     "metadata": {},
     "output_type": "execute_result"
    }
   ],
   "source": [
    "repolink"
   ]
  },
  {
   "cell_type": "code",
   "execution_count": 51,
   "metadata": {},
   "outputs": [],
   "source": [
    "a = 'https://github.com'\n",
    "fulllink_list=[]"
   ]
  },
  {
   "cell_type": "code",
   "execution_count": 52,
   "metadata": {},
   "outputs": [],
   "source": [
    "for link in repolink:\n",
    "      fulllink = '{}{}'.format(a,link)\n",
    "      fulllink_list.append(fulllink)\n",
    "      "
   ]
  },
  {
   "cell_type": "code",
   "execution_count": 53,
   "metadata": {},
   "outputs": [
    {
     "data": {
      "text/plain": [
       "['https://github.com/DigixGlobal/solidity-collections-library',\n",
       " 'https://github.com/DigixGlobal/dijix',\n",
       " 'https://github.com/DigixGlobal/doxity',\n",
       " 'https://github.com/DigixGlobal/solidity-statemachine-library',\n",
       " 'https://github.com/DigixGlobal/dao-contracts']"
      ]
     },
     "execution_count": 53,
     "metadata": {},
     "output_type": "execute_result"
    }
   ],
   "source": [
    "fulllink_list"
   ]
  },
  {
   "cell_type": "code",
   "execution_count": null,
   "metadata": {},
   "outputs": [],
   "source": []
  },
  {
   "cell_type": "code",
   "execution_count": null,
   "metadata": {},
   "outputs": [],
   "source": []
  },
  {
   "cell_type": "code",
   "execution_count": null,
   "metadata": {},
   "outputs": [],
   "source": []
  },
  {
   "cell_type": "code",
   "execution_count": null,
   "metadata": {},
   "outputs": [],
   "source": []
  },
  {
   "cell_type": "code",
   "execution_count": 101,
   "metadata": {},
   "outputs": [],
   "source": [
    "def gitfeature_html(github_account_html):\n",
    "    html = requests.get(github_account_html)\n",
    "    html.txt = bs(html.text, 'html.parser')\n",
    "    repohtml = htmltxt.find_all('a', class_=\"text-bold flex-auto \")\n",
    "    partial_repolink_list = []\n",
    "    \n",
    "    for item in repohtml:\n",
    "        link = item.attrs['href']\n",
    "        partial_repolink_list.append(link)\n",
    "    \n",
    "    a = 'https://github.com'\n",
    "    fulllink_list=[]\n",
    "    for link in partial_repolink_list:\n",
    "        fulllink = '{}{}'.format(a,link)\n",
    "        fulllink_list.append(fulllink)\n",
    "    return partial_repolink_list, fulllink_list\n",
    "\n",
    "\n",
    "\n",
    "# gitfeature = {\n",
    "#         'watchers': 0,\n",
    "#         'stars':0,\n",
    "#         'forks':0,\n",
    "#         'commits':0,\n",
    "#         'braches':0\n",
    "#     }\n",
    "def gitfeature_extract(partial_repolink):\n",
    "    a = 'https://github.com'\n",
    "    full_repolink = '{}{}'.format(a, partial_repolink)\n",
    "    githtml = requests.get(full_repolink)\n",
    "    githtmltxt = bs(githtml.text, 'html.parser')\n",
    "    watch_html = githtmltxt.find_all(\n",
    "        'a', \n",
    "        class_=\"social-count\",\n",
    "        href= '{}{}'.format(partial_repolink,'watchers')\n",
    "    )\n",
    "    watch = watch_html[0].text.strip()\n",
    "    stars_html = githtmltxt.find_all(\n",
    "        'a',\n",
    "        class_=\"social-count\",\n",
    "        href= '{}{}'.format(partial_repolink,'stargazers')\n",
    "    )\n",
    "    stars = stars_html[0].text.strip()\n",
    "    forks_html = githtmltxt.find_all(\n",
    "        'a',\n",
    "        href= '{}{}'.format(partial_repolink,'members',\n",
    "        class_=\"social-count\")\n",
    "    )\n",
    "    forks = forks_html[0].text.strip()\n",
    "\n",
    "    otherfeature_html = githtmltxt.find_all(\n",
    "       'span', class_=\"num text-emphasized\")\n",
    "    commits = otherfeature_html[0].text.strip()\n",
    "    branches = otherfeature_html[1].text.strip()\n",
    "    releases = otherfeature_html[2].text.strip()\n",
    "    gitfeature = {\n",
    "        'watchers':watch,\n",
    "        'stars': stars,\n",
    "        'forks':forks, \n",
    "        'commits':commits,\n",
    "        'branches':branches}\n",
    "    return gitfeature\n",
    "\n",
    "def fullfeatyure(partial_repolink):\n",
    "    d_list = []\n",
    "    feature_sum = {}\n",
    "    \n",
    "    for partial_repolink in partial_repolink_list:\n",
    "        feature_dic = gitfeature_extract(partial_repolink)\n",
    "        d_list.append(feature_dic)\n",
    "    for d in d_list:\n",
    "        for k in d.keys()\n",
    "            feature_sum[k] = feature_sum.get(k, 0) + d[k]\n",
    "    return feature_sum\n",
    "\n",
    "            \n",
    "            \n",
    "        \n",
    "    \n",
    "        \n",
    "        \n",
    "    \n",
    "    #creating dictionaries instead\n",
    "    \n",
    "        sum(x, y)\n",
    "\n",
    "\n",
    "    \n",
    "        \n",
    "\n",
    "\n",
    "        \n",
    "    \n",
    "    "
   ]
  },
  {
   "cell_type": "code",
   "execution_count": 102,
   "metadata": {},
   "outputs": [],
   "source": [
    "a = [('a', 0), ('b', 1) ]"
   ]
  },
  {
   "cell_type": "code",
   "execution_count": 104,
   "metadata": {},
   "outputs": [
    {
     "data": {
      "text/plain": [
       "['a', 'b']"
      ]
     },
     "execution_count": 104,
     "metadata": {},
     "output_type": "execute_result"
    }
   ],
   "source": [
    "[ item[0] for item in a]"
   ]
  },
  {
   "cell_type": "code",
   "execution_count": 105,
   "metadata": {},
   "outputs": [],
   "source": [
    "b = {'a': 0, 'b': 1}"
   ]
  },
  {
   "cell_type": "code",
   "execution_count": 109,
   "metadata": {},
   "outputs": [],
   "source": [
    "b['b'] += 1"
   ]
  },
  {
   "cell_type": "code",
   "execution_count": 110,
   "metadata": {},
   "outputs": [
    {
     "data": {
      "text/plain": [
       "2"
      ]
     },
     "execution_count": 110,
     "metadata": {},
     "output_type": "execute_result"
    }
   ],
   "source": [
    "b['b']"
   ]
  },
  {
   "cell_type": "code",
   "execution_count": null,
   "metadata": {},
   "outputs": [],
   "source": []
  }
 ],
 "metadata": {
  "kernelspec": {
   "display_name": "Python 3",
   "language": "python",
   "name": "python3"
  },
  "language_info": {
   "codemirror_mode": {
    "name": "ipython",
    "version": 3
   },
   "file_extension": ".py",
   "mimetype": "text/x-python",
   "name": "python",
   "nbconvert_exporter": "python",
   "pygments_lexer": "ipython3",
   "version": "3.6.8"
  }
 },
 "nbformat": 4,
 "nbformat_minor": 2
}
