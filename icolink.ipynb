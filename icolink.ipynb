{
 "cells": [
  {
   "cell_type": "code",
   "execution_count": null,
   "metadata": {},
   "outputs": [],
   "source": [
    "from bs4 import BeautifulSoup as bs"
   ]
  },
  {
   "cell_type": "code",
   "execution_count": null,
   "metadata": {},
   "outputs": [],
   "source": [
    "import json\n",
    "import numpy as np\n",
    "import requests\n",
    "import pandas as pd\n",
    "from bs4 import BeautifulSoup as bs"
   ]
  },
  {
   "cell_type": "code",
   "execution_count": null,
   "metadata": {},
   "outputs": [],
   "source": [
    "RAW_DATA_FILEPATH = '/users/eric/PycharmProjects/testico/api_data.json'\n",
    "URL_FILEPATH = '/users/eric/PycharmProjects/testico/ico_urls.txt'\n",
    "TOKEN_FILE = '/users/eric/PycharmProjects/testico/token.csv'\n",
    "FULLDATA_FILE = '/users/eric/PycharmProjects/testico/fulldata.csv'\n",
    "NUMERICAL_DATA_FILE = '/users/eric/PycharmProjects/testico/full_num.csv'\n",
    "TEXT_DATA_FILE = '/users/eric/PycharmProjects/testico/textfeature_dataframe.csv'\n",
    "URL_COPY_FILEPATH = '/users/eric/PycharmProjects/testico/ico_urls copy.txt'"
   ]
  },
  {
   "cell_type": "code",
   "execution_count": null,
   "metadata": {},
   "outputs": [],
   "source": [
    "with open('example.html', encoding='latin-1') as f: \n",
    "    data = f.read() "
   ]
  },
  {
   "cell_type": "code",
   "execution_count": null,
   "metadata": {},
   "outputs": [],
   "source": [
    "get_github_link(data)"
   ]
  },
  {
   "cell_type": "code",
   "execution_count": null,
   "metadata": {},
   "outputs": [],
   "source": []
  },
  {
   "cell_type": "code",
   "execution_count": null,
   "metadata": {},
   "outputs": [],
   "source": [
    "data =  bs(data, 'html.parser')"
   ]
  },
  {
   "cell_type": "code",
   "execution_count": null,
   "metadata": {},
   "outputs": [],
   "source": [
    "data_body = data.body"
   ]
  },
  {
   "cell_type": "code",
   "execution_count": null,
   "metadata": {},
   "outputs": [],
   "source": []
  },
  {
   "cell_type": "code",
   "execution_count": null,
   "metadata": {},
   "outputs": [],
   "source": [
    "html = data_body.find_all(\"div\", class_=\"col-xs-6 col-md-9\")"
   ]
  },
  {
   "cell_type": "code",
   "execution_count": null,
   "metadata": {},
   "outputs": [],
   "source": []
  },
  {
   "cell_type": "code",
   "execution_count": null,
   "metadata": {},
   "outputs": [],
   "source": []
  },
  {
   "cell_type": "code",
   "execution_count": null,
   "metadata": {},
   "outputs": [],
   "source": [
    "icon = html[0]\n"
   ]
  },
  {
   "cell_type": "code",
   "execution_count": null,
   "metadata": {},
   "outputs": [],
   "source": [
    "icon = icon.contents\n",
    "icon"
   ]
  },
  {
   "cell_type": "code",
   "execution_count": null,
   "metadata": {},
   "outputs": [],
   "source": [
    "link = [item for item in icon if not item == '\\n']"
   ]
  },
  {
   "cell_type": "code",
   "execution_count": null,
   "metadata": {},
   "outputs": [],
   "source": [
    "link = []"
   ]
  },
  {
   "cell_type": "code",
   "execution_count": null,
   "metadata": {},
   "outputs": [],
   "source": [
    "for item in icon:\n",
    "    if not item == '\\n':\n",
    "        link.append(item)\n"
   ]
  },
  {
   "cell_type": "code",
   "execution_count": null,
   "metadata": {},
   "outputs": [],
   "source": [
    "hello = link[0]"
   ]
  },
  {
   "cell_type": "code",
   "execution_count": null,
   "metadata": {},
   "outputs": [],
   "source": [
    "hello"
   ]
  },
  {
   "cell_type": "code",
   "execution_count": null,
   "metadata": {},
   "outputs": [],
   "source": []
  },
  {
   "cell_type": "code",
   "execution_count": null,
   "metadata": {},
   "outputs": [],
   "source": [
    "hello.get('href')"
   ]
  },
  {
   "cell_type": "code",
   "execution_count": null,
   "metadata": {},
   "outputs": [],
   "source": [
    "linktxt=[]\n",
    "for xx in link:\n",
    "    bb = xx.get('href')\n",
    "    linktxt.append(bb)\n",
    "linktxt"
   ]
  },
  {
   "cell_type": "code",
   "execution_count": null,
   "metadata": {},
   "outputs": [],
   "source": [
    "for xx in linktxt:\n",
    "    if 'github' in xx:\n",
    "        print('Yes')"
   ]
  },
  {
   "cell_type": "code",
   "execution_count": null,
   "metadata": {},
   "outputs": [],
   "source": [
    "web =  data_body.find_all(\"div\", class_=\"col-xs-6 col-md-6\")[1].contents\n"
   ]
  },
  {
   "cell_type": "code",
   "execution_count": null,
   "metadata": {},
   "outputs": [],
   "source": []
  },
  {
   "cell_type": "code",
   "execution_count": null,
   "metadata": {},
   "outputs": [],
   "source": [
    "web"
   ]
  },
  {
   "cell_type": "code",
   "execution_count": null,
   "metadata": {},
   "outputs": [],
   "source": [
    "website=[ii for ii in web if not ii == '\\n']"
   ]
  },
  {
   "cell_type": "code",
   "execution_count": null,
   "metadata": {},
   "outputs": [],
   "source": [
    "website"
   ]
  },
  {
   "cell_type": "code",
   "execution_count": null,
   "metadata": {},
   "outputs": [],
   "source": [
    "websitelink = []\n",
    "for tag in website:\n",
    "    tagg = tag.get('href')\n",
    "    websitelink.append(tagg)"
   ]
  },
  {
   "cell_type": "code",
   "execution_count": null,
   "metadata": {},
   "outputs": [],
   "source": [
    "websitelink\n"
   ]
  },
  {
   "cell_type": "code",
   "execution_count": null,
   "metadata": {},
   "outputs": [],
   "source": []
  },
  {
   "cell_type": "code",
   "execution_count": null,
   "metadata": {},
   "outputs": [],
   "source": [
    "def get_github_link(html):\n",
    "    html1 = bs(html, 'html.parser')\n",
    "    html_body = html1.body\n",
    "    html2 = html_body.find_all(\"div\", class_=\"col-xs-6 col-md-9\")\n",
    "    icon = html2[0]\n",
    "    icon1 = icon.contents\n",
    "    link = [item for item in icon1 if not item == '\\n']\n",
    "    linktxt= []\n",
    "    for xx in link:\n",
    "        bb = xx.get('href')\n",
    "        linktxt.append(bb)\n",
    "    \n",
    "    for xx in linktxt:\n",
    "        if 'github' in xx:\n",
    "            return xx\n",
    "    \n",
    "    return None\n",
    " "
   ]
  },
  {
   "cell_type": "code",
   "execution_count": null,
   "metadata": {},
   "outputs": [],
   "source": [
    "def get_webpage_link(html):\n",
    "    html1 = bs(html, 'html.parser')\n",
    "    html_body = html1.body\n",
    "    html2 = html_body.find_all(\n",
    "        \"div\", class_=\"col-xs-6 col-md-6\")[1].contents\n",
    "    website = [ii for ii in  if not ii == '\\n'][0]\n",
    "    return website.get('href')\n"
   ]
  },
  {
   "cell_type": "code",
   "execution_count": null,
   "metadata": {},
   "outputs": [],
   "source": [
    "get_webpage_link(data)"
   ]
  },
  {
   "cell_type": "code",
   "execution_count": null,
   "metadata": {},
   "outputs": [],
   "source": [
    "get_github_link(data_body)"
   ]
  },
  {
   "cell_type": "code",
   "execution_count": null,
   "metadata": {},
   "outputs": [],
   "source": [
    "\n",
    "\n",
    "def get_webpage_link(html_body):\n",
    "\n",
    "    html = html_body.find_all(\"div\", class_=\"col-xs-6 col-md-6\")\n",
    "    if len(html) == 0:\n",
    "        return None\n",
    "    html2 = html[1]\n",
    "    html3 = html2.contents\n",
    "    website = [ii for ii in html3 if not ii == '\\n'][0]\n",
    "    weblink = website.get('href')\n",
    "    return weblink\n",
    "\n",
    "\n",
    "def get_github_link(html_body):\n",
    "\n",
    "    html2 = html_body.find_all(\"div\", class_=\"col-xs-6 col-md-9\")\n",
    "    if len(html2) == 0:\n",
    "        return None\n",
    "    icon = html2[0]\n",
    "    icon1 = icon.contents\n",
    "    link = [item for item in icon1 if not item == '\\n']\n",
    "    linktxt = []\n",
    "    for xx in link:\n",
    "        bb = xx.get('href')\n",
    "        linktxt.append(bb)\n",
    "\n",
    "    for xx in linktxt:\n",
    "        if 'github' in xx:\n",
    "            return xx\n",
    "\n",
    "    return None\n",
    "\n",
    "\n",
    "\n",
    "\n",
    "with open(URL_FILEPATH, 'r') as f:\n",
    "    urls = f.readlines()\n",
    "\n",
    "urls = [url.strip('\\n') for url in urls]\n",
    "results = []\n",
    "for url in urls:\n",
    "    html = requests.get(url)\n",
    "    htmltxt = bs(html.text, 'html.parser')\n",
    "    htmlbody = htmltxt.body\n",
    "    heads = htmlbody.find_all(\"div\", class_=\"col-xs-6 col-md-3\")[2:]\n",
    "    heads = [head.text.strip().split('\\n')[0] for head in heads]\n",
    "    datas = htmlbody.find_all(\"div\", class_=\"col-xs-6 col-md-9\")[2:]\n",
    "    datas = [data.text.strip().split('\\n')[0] for data in datas]\n",
    "    ico_results = list(zip(heads, datas))\n",
    "    \n",
    "    \n",
    "    github_link = get_github_link(htmlbody)\n",
    "    website_link = get_webpage_link(htmlbody)\n",
    "     \n",
    "    ico_results.append(('Github URL', github_link))\n",
    "    ico_results.append(('Official Website', website_link))\n",
    "\n",
    "    results.append(ico_results)\n",
    "\n",
    "\n"
   ]
  },
  {
   "cell_type": "code",
   "execution_count": null,
   "metadata": {},
   "outputs": [],
   "source": [
    "results[0]"
   ]
  },
  {
   "cell_type": "code",
   "execution_count": null,
   "metadata": {},
   "outputs": [],
   "source": [
    "results[1]"
   ]
  },
  {
   "cell_type": "code",
   "execution_count": null,
   "metadata": {},
   "outputs": [],
   "source": [
    "final_results = []\n",
    "for result in results:\n",
    "    dict_result = {key: value for (key, value) in result}\n",
    "    final_results.append(dict_result)\n",
    "\n",
    "for idx, url in enumerate(urls):\n",
    "    name = url.split('/')[-1]\n",
    "    final_results[idx]['name'] = name\n",
    "    final_results[idx]['url'] = url\n",
    "\n",
    "df = pd.DataFrame(final_results)\n",
    "# df.to_csv('token.csv', index=False)\n",
    "#df.to_csv('token_new.csv', index=False)\n",
    "#df.to_csv(TOKEN_FILE, index=False)\n",
    "\n",
    "# scraped_data = pd.read_csv(TOKEN_FILE)\n",
    "# with open(RAW_DATA_FILEPATH, 'r') as f:\n",
    "#     api_data = json.load(f)\n",
    "# api_data = api_data['ico']['finished']\n",
    "# api_df = pd.DataFrame(api_data)\n",
    "#\n",
    "# api_df.rename(columns={'all_time_roi': 'ROI', 'coin_symbol': 'Coin Symbol', 'icowatchlist_url': 'url'},\n",
    "#               inplace=True)\n",
    "# cols_to_use = api_df.columns.difference(scraped_data.columns)\n",
    "#\n",
    "# fulldata = pd.merge(scraped_data, api_df[cols_to_use], left_index=True, right_index=True, how='outer')\n",
    "# fulldata.to_csv(FULLDATA_FILE)\n",
    "#\n",
    "\n"
   ]
  },
  {
   "cell_type": "code",
   "execution_count": null,
   "metadata": {},
   "outputs": [],
   "source": []
  },
  {
   "cell_type": "code",
   "execution_count": null,
   "metadata": {},
   "outputs": [],
   "source": [
    "df\n"
   ]
  },
  {
   "cell_type": "code",
   "execution_count": null,
   "metadata": {},
   "outputs": [],
   "source": [
    "df.count()"
   ]
  },
  {
   "cell_type": "code",
   "execution_count": null,
   "metadata": {},
   "outputs": [],
   "source": [
    "full = pd.read_csv(FULLDATA_FILE, index_col=0 )"
   ]
  },
  {
   "cell_type": "code",
   "execution_count": null,
   "metadata": {},
   "outputs": [],
   "source": [
    "full."
   ]
  },
  {
   "cell_type": "code",
   "execution_count": null,
   "metadata": {},
   "outputs": [],
   "source": [
    "full.dropna(subset=['Github URL'], inplace=True)"
   ]
  },
  {
   "cell_type": "code",
   "execution_count": null,
   "metadata": {},
   "outputs": [],
   "source": [
    "full"
   ]
  },
  {
   "cell_type": "code",
   "execution_count": null,
   "metadata": {},
   "outputs": [],
   "source": [
    "\n",
    "githtml = requests.get('https://github.com/DigixGlobal/solidity-collections-library')"
   ]
  },
  {
   "cell_type": "code",
   "execution_count": null,
   "metadata": {
    "scrolled": true
   },
   "outputs": [],
   "source": [
    "print(githtml.text)"
   ]
  },
  {
   "cell_type": "code",
   "execution_count": null,
   "metadata": {},
   "outputs": [],
   "source": [
    "githtmltxt = bs(githtml.text, 'html.parser')"
   ]
  },
  {
   "cell_type": "code",
   "execution_count": null,
   "metadata": {},
   "outputs": [],
   "source": [
    "type(githtmltxt)"
   ]
  },
  {
   "cell_type": "code",
   "execution_count": null,
   "metadata": {},
   "outputs": [],
   "source": [
    "githtmlbody = githtmltxt.body"
   ]
  },
  {
   "cell_type": "code",
   "execution_count": null,
   "metadata": {
    "scrolled": true
   },
   "outputs": [],
   "source": [
    "print(githtmlbody)"
   ]
  },
  {
   "cell_type": "code",
   "execution_count": null,
   "metadata": {},
   "outputs": [],
   "source": []
  },
  {
   "cell_type": "code",
   "execution_count": null,
   "metadata": {},
   "outputs": [],
   "source": [
    "watch = githtmltxt.find_all(\n",
    "    'a', class_=\"social-count js-social-count\",\n",
    "   href=\"/DigixGlobal/solidity-collections-library/watchers\")\n",
    "watch"
   ]
  },
  {
   "cell_type": "code",
   "execution_count": null,
   "metadata": {},
   "outputs": [],
   "source": [
    "output = watch[0]"
   ]
  },
  {
   "cell_type": "code",
   "execution_count": null,
   "metadata": {},
   "outputs": [],
   "source": [
    "output.text.strip()"
   ]
  },
  {
   "cell_type": "code",
   "execution_count": null,
   "metadata": {},
   "outputs": [],
   "source": [
    "watch"
   ]
  },
  {
   "cell_type": "code",
   "execution_count": null,
   "metadata": {},
   "outputs": [],
   "source": [
    "stars = githtmltxt.find_all(\n",
    "    'a',\n",
    "    class_=\"social-count js-social-count\",\n",
    "href=\"/DigixGlobal/solidity-collections-library/stargazers\")"
   ]
  },
  {
   "cell_type": "code",
   "execution_count": null,
   "metadata": {},
   "outputs": [],
   "source": [
    "stars"
   ]
  },
  {
   "cell_type": "code",
   "execution_count": null,
   "metadata": {},
   "outputs": [],
   "source": [
    "output2 = stars[0].text.strip()"
   ]
  },
  {
   "cell_type": "code",
   "execution_count": null,
   "metadata": {},
   "outputs": [],
   "source": [
    "output2"
   ]
  },
  {
   "cell_type": "code",
   "execution_count": null,
   "metadata": {},
   "outputs": [],
   "source": [
    "<a class=\"social-count js-social-count\" href=\"/DigixGlobal/solidity-collections-library/watchers\" aria-label=\"9 users are watching this repository\">\n",
    "          9\n",
    "        </a>"
   ]
  }
 ],
 "metadata": {
  "kernelspec": {
   "display_name": "Python 3",
   "language": "python",
   "name": "python3"
  },
  "language_info": {
   "codemirror_mode": {
    "name": "ipython",
    "version": 3
   },
   "file_extension": ".py",
   "mimetype": "text/x-python",
   "name": "python",
   "nbconvert_exporter": "python",
   "pygments_lexer": "ipython3",
   "version": "3.6.8"
  }
 },
 "nbformat": 4,
 "nbformat_minor": 2
}
